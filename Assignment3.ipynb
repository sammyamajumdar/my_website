{
  "nbformat": 4,
  "nbformat_minor": 0,
  "metadata": {
    "colab": {
      "provenance": [],
      "authorship_tag": "ABX9TyMH2EJI3Dde3vBToJKT+2t/",
      "include_colab_link": true
    },
    "kernelspec": {
      "name": "python3",
      "display_name": "Python 3"
    },
    "language_info": {
      "name": "python"
    }
  },
  "cells": [
    {
      "cell_type": "markdown",
      "metadata": {
        "id": "view-in-github",
        "colab_type": "text"
      },
      "source": [
        "<a href=\"https://colab.research.google.com/github/sammyamajumdar/my_website/blob/main/Assignment3.ipynb\" target=\"_parent\"><img src=\"https://colab.research.google.com/assets/colab-badge.svg\" alt=\"Open In Colab\"/></a>"
      ]
    },
    {
      "cell_type": "code",
      "execution_count": null,
      "metadata": {
        "colab": {
          "base_uri": "https://localhost:8080/"
        },
        "id": "jL9p4uBwrYas",
        "outputId": "90274d18-8ee4-4f51-fd63-6284f1a1dd62"
      },
      "outputs": [
        {
          "output_type": "stream",
          "name": "stdout",
          "text": [
            "banana\n",
            "orange\n",
            "pear\n"
          ]
        },
        {
          "output_type": "execute_result",
          "data": {
            "text/plain": [
              "['banana', 'orange', 'pear']"
            ]
          },
          "metadata": {},
          "execution_count": 8
        }
      ],
      "source": [
        "stock={\n",
        "    'banana':6,\n",
        "    'apple' :0,\n",
        "    'orange' :32,\n",
        "    'pear' :15\n",
        "}\n",
        "\n",
        "prices={\n",
        "    'banana':4,\n",
        "    'apple' :2,\n",
        "    'orange' :1.5,\n",
        "    'pear' :3\n",
        "}\n",
        "\n",
        "# 1.1 print name of fruits currently in stock\n",
        "stock_fruits = []\n",
        "for key in stock: \n",
        "    if stock[key] != 0:\n",
        "        stock_fruits.append(key)\n",
        "        print(key)\n",
        "stock_fruits"
      ]
    },
    {
      "cell_type": "code",
      "source": [
        "#1.2\n",
        "# total value of fruits currently in stock\n",
        "revenue = 0\n",
        "for item in stock_fruits:\n",
        "    revenue += prices[item]\n",
        "\n",
        "revenue\n",
        "\n"
      ],
      "metadata": {
        "colab": {
          "base_uri": "https://localhost:8080/"
        },
        "id": "kYYel-OYs7xm",
        "outputId": "7ca3ca3d-a001-493d-93a8-f29dbc1da9e3"
      },
      "execution_count": null,
      "outputs": [
        {
          "output_type": "execute_result",
          "data": {
            "text/plain": [
              "8.5"
            ]
          },
          "metadata": {},
          "execution_count": 9
        }
      ]
    },
    {
      "cell_type": "code",
      "source": [
        "#1.3 Sell 10kg Kiwi at 5GBP/kg\n",
        "stock['kiwi'] = 10\n",
        "prices['kiwi'] = 5\n",
        "\n",
        "#print updated dicts\n",
        "print(stock)\n",
        "print(prices)"
      ],
      "metadata": {
        "colab": {
          "base_uri": "https://localhost:8080/"
        },
        "id": "A0BYXQ5Ss_oA",
        "outputId": "85d18e1e-6210-4d3f-d221-e9ecf41d1bb1"
      },
      "execution_count": null,
      "outputs": [
        {
          "output_type": "stream",
          "name": "stdout",
          "text": [
            "{'banana': 6, 'apple': 0, 'orange': 32, 'pear': 15, 'kiwi': 10}\n",
            "{'banana': 4, 'apple': 2, 'orange': 1.5, 'pear': 3, 'kiwi': 5}\n"
          ]
        }
      ]
    },
    {
      "cell_type": "code",
      "source": [
        "# 1.4 Add 5kg apples to stock\n",
        "stock['apple'] = stock['apple']+5\n",
        "print(stock['apple'])"
      ],
      "metadata": {
        "colab": {
          "base_uri": "https://localhost:8080/"
        },
        "id": "XX8FPx1GtBdv",
        "outputId": "e4785291-11ec-4299-d9ea-f7c30137f8e7"
      },
      "execution_count": null,
      "outputs": [
        {
          "output_type": "stream",
          "name": "stdout",
          "text": [
            "5\n"
          ]
        }
      ]
    },
    {
      "cell_type": "code",
      "source": [
        "# 1.5 find most expensive fruits ie Kiwi\n",
        "\n",
        "\n",
        "key_list= list(stock.keys())\n",
        "val_list= list(prices.values())\n",
        "print(key_list)\n",
        "print(val_list)\n",
        "\n",
        "ind=val_list.index(max(val_list))\n",
        "key_list[ind]"
      ],
      "metadata": {
        "colab": {
          "base_uri": "https://localhost:8080/",
          "height": 70
        },
        "id": "K8Ge386VwMYG",
        "outputId": "e316234b-02cd-4104-f43f-faf836b75b41"
      },
      "execution_count": null,
      "outputs": [
        {
          "output_type": "stream",
          "name": "stdout",
          "text": [
            "['banana', 'apple', 'orange', 'pear', 'kiwi']\n",
            "[4, 2, 1.5, 3, 5]\n"
          ]
        },
        {
          "output_type": "execute_result",
          "data": {
            "text/plain": [
              "'kiwi'"
            ],
            "application/vnd.google.colaboratory.intrinsic+json": {
              "type": "string"
            }
          },
          "metadata": {},
          "execution_count": 16
        }
      ]
    },
    {
      "cell_type": "code",
      "source": [
        "# 1.6 fruit_name, fruitDemand \n",
        "# 1.6.A Return 'there is no fruit_name in the stock'\n",
        "# 1.6.B 'there is not enough fruit_name'\n",
        "# 1.6.C 'the total price for your order is total'\n",
        "\n",
        "def getFruit(fruit_name, fruitDemand, stock, prices):    \n",
        "    if fruit_name not in stock.keys():\n",
        "        print(f'There is no {fruit_name} in the stock')\n",
        "    elif stock[fruit_name] < fruitDemand:\n",
        "        print(f'There is no such availability of {fruit_name}')\n",
        "    else:\n",
        "        print(f'the total price for your order is {prices[fruit_name] * fruitDemand}')\n",
        "\n",
        "getFruit('mango', 10, stock,prices)\n",
        "getFruit('kiwi', 15, stock, prices)\n",
        "getFruit('orange', 12, stock, prices)"
      ],
      "metadata": {
        "colab": {
          "base_uri": "https://localhost:8080/"
        },
        "id": "4hBOkUPXwy4A",
        "outputId": "014fa19c-3099-43b9-e4bc-9af772a47ccc"
      },
      "execution_count": null,
      "outputs": [
        {
          "output_type": "stream",
          "name": "stdout",
          "text": [
            "There is no mango in the stock\n",
            "There is no such availability of kiwi\n",
            "the total price for your order is 18.0\n"
          ]
        }
      ]
    },
    {
      "cell_type": "code",
      "source": [
        "# 2.a check if a text is pallindrome with spaces and punctuation\n",
        "\n",
        "def isPallindrome(text):\n",
        "    text = text.lower()\n",
        "    split_text = list(text)\n",
        "    rev_text = []\n",
        "    isPal = True\n",
        "    for item in range(len(split_text)-1, -1, -1):\n",
        "        rev_text.append(split_text[item])\n",
        "    for j in range(0, len(split_text)-1):\n",
        "        if split_text[j] == rev_text[j]:\n",
        "            isPal = True\n",
        "        else:\n",
        "            isPal = False\n",
        "    if isPal == True:\n",
        "        print('text is a pallindrome')\n",
        "    else:\n",
        "        print('text is NOT a pallindrome')\n",
        "isPallindrome('wasitacaroracatisaw')"
      ],
      "metadata": {
        "colab": {
          "base_uri": "https://localhost:8080/"
        },
        "id": "9SlgM9Xf28NN",
        "outputId": "26785482-4ce8-40ef-e45e-d895a269e680"
      },
      "execution_count": null,
      "outputs": [
        {
          "output_type": "stream",
          "name": "stdout",
          "text": [
            "text is a pallindrome\n"
          ]
        }
      ]
    },
    {
      "cell_type": "code",
      "source": [
        "# 2.b check pallindrome seq only spaces and punctuations\n",
        "punctuations = ['.', '?', '!', ',', ':', ';', '-','_', '[', ']','{', '}', '(', ')', '\\'','\\\"', '...', ' ']\n",
        "def isPal(text, punctuations):\n",
        "    split_text = list(text)\n",
        "    punc_arr = []\n",
        "    for item in split_text:\n",
        "        if item in punctuations:\n",
        "            punc_arr.append(item)\n",
        "        else:\n",
        "            continue\n",
        "    rev_text = []\n",
        "    isPal = True\n",
        "    for item in range(len(split_text)-1, -1, -1):\n",
        "        rev_text.append(split_text[item])\n",
        "    for j in range(0, len(split_text)-1):\n",
        "        if split_text[j] == rev_text[j]:\n",
        "            isPal = True\n",
        "        else:\n",
        "            isPal = False\n",
        "    if isPal == True:\n",
        "        print('text is a pallindrome')\n",
        "    else:\n",
        "        print('text is NOT a pallindrome')\n",
        "    print(punc_arr)\n",
        "isPal(', , , !,', punctuations) "
      ],
      "metadata": {
        "id": "puADNcmPPGe6",
        "colab": {
          "base_uri": "https://localhost:8080/"
        },
        "outputId": "407a93c0-0122-4bc2-e8eb-cf264024dcfa"
      },
      "execution_count": null,
      "outputs": [
        {
          "output_type": "stream",
          "name": "stdout",
          "text": [
            "text is NOT a pallindrome\n",
            "[',', ' ', ',', ' ', ',', ' ', '!', ',']\n"
          ]
        }
      ]
    },
    {
      "cell_type": "code",
      "source": [
        "# 2.c Create a function that creates pallindrome strings\n",
        "import random\n",
        "def createPal(string_len):\n",
        "    pal_string = ''\n",
        "    chars = ['a', 'b', 'c', 'd', 'e', 'f', 'g', 'h', 'i', 'j', 'k', 'l', 'm', 'n', 'o', 'p', 'q', 'r', 's', 't', 'u', 'v', 'w', 'x', 'y', 'z']\n",
        "    for item in range(0, string_len//2):\n",
        "        pal_string += chars[random.randint(0,len(chars)-1)]\n",
        "    print(pal_string + pal_string[::-1])\n",
        "\n",
        "createPal(15)"
      ],
      "metadata": {
        "id": "XWFpETafhUkP",
        "colab": {
          "base_uri": "https://localhost:8080/"
        },
        "outputId": "18d733bb-8294-46bf-a29c-2d3cb4354a0e"
      },
      "execution_count": null,
      "outputs": [
        {
          "output_type": "stream",
          "name": "stdout",
          "text": [
            "asvgzvddvzgvsa\n"
          ]
        }
      ]
    },
    {
      "cell_type": "code",
      "source": [
        "# 3.1,3.2,3.3 Create a solution to use delimiters to identify words and return the frequency of unique words in a piece of text\n",
        "def dropPunc(text):\n",
        "    text = text.lower()\n",
        "    punctuations = ['.', '?', '!', ',', ':', ';', '-','_', '[', ']','{', '}', '(', ')', '\\'','\\\"', '...']\n",
        "    currWord = ''\n",
        "    wordsText = []\n",
        "    for char in text:\n",
        "        if char not in punctuations:\n",
        "            currWord += char\n",
        "\n",
        "    \n",
        "    return currWord.split(' ')\n",
        "\n",
        "def collectWords(text):\n",
        "    words_counter = {}\n",
        "    for item in text:\n",
        "        if item not in words_counter:\n",
        "            words_counter[item] = 1\n",
        "        else:\n",
        "            words_counter[item] += 1\n",
        "    return words_counter\n",
        "paragraph = 'Paragraphs are the building blocks of papers. Many students define paragraphs in terms of length: a paragraph is a group of at least five sentences, a paragraph is half a page long, etc. In reality, though, the unity and coherence of ideas among sentences is what constitutes a paragraph. A paragraph is defined as “a group of sentences or a single sentence that forms a unit” (Lunsford and Connors 116). Length and appearance do not determine whether a section in a paper is a paragraph. For instance, in some styles of writing, particularly journalistic styles, a paragraph can be just one sentence long. Ultimately, a paragraph is a sentence or group of sentences that support one main idea. In this handout, we will refer to this as the “controlling idea,” because it controls what happens in the rest of the paragraph.'\n",
        "words_arr = dropPunc(paragraph)\n",
        "wordsCount = collectWords(words_arr)"
      ],
      "metadata": {
        "id": "QMAxTu2zZ6sC"
      },
      "execution_count": 7,
      "outputs": []
    },
    {
      "cell_type": "code",
      "source": [
        "# 3.3b return five most frequently used words\n",
        "def freqWords(wordCounterDict):\n",
        "    values = sorted(list(wordCounterDict.values()))\n",
        "    values = values[::-1]\n",
        "    topFive = values[:5]\n",
        "    f = {}\n",
        "    for item in list(wordCounterDict.keys()):\n",
        "        if wordCounterDict[item] in topFive:\n",
        "            f[item] = wordCounterDict[item]\n",
        "    for k, v in f.items():\n",
        "        print(f'{k} appeared {v} times.')\n",
        "\n",
        "freqWords(wordsCount)"
      ],
      "metadata": {
        "colab": {
          "base_uri": "https://localhost:8080/"
        },
        "id": "UtLTc5l04uTM",
        "outputId": "f3898488-f266-4e70-c7ab-b53257f99ae7"
      },
      "execution_count": null,
      "outputs": [
        {
          "output_type": "stream",
          "name": "stdout",
          "text": [
            "of appeared 8 times.\n",
            "in appeared 6 times.\n",
            "a appeared 14 times.\n",
            "paragraph appeared 8 times.\n",
            "is appeared 6 times.\n"
          ]
        }
      ]
    },
    {
      "cell_type": "code",
      "source": [
        "# 3.3c check words with prefixes\n",
        " \n",
        "def checkPre(text, prefix):\n",
        "    text_arr = dropPunc(text)\n",
        "    preCounter = 0\n",
        "    preCounterNon = 0\n",
        "    for item in text_arr:\n",
        "        if item[:len(list(prefix))] == prefix:\n",
        "            preCounter += 1\n",
        "        else:\n",
        "            preCounterNon += 1\n",
        "    print(f'words with prefix: {preCounter}, words without without: {preCounterNon}')\n",
        "\n",
        "text =  \"predominant, present, preliminary, sammya, yay, thisisRandom, okay, present\"\n",
        "checkPre(text, 'pre')"
      ],
      "metadata": {
        "id": "Z6bPq72sG3Zx",
        "colab": {
          "base_uri": "https://localhost:8080/"
        },
        "outputId": "99f7006b-0097-4415-f7cc-66918108d848"
      },
      "execution_count": 15,
      "outputs": [
        {
          "output_type": "stream",
          "name": "stdout",
          "text": [
            "words with prefix: 4, without: 4\n"
          ]
        }
      ]
    },
    {
      "cell_type": "code",
      "source": [
        "# 4.a Return a graph in a Python dict given nodes and edges as lists\n",
        "def dictGraph(nodes, edges):\n",
        "    G = {}\n",
        "    for node in nodes:\n",
        "            G[node] = []\n",
        "    \n",
        "    for edge in edges:\n",
        "        k, v = edge\n",
        "        if k in G and G[k] != v:\n",
        "            G[k].append(v)\n",
        "        elif v in G and G[v] != k:\n",
        "            G[v].append(k)\n",
        "    print(G)\n",
        "    return G\n",
        "\n",
        "G1 = dictGraph([1,2,3], [(1,2), (1,3), (2,1), (2,3), (3,1), (3,2)])"
      ],
      "metadata": {
        "colab": {
          "base_uri": "https://localhost:8080/"
        },
        "id": "94GIuRihr541",
        "outputId": "c4af1035-0db8-4e7d-c58d-7a009db54da5"
      },
      "execution_count": 18,
      "outputs": [
        {
          "output_type": "stream",
          "name": "stdout",
          "text": [
            "{1: [2, 3], 2: [1, 3], 3: [1, 2]}\n"
          ]
        }
      ]
    },
    {
      "cell_type": "code",
      "source": [
        "# 4.b Return list of edges connected to a node\n",
        "def getNeighbour(graphDict, node):\n",
        "    if node in graphDict:\n",
        "        print(f'Node {node} has the follwing neighbours: {graphDict[node]}')\n",
        "    elif node not in graphDict:\n",
        "        print(f'Node {node} doesn\\'t exist.')\n",
        "    else:\n",
        "        print(f'Node {node} has no neighbours.') \n",
        "getNeighbour(G1, 2)\n",
        "getNeighbour(G1, 3)"
      ],
      "metadata": {
        "colab": {
          "base_uri": "https://localhost:8080/"
        },
        "id": "eJJtHzwNR4bj",
        "outputId": "fa84fd5a-ffad-4f2c-e5ec-5d0915cb101f"
      },
      "execution_count": 35,
      "outputs": [
        {
          "output_type": "stream",
          "name": "stdout",
          "text": [
            "Node 2 has the follwing neighbours: [1, 3]\n",
            "Node 3 has the follwing neighbours: [1, 2]\n"
          ]
        }
      ]
    },
    {
      "cell_type": "code",
      "source": [
        "# 4.c Compute the degree of a node\n",
        "def computeDegree(graphDict):\n",
        "    D = {}\n",
        "    for node in graphDict:\n",
        "        D[node] = len(graphDict[node])\n",
        "    return(D)\n",
        "\n",
        "computeDegree(G1)"
      ],
      "metadata": {
        "colab": {
          "base_uri": "https://localhost:8080/"
        },
        "id": "dlKpb9K_S8Z_",
        "outputId": "bd7a6ab5-f452-40dc-ec28-6d99307d9ea2"
      },
      "execution_count": 34,
      "outputs": [
        {
          "output_type": "execute_result",
          "data": {
            "text/plain": [
              "{1: 2, 2: 2, 3: 2}"
            ]
          },
          "metadata": {},
          "execution_count": 34
        }
      ]
    },
    {
      "cell_type": "code",
      "source": [
        "# 4.d Find connection between two nodes"
      ],
      "metadata": {
        "colab": {
          "base_uri": "https://localhost:8080/"
        },
        "id": "hW4Vmvr2UBF-",
        "outputId": "402f2bad-b4a7-43a5-a740-82dc6aa5a3cb"
      },
      "execution_count": 21,
      "outputs": [
        {
          "output_type": "stream",
          "name": "stdout",
          "text": [
            "1\n",
            "2\n",
            "3\n"
          ]
        }
      ]
    },
    {
      "cell_type": "code",
      "source": [],
      "metadata": {
        "id": "bqfssZZFUD2X"
      },
      "execution_count": null,
      "outputs": []
    }
  ]
}