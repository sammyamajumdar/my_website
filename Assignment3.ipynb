{
  "nbformat": 4,
  "nbformat_minor": 0,
  "metadata": {
    "colab": {
      "provenance": [],
      "authorship_tag": "ABX9TyPxnzQEBoGGvFwdN72L6cA1",
      "include_colab_link": true
    },
    "kernelspec": {
      "name": "python3",
      "display_name": "Python 3"
    },
    "language_info": {
      "name": "python"
    }
  },
  "cells": [
    {
      "cell_type": "markdown",
      "metadata": {
        "id": "view-in-github",
        "colab_type": "text"
      },
      "source": [
        "<a href=\"https://colab.research.google.com/github/sammyamajumdar/my_website/blob/main/Assignment3.ipynb\" target=\"_parent\"><img src=\"https://colab.research.google.com/assets/colab-badge.svg\" alt=\"Open In Colab\"/></a>"
      ]
    },
    {
      "cell_type": "code",
      "execution_count": 8,
      "metadata": {
        "colab": {
          "base_uri": "https://localhost:8080/"
        },
        "id": "jL9p4uBwrYas",
        "outputId": "90274d18-8ee4-4f51-fd63-6284f1a1dd62"
      },
      "outputs": [
        {
          "output_type": "stream",
          "name": "stdout",
          "text": [
            "banana\n",
            "orange\n",
            "pear\n"
          ]
        },
        {
          "output_type": "execute_result",
          "data": {
            "text/plain": [
              "['banana', 'orange', 'pear']"
            ]
          },
          "metadata": {},
          "execution_count": 8
        }
      ],
      "source": [
        "stock={\n",
        "    'banana':6,\n",
        "    'apple' :0,\n",
        "    'orange' :32,\n",
        "    'pear' :15\n",
        "}\n",
        "\n",
        "prices={\n",
        "    'banana':4,\n",
        "    'apple' :2,\n",
        "    'orange' :1.5,\n",
        "    'pear' :3\n",
        "}\n",
        "\n",
        "# 1.1 print name of fruits currently in stock\n",
        "stock_fruits = []\n",
        "for key in stock: \n",
        "    if stock[key] != 0:\n",
        "        stock_fruits.append(key)\n",
        "        print(key)\n",
        "stock_fruits"
      ]
    },
    {
      "cell_type": "code",
      "source": [
        "#1.2\n",
        "# total value of fruits currently in stock\n",
        "revenue = 0\n",
        "for item in stock_fruits:\n",
        "    revenue += prices[item]\n",
        "\n",
        "revenue\n",
        "\n"
      ],
      "metadata": {
        "colab": {
          "base_uri": "https://localhost:8080/"
        },
        "id": "kYYel-OYs7xm",
        "outputId": "7ca3ca3d-a001-493d-93a8-f29dbc1da9e3"
      },
      "execution_count": 9,
      "outputs": [
        {
          "output_type": "execute_result",
          "data": {
            "text/plain": [
              "8.5"
            ]
          },
          "metadata": {},
          "execution_count": 9
        }
      ]
    },
    {
      "cell_type": "code",
      "source": [
        "#1.3 Sell 10kg Kiwi at 5GBP/kg\n",
        "stock['kiwi'] = 10\n",
        "prices['kiwi'] = 5\n",
        "\n",
        "#print updated dicts\n",
        "print(stock)\n",
        "print(prices)"
      ],
      "metadata": {
        "colab": {
          "base_uri": "https://localhost:8080/"
        },
        "id": "A0BYXQ5Ss_oA",
        "outputId": "85d18e1e-6210-4d3f-d221-e9ecf41d1bb1"
      },
      "execution_count": 11,
      "outputs": [
        {
          "output_type": "stream",
          "name": "stdout",
          "text": [
            "{'banana': 6, 'apple': 0, 'orange': 32, 'pear': 15, 'kiwi': 10}\n",
            "{'banana': 4, 'apple': 2, 'orange': 1.5, 'pear': 3, 'kiwi': 5}\n"
          ]
        }
      ]
    },
    {
      "cell_type": "code",
      "source": [
        "# 1.4 Add 5kg apples to stock\n",
        "stock['apple'] = stock['apple']+5\n",
        "print(stock['apple'])"
      ],
      "metadata": {
        "colab": {
          "base_uri": "https://localhost:8080/"
        },
        "id": "XX8FPx1GtBdv",
        "outputId": "e4785291-11ec-4299-d9ea-f7c30137f8e7"
      },
      "execution_count": 12,
      "outputs": [
        {
          "output_type": "stream",
          "name": "stdout",
          "text": [
            "5\n"
          ]
        }
      ]
    },
    {
      "cell_type": "code",
      "source": [
        "# 1.5 find most expensive fruits ie Kiwi\n",
        "\n",
        "\n",
        "key_list= list(stock.keys())\n",
        "val_list= list(prices.values())\n",
        "print(key_list)\n",
        "print(val_list)\n",
        "\n",
        "ind=val_list.index(max(val_list))\n",
        "key_list[ind]"
      ],
      "metadata": {
        "colab": {
          "base_uri": "https://localhost:8080/",
          "height": 70
        },
        "id": "K8Ge386VwMYG",
        "outputId": "e316234b-02cd-4104-f43f-faf836b75b41"
      },
      "execution_count": 16,
      "outputs": [
        {
          "output_type": "stream",
          "name": "stdout",
          "text": [
            "['banana', 'apple', 'orange', 'pear', 'kiwi']\n",
            "[4, 2, 1.5, 3, 5]\n"
          ]
        },
        {
          "output_type": "execute_result",
          "data": {
            "text/plain": [
              "'kiwi'"
            ],
            "application/vnd.google.colaboratory.intrinsic+json": {
              "type": "string"
            }
          },
          "metadata": {},
          "execution_count": 16
        }
      ]
    },
    {
      "cell_type": "code",
      "source": [
        "# 1.6 fruit_name, fruitDemand \n",
        "# 1.6.A Return 'there is no fruit_name in the stock'\n",
        "# 1.6.B 'there is not enough fruit_name'\n",
        "# 1.6.C 'the total price for your order is total'\n",
        "\n",
        "def getFruit(fruit_name, fruitDemand, stock, prices):    \n",
        "    if fruit_name not in stock.keys():\n",
        "        print(f'There is no {fruit_name} in the stock')\n",
        "    elif stock[fruit_name] < fruitDemand:\n",
        "        print(f'There is no such availability of {fruit_name}')\n",
        "    else:\n",
        "        print(f'the total price for your order is {prices[fruit_name] * fruitDemand}')\n",
        "\n",
        "getFruit('mango', 10, stock,prices)\n",
        "getFruit('kiwi', 15, stock, prices)\n",
        "getFruit('orange', 12, stock, prices)"
      ],
      "metadata": {
        "colab": {
          "base_uri": "https://localhost:8080/"
        },
        "id": "4hBOkUPXwy4A",
        "outputId": "014fa19c-3099-43b9-e4bc-9af772a47ccc"
      },
      "execution_count": 29,
      "outputs": [
        {
          "output_type": "stream",
          "name": "stdout",
          "text": [
            "There is no mango in the stock\n",
            "There is no such availability of kiwi\n",
            "the total price for your order is 18.0\n"
          ]
        }
      ]
    },
    {
      "cell_type": "code",
      "source": [
        "# 2.a check if a text is pallindrome with spaces and punctuation\n",
        "\n",
        "def isPallindrome(text):\n",
        "    text = text.lower()\n",
        "    split_text = list(text)\n",
        "    rev_text = []\n",
        "    isPal = True\n",
        "    for item in range(len(split_text)-1, -1, -1):\n",
        "        rev_text.append(split_text[item])\n",
        "    for j in range(0, len(split_text)-1):\n",
        "        if split_text[j] == rev_text[j]:\n",
        "            isPal = True\n",
        "        else:\n",
        "            isPal = False\n",
        "    if isPal == True:\n",
        "        print('text is a pallindrome')\n",
        "    else:\n",
        "        print('text is NOT a pallindrome')\n",
        "isPallindrome('wasitacaroracatisaw')"
      ],
      "metadata": {
        "colab": {
          "base_uri": "https://localhost:8080/"
        },
        "id": "9SlgM9Xf28NN",
        "outputId": "85bf8eed-1f02-406e-d2a4-620c7c7b5426"
      },
      "execution_count": 116,
      "outputs": [
        {
          "output_type": "stream",
          "name": "stdout",
          "text": [
            "text is a pallindrome\n"
          ]
        }
      ]
    },
    {
      "cell_type": "code",
      "source": [
        "# 2.b check pallindrome seq only spaces and punctuations\n",
        "punctuations = ['.', '?', '!', ',', ':', ';', '-','_', '[', ']','{', '}', '(', ')', '\\'','\\\"', '...', ' ']\n",
        "def isPal(text, punctuations):\n",
        "    split_text = list(text)\n",
        "    punc_arr = []\n",
        "    for item in split_text:\n",
        "        if item in punctuations:\n",
        "            punc_arr.append(item)\n",
        "        else:\n",
        "            continue\n",
        "    rev_text = []\n",
        "    isPal = True\n",
        "    for item in range(len(split_text)-1, -1, -1):\n",
        "        rev_text.append(split_text[item])\n",
        "    for j in range(0, len(split_text)-1):\n",
        "        if split_text[j] == rev_text[j]:\n",
        "            isPal = True\n",
        "        else:\n",
        "            isPal = False\n",
        "    if isPal == True:\n",
        "        print('text is a pallindrome')\n",
        "    else:\n",
        "        print('text is NOT a pallindrome')\n",
        "    print(punc_arr)"
      ],
      "metadata": {
        "id": "puADNcmPPGe6"
      },
      "execution_count": 146,
      "outputs": []
    },
    {
      "cell_type": "code",
      "source": [
        "isPal(', , , !,', punctuations)"
      ],
      "metadata": {
        "colab": {
          "base_uri": "https://localhost:8080/"
        },
        "id": "L8wot0pAQfWe",
        "outputId": "6d5a3920-54d6-443d-9fc2-cb419f13c00b"
      },
      "execution_count": 151,
      "outputs": [
        {
          "output_type": "stream",
          "name": "stdout",
          "text": [
            "text is NOT a pallindrome\n",
            "[',', ' ', ',', ' ', ',', ' ', '!', ',']\n"
          ]
        }
      ]
    },
    {
      "cell_type": "code",
      "source": [],
      "metadata": {
        "id": "XWFpETafhUkP"
      },
      "execution_count": null,
      "outputs": []
    }
  ]
}