{
  "cells": [
    {
      "cell_type": "markdown",
      "metadata": {
        "id": "view-in-github",
        "colab_type": "text"
      },
      "source": [
        "<a href=\"https://colab.research.google.com/github/sammyamajumdar/my_website/blob/main/Assignment3_v3.ipynb\" target=\"_parent\"><img src=\"https://colab.research.google.com/assets/colab-badge.svg\" alt=\"Open In Colab\"/></a>"
      ]
    },
    {
      "cell_type": "markdown",
      "id": "d00cef7d",
      "metadata": {
        "id": "d00cef7d"
      },
      "source": [
        "Before you turn this problem in, make sure everything runs as expected. First, **restart the kernel** (in the menubar, select Kernel$\\rightarrow$Restart) and then **run all cells** (in the menubar, select Cell$\\rightarrow$Run All).\n",
        "\n",
        "Make sure you fill in any place that says `YOUR CODE HERE` or \"YOUR ANSWER HERE\", as well as your name and collaborators below:"
      ]
    },
    {
      "cell_type": "code",
      "execution_count": null,
      "id": "c2e9c8a2",
      "metadata": {
        "id": "c2e9c8a2"
      },
      "outputs": [],
      "source": [
        "STUDENT_ID = \"\""
      ]
    },
    {
      "cell_type": "markdown",
      "id": "8fbfc66c",
      "metadata": {
        "id": "8fbfc66c"
      },
      "source": [
        "---"
      ]
    },
    {
      "cell_type": "markdown",
      "id": "5367f9ce",
      "metadata": {
        "deletable": false,
        "editable": false,
        "nbgrader": {
          "cell_type": "markdown",
          "checksum": "5e51252ff7b3be970ac91b3c61426442",
          "grade": false,
          "grade_id": "cell-125b2f808476ac23",
          "locked": true,
          "schema_version": 3,
          "solution": false,
          "task": false
        },
        "id": "5367f9ce"
      },
      "source": [
        "# MTH765P - Coursework 3\n",
        "This is a template notebook for the third coursework assignment for MTH765P,\n",
        "Closely follow the instructions in this template in order \n",
        "to complete the assessment and to obtain full marks. Please only\n",
        "modify cells where you are instructed to do so. Note that you may add other cells.\n",
        "Failure to comply may result in unexpected errors that can lead to mark deductions. **Please submit only this file, without changing its name to QMPlus.**\n",
        "\n",
        "\n",
        "##### DO NOT FORGET TO REMOVE THE LINE  _raise NotImplementedError()_ after you answer the question.\n",
        "\n",
        "Author: Primoz Skraba\n",
        "\n",
        "\n",
        "As usual, we begin by loading the necessary libraries. You should not \n",
        "import any other libraries."
      ]
    },
    {
      "cell_type": "code",
      "execution_count": 3,
      "id": "512d5082",
      "metadata": {
        "deletable": false,
        "editable": false,
        "nbgrader": {
          "cell_type": "code",
          "checksum": "0ea08a79a14e0bced16f1bc30ae6da47",
          "grade": false,
          "grade_id": "cell-80475a4d32a8b7f6",
          "locked": true,
          "schema_version": 3,
          "solution": false,
          "task": false
        },
        "id": "512d5082"
      },
      "outputs": [],
      "source": [
        "import pandas as pd\n",
        "import numpy as np\n",
        "import matplotlib.pyplot as plt"
      ]
    },
    {
      "cell_type": "markdown",
      "id": "cbf1a479",
      "metadata": {
        "deletable": false,
        "editable": false,
        "nbgrader": {
          "cell_type": "markdown",
          "checksum": "c4d994b97a8982394272f478d0ffa980",
          "grade": false,
          "grade_id": "cell-36e272d2750a54d5",
          "locked": true,
          "schema_version": 3,
          "solution": false,
          "task": false
        },
        "id": "cbf1a479"
      },
      "source": [
        "\n",
        "---------\n",
        "---------\n",
        " \n",
        " 1.) Linear models and residuals\n",
        "\n",
        "--------\n",
        "--------\n",
        "\n",
        "Run the next cell to load the first dataset.\n",
        "\n",
        "--------\n",
        "\n",
        "\n"
      ]
    },
    {
      "cell_type": "code",
      "execution_count": 5,
      "id": "ccbe9be8",
      "metadata": {
        "deletable": false,
        "editable": false,
        "nbgrader": {
          "cell_type": "code",
          "checksum": "862c2800a29edfa9663234960a885fce",
          "grade": false,
          "grade_id": "cell-e35ad477aa18ce29",
          "locked": true,
          "schema_version": 3,
          "solution": false,
          "task": false
        },
        "colab": {
          "base_uri": "https://localhost:8080/",
          "height": 206
        },
        "id": "ccbe9be8",
        "outputId": "062a85a5-9e0b-40cf-ab6d-14764bc43fb8"
      },
      "outputs": [
        {
          "output_type": "execute_result",
          "data": {
            "text/plain": [
              "          x          y\n",
              "0 -1.167390 -40.099714\n",
              "1 -1.082710 -19.151187\n",
              "2 -1.063447 -16.397238\n",
              "3 -1.061148 -11.336125\n",
              "4 -0.993360 -19.188918"
            ],
            "text/html": [
              "\n",
              "  <div id=\"df-cc422e46-a345-4bd6-8d60-88d77d95e116\">\n",
              "    <div class=\"colab-df-container\">\n",
              "      <div>\n",
              "<style scoped>\n",
              "    .dataframe tbody tr th:only-of-type {\n",
              "        vertical-align: middle;\n",
              "    }\n",
              "\n",
              "    .dataframe tbody tr th {\n",
              "        vertical-align: top;\n",
              "    }\n",
              "\n",
              "    .dataframe thead th {\n",
              "        text-align: right;\n",
              "    }\n",
              "</style>\n",
              "<table border=\"1\" class=\"dataframe\">\n",
              "  <thead>\n",
              "    <tr style=\"text-align: right;\">\n",
              "      <th></th>\n",
              "      <th>x</th>\n",
              "      <th>y</th>\n",
              "    </tr>\n",
              "  </thead>\n",
              "  <tbody>\n",
              "    <tr>\n",
              "      <th>0</th>\n",
              "      <td>-1.167390</td>\n",
              "      <td>-40.099714</td>\n",
              "    </tr>\n",
              "    <tr>\n",
              "      <th>1</th>\n",
              "      <td>-1.082710</td>\n",
              "      <td>-19.151187</td>\n",
              "    </tr>\n",
              "    <tr>\n",
              "      <th>2</th>\n",
              "      <td>-1.063447</td>\n",
              "      <td>-16.397238</td>\n",
              "    </tr>\n",
              "    <tr>\n",
              "      <th>3</th>\n",
              "      <td>-1.061148</td>\n",
              "      <td>-11.336125</td>\n",
              "    </tr>\n",
              "    <tr>\n",
              "      <th>4</th>\n",
              "      <td>-0.993360</td>\n",
              "      <td>-19.188918</td>\n",
              "    </tr>\n",
              "  </tbody>\n",
              "</table>\n",
              "</div>\n",
              "      <button class=\"colab-df-convert\" onclick=\"convertToInteractive('df-cc422e46-a345-4bd6-8d60-88d77d95e116')\"\n",
              "              title=\"Convert this dataframe to an interactive table.\"\n",
              "              style=\"display:none;\">\n",
              "        \n",
              "  <svg xmlns=\"http://www.w3.org/2000/svg\" height=\"24px\"viewBox=\"0 0 24 24\"\n",
              "       width=\"24px\">\n",
              "    <path d=\"M0 0h24v24H0V0z\" fill=\"none\"/>\n",
              "    <path d=\"M18.56 5.44l.94 2.06.94-2.06 2.06-.94-2.06-.94-.94-2.06-.94 2.06-2.06.94zm-11 1L8.5 8.5l.94-2.06 2.06-.94-2.06-.94L8.5 2.5l-.94 2.06-2.06.94zm10 10l.94 2.06.94-2.06 2.06-.94-2.06-.94-.94-2.06-.94 2.06-2.06.94z\"/><path d=\"M17.41 7.96l-1.37-1.37c-.4-.4-.92-.59-1.43-.59-.52 0-1.04.2-1.43.59L10.3 9.45l-7.72 7.72c-.78.78-.78 2.05 0 2.83L4 21.41c.39.39.9.59 1.41.59.51 0 1.02-.2 1.41-.59l7.78-7.78 2.81-2.81c.8-.78.8-2.07 0-2.86zM5.41 20L4 18.59l7.72-7.72 1.47 1.35L5.41 20z\"/>\n",
              "  </svg>\n",
              "      </button>\n",
              "      \n",
              "  <style>\n",
              "    .colab-df-container {\n",
              "      display:flex;\n",
              "      flex-wrap:wrap;\n",
              "      gap: 12px;\n",
              "    }\n",
              "\n",
              "    .colab-df-convert {\n",
              "      background-color: #E8F0FE;\n",
              "      border: none;\n",
              "      border-radius: 50%;\n",
              "      cursor: pointer;\n",
              "      display: none;\n",
              "      fill: #1967D2;\n",
              "      height: 32px;\n",
              "      padding: 0 0 0 0;\n",
              "      width: 32px;\n",
              "    }\n",
              "\n",
              "    .colab-df-convert:hover {\n",
              "      background-color: #E2EBFA;\n",
              "      box-shadow: 0px 1px 2px rgba(60, 64, 67, 0.3), 0px 1px 3px 1px rgba(60, 64, 67, 0.15);\n",
              "      fill: #174EA6;\n",
              "    }\n",
              "\n",
              "    [theme=dark] .colab-df-convert {\n",
              "      background-color: #3B4455;\n",
              "      fill: #D2E3FC;\n",
              "    }\n",
              "\n",
              "    [theme=dark] .colab-df-convert:hover {\n",
              "      background-color: #434B5C;\n",
              "      box-shadow: 0px 1px 3px 1px rgba(0, 0, 0, 0.15);\n",
              "      filter: drop-shadow(0px 1px 2px rgba(0, 0, 0, 0.3));\n",
              "      fill: #FFFFFF;\n",
              "    }\n",
              "  </style>\n",
              "\n",
              "      <script>\n",
              "        const buttonEl =\n",
              "          document.querySelector('#df-cc422e46-a345-4bd6-8d60-88d77d95e116 button.colab-df-convert');\n",
              "        buttonEl.style.display =\n",
              "          google.colab.kernel.accessAllowed ? 'block' : 'none';\n",
              "\n",
              "        async function convertToInteractive(key) {\n",
              "          const element = document.querySelector('#df-cc422e46-a345-4bd6-8d60-88d77d95e116');\n",
              "          const dataTable =\n",
              "            await google.colab.kernel.invokeFunction('convertToInteractive',\n",
              "                                                     [key], {});\n",
              "          if (!dataTable) return;\n",
              "\n",
              "          const docLinkHtml = 'Like what you see? Visit the ' +\n",
              "            '<a target=\"_blank\" href=https://colab.research.google.com/notebooks/data_table.ipynb>data table notebook</a>'\n",
              "            + ' to learn more about interactive tables.';\n",
              "          element.innerHTML = '';\n",
              "          dataTable['output_type'] = 'display_data';\n",
              "          await google.colab.output.renderOutput(dataTable, element);\n",
              "          const docLink = document.createElement('div');\n",
              "          docLink.innerHTML = docLinkHtml;\n",
              "          element.appendChild(docLink);\n",
              "        }\n",
              "      </script>\n",
              "    </div>\n",
              "  </div>\n",
              "  "
            ]
          },
          "metadata": {},
          "execution_count": 5
        }
      ],
      "source": [
        "X = pd.read_csv('1.csv',sep=' ')\n",
        "X.head()"
      ]
    },
    {
      "cell_type": "markdown",
      "id": "f23f8926",
      "metadata": {
        "deletable": false,
        "editable": false,
        "nbgrader": {
          "cell_type": "markdown",
          "checksum": "b1d3370aeaff16da08e2057d8372cc0c",
          "grade": false,
          "grade_id": "cell-a02f9d790a1e06e5",
          "locked": true,
          "schema_version": 3,
          "solution": false,
          "task": false
        },
        "id": "f23f8926"
      },
      "source": [
        "----\n",
        "\n",
        "a.) Use _numpy.polyfit()_ to fit a linear model to the data, storing the parameters into variables called _m_ and _b_ respectively for the slope and y-intercept. \n",
        "\n",
        "----"
      ]
    },
    {
      "cell_type": "code",
      "execution_count": 6,
      "id": "e8e87a79",
      "metadata": {
        "deletable": false,
        "nbgrader": {
          "cell_type": "code",
          "checksum": "440108b12843f99eb90a27c52acdacad",
          "grade": false,
          "grade_id": "cell-5d0385e8424d056d",
          "locked": false,
          "schema_version": 3,
          "solution": true,
          "task": false
        },
        "colab": {
          "base_uri": "https://localhost:8080/"
        },
        "id": "e8e87a79",
        "outputId": "0ac30f6d-dd51-4f6f-deca-864f5b0b04a1"
      },
      "outputs": [
        {
          "output_type": "stream",
          "name": "stdout",
          "text": [
            "slope: 6.52369915154896, y-intercept: -8.23459150594651\n"
          ]
        }
      ],
      "source": [
        "# YOUR CODE HERE\n",
        "m, b = np.polyfit(np.array(X['x']), np.array(X['y']), deg=1) # degree = 1 since model is linear\n",
        "print(f'slope: {m}, y-intercept: {b}')\n",
        "#raise NotImplementedError()"
      ]
    },
    {
      "cell_type": "markdown",
      "id": "e4a7baf8",
      "metadata": {
        "deletable": false,
        "editable": false,
        "nbgrader": {
          "cell_type": "markdown",
          "checksum": "dff2fc4a8cdb54e59ef4236dc1a0844b",
          "grade": false,
          "grade_id": "cell-4637557f72240df6",
          "locked": true,
          "schema_version": 3,
          "solution": false,
          "task": false
        },
        "id": "e4a7baf8"
      },
      "source": [
        "----\n",
        "\n",
        "b.) Compute the residual of the data with respect to the model and store them in a variable called _res_\n",
        "\n",
        "----"
      ]
    },
    {
      "cell_type": "code",
      "execution_count": 7,
      "id": "0b2ade41",
      "metadata": {
        "deletable": false,
        "nbgrader": {
          "cell_type": "code",
          "checksum": "bb493beea81b90457c0161b8290a960d",
          "grade": false,
          "grade_id": "cell-bdd25af32a94f5d4",
          "locked": false,
          "schema_version": 3,
          "solution": true,
          "task": false
        },
        "colab": {
          "base_uri": "https://localhost:8080/"
        },
        "id": "0b2ade41",
        "outputId": "ee86b2e9-90f8-49f3-a64c-2de828e5783f"
      },
      "outputs": [
        {
          "output_type": "stream",
          "name": "stdout",
          "text": [
            "residual: 38313.762760977275\n"
          ]
        }
      ],
      "source": [
        "# YOUR CODE HERE\n",
        "\n",
        "y_predictions = np.dot(np.array(X['x']), m) + b\n",
        "y_true = np.array(X['y'])\n",
        "\n",
        "res = np.sum(np.square(y_predictions - y_true))\n",
        "print(f'residual: {res}')\n",
        "\n",
        "\n",
        "# raise NotImplementedError()"
      ]
    },
    {
      "cell_type": "code",
      "execution_count": null,
      "id": "179aee4c",
      "metadata": {
        "deletable": false,
        "editable": false,
        "nbgrader": {
          "cell_type": "code",
          "checksum": "f8a47d9e0ae09e06428186ce519c2033",
          "grade": true,
          "grade_id": "cell-49f5c19f12e0e32d",
          "locked": true,
          "points": 5,
          "schema_version": 3,
          "solution": false,
          "task": false
        },
        "id": "179aee4c"
      },
      "outputs": [],
      "source": []
    },
    {
      "cell_type": "code",
      "source": [],
      "metadata": {
        "id": "SzXeWs06pWd1"
      },
      "id": "SzXeWs06pWd1",
      "execution_count": null,
      "outputs": []
    },
    {
      "cell_type": "markdown",
      "id": "44596de5",
      "metadata": {
        "deletable": false,
        "editable": false,
        "nbgrader": {
          "cell_type": "markdown",
          "checksum": "267b12815fbf4918b36cfd2d25d76f6f",
          "grade": false,
          "grade_id": "cell-f1bed8e2f93abf15",
          "locked": true,
          "schema_version": 3,
          "solution": false,
          "task": false
        },
        "id": "44596de5"
      },
      "source": [
        "----\n",
        "\n",
        "c.) Plot an unnormalised histogram of the residuals with 40 bins\n",
        "\n",
        "----"
      ]
    },
    {
      "cell_type": "code",
      "execution_count": 8,
      "id": "141c1a8c",
      "metadata": {
        "deletable": false,
        "nbgrader": {
          "cell_type": "code",
          "checksum": "4b4ef5427388147dff20465b1fe298a2",
          "grade": true,
          "grade_id": "cell-87c23e242654c4c9",
          "locked": false,
          "points": 5,
          "schema_version": 3,
          "solution": true,
          "task": false
        },
        "colab": {
          "base_uri": "https://localhost:8080/",
          "height": 312
        },
        "id": "141c1a8c",
        "outputId": "be25fea5-7050-4e5b-d927-539723026096"
      },
      "outputs": [
        {
          "output_type": "execute_result",
          "data": {
            "text/plain": [
              "Text(0, 0.5, 'Count')"
            ]
          },
          "metadata": {},
          "execution_count": 8
        },
        {
          "output_type": "display_data",
          "data": {
            "text/plain": [
              "<Figure size 432x288 with 1 Axes>"
            ],
            "image/png": "[encoded data removed]"
          },
          "metadata": {
            "needs_background": "light"
          }
        }
      ],
      "source": [
        "# YOUR CODE HERE\n",
        "res_array = y_true - y_predictions\n",
        "\n",
        "\n",
        "fig, axs = plt.subplots()\n",
        "n_bins=40\n",
        "\n",
        "axs.hist(res_array, histtype='stepfilled',bins=n_bins, ec='k')\n",
        "axs.set_title('Histogram of Residuals')\n",
        "axs.set_xlabel('Residuals')\n",
        "axs.set_ylabel('Count')\n",
        "\n",
        "# raise NotImplementedError()"
      ]
    },
    {
      "cell_type": "markdown",
      "id": "94496680",
      "metadata": {
        "deletable": false,
        "editable": false,
        "nbgrader": {
          "cell_type": "markdown",
          "checksum": "5a5a6f4d01ad5b1610b6d5eff9434b86",
          "grade": false,
          "grade_id": "cell-c04efdd669ff991e",
          "locked": true,
          "schema_version": 3,
          "solution": false,
          "task": false
        },
        "id": "94496680"
      },
      "source": [
        "----\n",
        "\n",
        "d.) Is the linear model a good fit? (one or two sentences)\n",
        "\n",
        "----"
      ]
    },
    {
      "cell_type": "markdown",
      "id": "e6d9cbd7",
      "metadata": {
        "deletable": false,
        "nbgrader": {
          "cell_type": "markdown",
          "checksum": "c9ff2ea92e7b83f28707ebc457ca2916",
          "grade": true,
          "grade_id": "cell-042efc41467b5bb0",
          "locked": false,
          "points": 3,
          "schema_version": 3,
          "solution": true,
          "task": false
        },
        "id": "e6d9cbd7"
      },
      "source": [
        "YOUR ANSWER HERE\n",
        "\n",
        "The linear model is a decent fit for the data if we are to neglect outliers (there are plenty of those in the dataset.). If we were to consider those, its a pretty underfitted model - shown by a high residual sum of squares metric of 38,313.7. "
      ]
    },
    {
      "cell_type": "markdown",
      "id": "894ffeb0",
      "metadata": {
        "deletable": false,
        "editable": false,
        "nbgrader": {
          "cell_type": "markdown",
          "checksum": "fe7241662af6208f4e2674ee6db40f5e",
          "grade": false,
          "grade_id": "cell-34745a4e5d2edefd",
          "locked": true,
          "schema_version": 3,
          "solution": false,
          "task": false
        },
        "id": "894ffeb0"
      },
      "source": [
        "----\n",
        "\n",
        "e.) Complete the function below to compute hinges of the input x, which should be set at the 30th and 70th quantile.\n",
        "\n",
        "----"
      ]
    },
    {
      "cell_type": "code",
      "execution_count": 9,
      "id": "eccc8785",
      "metadata": {
        "deletable": false,
        "nbgrader": {
          "cell_type": "code",
          "checksum": "77cb03e2a804e66344d2cc0b669e0604",
          "grade": false,
          "grade_id": "cell-9a6a0df2fe278068",
          "locked": false,
          "schema_version": 3,
          "solution": true,
          "task": false
        },
        "id": "eccc8785"
      },
      "outputs": [],
      "source": [
        "def hinges(x):\n",
        "# YOUR CODE HERE\n",
        "\n",
        "    lower  = np.quantile(x, 0.3)\n",
        "    upper = np.quantile(x, 0.7)\n",
        "# raise NotImplementedError()\n",
        "    return lower,upper"
      ]
    },
    {
      "cell_type": "markdown",
      "id": "892890b2",
      "metadata": {
        "deletable": false,
        "editable": false,
        "nbgrader": {
          "cell_type": "markdown",
          "checksum": "cb42c1cd969e67f2c5cfa19f10e2863a",
          "grade": false,
          "grade_id": "cell-45a212ec3ffa89ed",
          "locked": true,
          "schema_version": 3,
          "solution": false,
          "task": false
        },
        "id": "892890b2"
      },
      "source": [
        "----\n",
        "\n",
        "f.) Use the above function to compute the inner fences of the residuals. Store the results in the variables _lower_fence_ and _upper_fence_ respectively.\n",
        "\n",
        "----"
      ]
    },
    {
      "cell_type": "code",
      "execution_count": 10,
      "id": "6b7f3103",
      "metadata": {
        "deletable": false,
        "nbgrader": {
          "cell_type": "code",
          "checksum": "cc5476e1e5653435c8908eed1cc4fc4e",
          "grade": false,
          "grade_id": "cell-0c9813f56d0b5880",
          "locked": false,
          "schema_version": 3,
          "solution": true,
          "task": false
        },
        "colab": {
          "base_uri": "https://localhost:8080/"
        },
        "id": "6b7f3103",
        "outputId": "ce338f8b-29f6-459f-a11d-17a51592fba4"
      },
      "outputs": [
        {
          "output_type": "stream",
          "name": "stdout",
          "text": [
            "upper_fence: 12.019837585630626, lower_fence: -10.330844508526184 \n"
          ]
        }
      ],
      "source": [
        "# YOUR CODE HERE\n",
        " \n",
        "lower, upper = hinges(res_array)\n",
        "inter = upper - lower\n",
        "\n",
        "# inner fences\n",
        "lower_fence = lower - 1.5 * (inter)\n",
        "upper_fence = upper + 1.5 * (inter)\n",
        "\n",
        "print(f'upper_fence: {upper_fence}, lower_fence: {lower_fence} ')\n",
        "\n",
        "\n",
        "# raise NotImplementedError()"
      ]
    },
    {
      "cell_type": "markdown",
      "id": "8ada1415",
      "metadata": {
        "deletable": false,
        "editable": false,
        "nbgrader": {
          "cell_type": "markdown",
          "checksum": "0050c1698ae3b27b9052d3e129c54367",
          "grade": false,
          "grade_id": "cell-ab135b5db7d34a72",
          "locked": true,
          "schema_version": 3,
          "solution": false,
          "task": false
        },
        "id": "8ada1415"
      },
      "source": [
        "----\n",
        "\n",
        "g.) Create a new Dataframe called _Y_ with all the values corresponding to residuals which are beyond the inner fences removed.\n",
        "\n",
        "----"
      ]
    },
    {
      "cell_type": "code",
      "execution_count": 18,
      "id": "3adf9d84",
      "metadata": {
        "deletable": false,
        "nbgrader": {
          "cell_type": "code",
          "checksum": "5d32ce4bc254f7b7908a047006dd7bb2",
          "grade": false,
          "grade_id": "cell-9df6b079e5d05ed9",
          "locked": false,
          "schema_version": 3,
          "solution": true,
          "task": false
        },
        "id": "3adf9d84"
      },
      "outputs": [],
      "source": [
        "# YOUR CODE HERE\n",
        "\n",
        "features_arr = list(X['x'])\n",
        "\n",
        "labels_outlier = []\n",
        "X_outlier = []\n",
        "\n",
        "\n",
        "indices_del = []\n",
        "\n",
        "for item in range(len(res_array)): \n",
        "    if (res_array[item] > upper_fence or res_array[item] < lower_fence):\n",
        "        X_outlier.append(features_arr[item])\n",
        "        labels_outlier.append(y_true[item])\n",
        "        indices_del.append(item)\n",
        "\n",
        "features_arr_mod = np.delete(features_arr, indices_del)\n",
        "y_true_mod = np.delete(y_true, indices_del)\n",
        "\n",
        "\n",
        "# passing the new dataset as a dictionary\n",
        "newX = {\n",
        "    'x' : features_arr_mod,\n",
        "    'y' : y_true_mod\n",
        "}\n",
        "\n",
        "Y = pd.DataFrame(newX)\n",
        "#raise NotImplementedError()"
      ]
    },
    {
      "cell_type": "code",
      "execution_count": 12,
      "id": "6c249563",
      "metadata": {
        "deletable": false,
        "editable": false,
        "nbgrader": {
          "cell_type": "code",
          "checksum": "c4dc53c8e41cd6dae567a65032f69de7",
          "grade": false,
          "grade_id": "cell-5587eaeba70f827e",
          "locked": true,
          "schema_version": 3,
          "solution": false,
          "task": false
        },
        "colab": {
          "base_uri": "https://localhost:8080/",
          "height": 424
        },
        "id": "6c249563",
        "outputId": "f1bb211b-a6fb-4e6a-e8aa-92940ae24b87"
      },
      "outputs": [
        {
          "output_type": "execute_result",
          "data": {
            "text/plain": [
              "            x          y\n",
              "0   -1.082710 -19.151187\n",
              "1   -1.063447 -16.397238\n",
              "2   -1.061148 -11.336125\n",
              "3   -0.993360 -19.188918\n",
              "4   -0.990390 -17.154749\n",
              "..        ...        ...\n",
              "265  0.993728   1.399987\n",
              "266  0.999342  -6.721107\n",
              "267  1.038887  -0.327475\n",
              "268  1.081022   9.416868\n",
              "269  1.099560  -5.737344\n",
              "\n",
              "[270 rows x 2 columns]"
            ],
            "text/html": [
              "\n",
              "  <div id=\"df-a94ffd20-e511-4cde-a793-868ed63549ed\">\n",
              "    <div class=\"colab-df-container\">\n",
              "      <div>\n",
              "<style scoped>\n",
              "    .dataframe tbody tr th:only-of-type {\n",
              "        vertical-align: middle;\n",
              "    }\n",
              "\n",
              "    .dataframe tbody tr th {\n",
              "        vertical-align: top;\n",
              "    }\n",
              "\n",
              "    .dataframe thead th {\n",
              "        text-align: right;\n",
              "    }\n",
              "</style>\n",
              "<table border=\"1\" class=\"dataframe\">\n",
              "  <thead>\n",
              "    <tr style=\"text-align: right;\">\n",
              "      <th></th>\n",
              "      <th>x</th>\n",
              "      <th>y</th>\n",
              "    </tr>\n",
              "  </thead>\n",
              "  <tbody>\n",
              "    <tr>\n",
              "      <th>0</th>\n",
              "      <td>-1.082710</td>\n",
              "      <td>-19.151187</td>\n",
              "    </tr>\n",
              "    <tr>\n",
              "      <th>1</th>\n",
              "      <td>-1.063447</td>\n",
              "      <td>-16.397238</td>\n",
              "    </tr>\n",
              "    <tr>\n",
              "      <th>2</th>\n",
              "      <td>-1.061148</td>\n",
              "      <td>-11.336125</td>\n",
              "    </tr>\n",
              "    <tr>\n",
              "      <th>3</th>\n",
              "      <td>-0.993360</td>\n",
              "      <td>-19.188918</td>\n",
              "    </tr>\n",
              "    <tr>\n",
              "      <th>4</th>\n",
              "      <td>-0.990390</td>\n",
              "      <td>-17.154749</td>\n",
              "    </tr>\n",
              "    <tr>\n",
              "      <th>...</th>\n",
              "      <td>...</td>\n",
              "      <td>...</td>\n",
              "    </tr>\n",
              "    <tr>\n",
              "      <th>265</th>\n",
              "      <td>0.993728</td>\n",
              "      <td>1.399987</td>\n",
              "    </tr>\n",
              "    <tr>\n",
              "      <th>266</th>\n",
              "      <td>0.999342</td>\n",
              "      <td>-6.721107</td>\n",
              "    </tr>\n",
              "    <tr>\n",
              "      <th>267</th>\n",
              "      <td>1.038887</td>\n",
              "      <td>-0.327475</td>\n",
              "    </tr>\n",
              "    <tr>\n",
              "      <th>268</th>\n",
              "      <td>1.081022</td>\n",
              "      <td>9.416868</td>\n",
              "    </tr>\n",
              "    <tr>\n",
              "      <th>269</th>\n",
              "      <td>1.099560</td>\n",
              "      <td>-5.737344</td>\n",
              "    </tr>\n",
              "  </tbody>\n",
              "</table>\n",
              "<p>270 rows × 2 columns</p>\n",
              "</div>\n",
              "      <button class=\"colab-df-convert\" onclick=\"convertToInteractive('df-a94ffd20-e511-4cde-a793-868ed63549ed')\"\n",
              "              title=\"Convert this dataframe to an interactive table.\"\n",
              "              style=\"display:none;\">\n",
              "        \n",
              "  <svg xmlns=\"http://www.w3.org/2000/svg\" height=\"24px\"viewBox=\"0 0 24 24\"\n",
              "       width=\"24px\">\n",
              "    <path d=\"M0 0h24v24H0V0z\" fill=\"none\"/>\n",
              "    <path d=\"M18.56 5.44l.94 2.06.94-2.06 2.06-.94-2.06-.94-.94-2.06-.94 2.06-2.06.94zm-11 1L8.5 8.5l.94-2.06 2.06-.94-2.06-.94L8.5 2.5l-.94 2.06-2.06.94zm10 10l.94 2.06.94-2.06 2.06-.94-2.06-.94-.94-2.06-.94 2.06-2.06.94z\"/><path d=\"M17.41 7.96l-1.37-1.37c-.4-.4-.92-.59-1.43-.59-.52 0-1.04.2-1.43.59L10.3 9.45l-7.72 7.72c-.78.78-.78 2.05 0 2.83L4 21.41c.39.39.9.59 1.41.59.51 0 1.02-.2 1.41-.59l7.78-7.78 2.81-2.81c.8-.78.8-2.07 0-2.86zM5.41 20L4 18.59l7.72-7.72 1.47 1.35L5.41 20z\"/>\n",
              "  </svg>\n",
              "      </button>\n",
              "      \n",
              "  <style>\n",
              "    .colab-df-container {\n",
              "      display:flex;\n",
              "      flex-wrap:wrap;\n",
              "      gap: 12px;\n",
              "    }\n",
              "\n",
              "    .colab-df-convert {\n",
              "      background-color: #E8F0FE;\n",
              "      border: none;\n",
              "      border-radius: 50%;\n",
              "      cursor: pointer;\n",
              "      display: none;\n",
              "      fill: #1967D2;\n",
              "      height: 32px;\n",
              "      padding: 0 0 0 0;\n",
              "      width: 32px;\n",
              "    }\n",
              "\n",
              "    .colab-df-convert:hover {\n",
              "      background-color: #E2EBFA;\n",
              "      box-shadow: 0px 1px 2px rgba(60, 64, 67, 0.3), 0px 1px 3px 1px rgba(60, 64, 67, 0.15);\n",
              "      fill: #174EA6;\n",
              "    }\n",
              "\n",
              "    [theme=dark] .colab-df-convert {\n",
              "      background-color: #3B4455;\n",
              "      fill: #D2E3FC;\n",
              "    }\n",
              "\n",
              "    [theme=dark] .colab-df-convert:hover {\n",
              "      background-color: #434B5C;\n",
              "      box-shadow: 0px 1px 3px 1px rgba(0, 0, 0, 0.15);\n",
              "      filter: drop-shadow(0px 1px 2px rgba(0, 0, 0, 0.3));\n",
              "      fill: #FFFFFF;\n",
              "    }\n",
              "  </style>\n",
              "\n",
              "      <script>\n",
              "        const buttonEl =\n",
              "          document.querySelector('#df-a94ffd20-e511-4cde-a793-868ed63549ed button.colab-df-convert');\n",
              "        buttonEl.style.display =\n",
              "          google.colab.kernel.accessAllowed ? 'block' : 'none';\n",
              "\n",
              "        async function convertToInteractive(key) {\n",
              "          const element = document.querySelector('#df-a94ffd20-e511-4cde-a793-868ed63549ed');\n",
              "          const dataTable =\n",
              "            await google.colab.kernel.invokeFunction('convertToInteractive',\n",
              "                                                     [key], {});\n",
              "          if (!dataTable) return;\n",
              "\n",
              "          const docLinkHtml = 'Like what you see? Visit the ' +\n",
              "            '<a target=\"_blank\" href=https://colab.research.google.com/notebooks/data_table.ipynb>data table notebook</a>'\n",
              "            + ' to learn more about interactive tables.';\n",
              "          element.innerHTML = '';\n",
              "          dataTable['output_type'] = 'display_data';\n",
              "          await google.colab.output.renderOutput(dataTable, element);\n",
              "          const docLink = document.createElement('div');\n",
              "          docLink.innerHTML = docLinkHtml;\n",
              "          element.appendChild(docLink);\n",
              "        }\n",
              "      </script>\n",
              "    </div>\n",
              "  </div>\n",
              "  "
            ]
          },
          "metadata": {},
          "execution_count": 12
        }
      ],
      "source": [
        "Y"
      ]
    },
    {
      "cell_type": "code",
      "execution_count": null,
      "id": "3be71450",
      "metadata": {
        "deletable": false,
        "editable": false,
        "nbgrader": {
          "cell_type": "code",
          "checksum": "8b48df349f3630b54a93048b7389daec",
          "grade": true,
          "grade_id": "cell-915dde633ddedd13",
          "locked": true,
          "points": 5,
          "schema_version": 3,
          "solution": false,
          "task": false
        },
        "id": "3be71450"
      },
      "outputs": [],
      "source": []
    },
    {
      "cell_type": "markdown",
      "id": "27b9774b",
      "metadata": {
        "deletable": false,
        "editable": false,
        "nbgrader": {
          "cell_type": "markdown",
          "checksum": "eb2a2aa70021621bb1872aa4ade05324",
          "grade": false,
          "grade_id": "cell-6a49739aee69c15b",
          "locked": true,
          "schema_version": 3,
          "solution": false,
          "task": false
        },
        "id": "27b9774b"
      },
      "source": [
        "----\n",
        "\n",
        "h.) Fit a new linear model and plot the  outliers as red points, the remainder of the points (non-outliers) as blue stars (\\*), the original model as a black line and the new model shown as a green line. Store the new model parameters in the variables _m\\_new_ and _b\\_new_.\n",
        "\n",
        "----"
      ]
    },
    {
      "cell_type": "code",
      "execution_count": 20,
      "id": "319bb134",
      "metadata": {
        "deletable": false,
        "nbgrader": {
          "cell_type": "code",
          "checksum": "04511de03a1890ec704e45f06cb250a5",
          "grade": true,
          "grade_id": "cell-5f22fe29f2335091",
          "locked": false,
          "points": 5,
          "schema_version": 3,
          "solution": true,
          "task": false
        },
        "colab": {
          "base_uri": "https://localhost:8080/",
          "height": 312
        },
        "id": "319bb134",
        "outputId": "a3206fbb-6881-4698-cff3-c455a80cef31"
      },
      "outputs": [
        {
          "output_type": "execute_result",
          "data": {
            "text/plain": [
              "Text(0.5, 0, 'x (feature)')"
            ]
          },
          "metadata": {},
          "execution_count": 20
        },
        {
          "output_type": "display_data",
          "data": {
            "text/plain": [
              "<Figure size 432x288 with 1 Axes>"
            ],
            "image/png": "[encoded data removed]"
          },
          "metadata": {
            "needs_background": "light"
          }
        }
      ],
      "source": [
        "# YOUR CODE HERE\n",
        "\n",
        "feature = np.array(Y['x'])\n",
        "label = np.array(Y['y'])\n",
        "m_new, b_new = np.polyfit(feature, label, deg=1)\n",
        "\n",
        "plt.scatter(X_outlier, labels_outlier, color='red')\n",
        "plt.scatter(features_arr_mod, y_true_mod, color='blue', marker='*')\n",
        "\n",
        "# old model\n",
        "plt.plot(features_arr, y_predictions, color='black')\n",
        "\n",
        "# new model\n",
        "plt.plot(Y['x'], np.dot(Y['x'], m_new)+b_new, color='green')\n",
        "\n",
        "plt.title('Comparison of regression models')\n",
        "plt.ylabel('y = mx + b (label)')\n",
        "plt.xlabel('x (feature)')\n",
        "\n",
        "\n",
        "# raise NotImplementedError()"
      ]
    },
    {
      "cell_type": "markdown",
      "id": "8f14734b",
      "metadata": {
        "deletable": false,
        "editable": false,
        "nbgrader": {
          "cell_type": "markdown",
          "checksum": "4227b3ad08f298bc425470b065dc5b52",
          "grade": false,
          "grade_id": "cell-0ac06d00a2d4e370",
          "locked": true,
          "schema_version": 3,
          "solution": false,
          "task": false
        },
        "id": "8f14734b"
      },
      "source": [
        "----\n",
        "\n",
        "j.) Is what you did above different from computing (and filtering) the outliers on the original data? If so, describe how, otherwise explain why they are the same. (a few sentences)\n",
        "\n",
        "----"
      ]
    },
    {
      "cell_type": "markdown",
      "id": "63155e5d",
      "metadata": {
        "deletable": false,
        "nbgrader": {
          "cell_type": "markdown",
          "checksum": "21b17392bec6f8648d67913424d95777",
          "grade": true,
          "grade_id": "cell-b16cf6f03074fa73",
          "locked": false,
          "points": 5,
          "schema_version": 3,
          "solution": true,
          "task": false
        },
        "id": "63155e5d"
      },
      "source": [
        "YOUR ANSWER HERE\n",
        "\n",
        "\n",
        "Theres hardly any difference in the two linear models since these models assumes that dependant and independant variables are linearly related. The model requires a higher degree of x to be sensitive to the outliers."
      ]
    },
    {
      "cell_type": "markdown",
      "id": "a828a5b7",
      "metadata": {
        "deletable": false,
        "editable": false,
        "nbgrader": {
          "cell_type": "markdown",
          "checksum": "a58a97b7ff9433dd6beb9df82a40d45c",
          "grade": false,
          "grade_id": "cell-7c41d349c1de066d",
          "locked": true,
          "schema_version": 3,
          "solution": false,
          "task": false
        },
        "id": "a828a5b7"
      },
      "source": [
        "### 2.)\n",
        "\n",
        "The next dataset is on the sales of video games. \n",
        "\n",
        "---------\n",
        "---------\n",
        "\n",
        "a.) Use pandas to read in the file **games.csv** into a dataframe called _games_\n",
        "\n"
      ]
    },
    {
      "cell_type": "code",
      "execution_count": 22,
      "id": "9497311d",
      "metadata": {
        "deletable": false,
        "editable": false,
        "nbgrader": {
          "cell_type": "code",
          "checksum": "96ba6113c20ff432feb524c5ab59a1fc",
          "grade": false,
          "grade_id": "cell-ef8aa8eb7eb5367b",
          "locked": true,
          "schema_version": 3,
          "solution": false,
          "task": false
        },
        "id": "9497311d",
        "colab": {
          "base_uri": "https://localhost:8080/",
          "height": 206
        },
        "outputId": "d0e81843-a167-4777-e72c-ef52eb30d49d"
      },
      "outputs": [
        {
          "output_type": "execute_result",
          "data": {
            "text/plain": [
              "   Rank                      Name Platform    Year         Genre Publisher  \\\n",
              "0     1                Wii Sports      Wii  2006.0        Sports  Nintendo   \n",
              "1     2         Super Mario Bros.      NES  1985.0      Platform  Nintendo   \n",
              "2     3            Mario Kart Wii      Wii  2008.0        Racing  Nintendo   \n",
              "3     4         Wii Sports Resort      Wii  2009.0        Sports  Nintendo   \n",
              "4     5  Pokemon Red/Pokemon Blue       GB  1996.0  Role-Playing  Nintendo   \n",
              "\n",
              "   NA_Sales  EU_Sales  JP_Sales  Other_Sales  Global_Sales  \n",
              "0     41.49     29.02      3.77         8.46         82.74  \n",
              "1     29.08      3.58      6.81         0.77         40.24  \n",
              "2     15.85     12.88      3.79         3.31         35.82  \n",
              "3     15.75     11.01      3.28         2.96         33.00  \n",
              "4     11.27      8.89     10.22         1.00         31.37  "
            ],
            "text/html": [
              "\n",
              "  <div id=\"df-f09caf74-0267-480e-b21f-493d7b913dcd\">\n",
              "    <div class=\"colab-df-container\">\n",
              "      <div>\n",
              "<style scoped>\n",
              "    .dataframe tbody tr th:only-of-type {\n",
              "        vertical-align: middle;\n",
              "    }\n",
              "\n",
              "    .dataframe tbody tr th {\n",
              "        vertical-align: top;\n",
              "    }\n",
              "\n",
              "    .dataframe thead th {\n",
              "        text-align: right;\n",
              "    }\n",
              "</style>\n",
              "<table border=\"1\" class=\"dataframe\">\n",
              "  <thead>\n",
              "    <tr style=\"text-align: right;\">\n",
              "      <th></th>\n",
              "      <th>Rank</th>\n",
              "      <th>Name</th>\n",
              "      <th>Platform</th>\n",
              "      <th>Year</th>\n",
              "      <th>Genre</th>\n",
              "      <th>Publisher</th>\n",
              "      <th>NA_Sales</th>\n",
              "      <th>EU_Sales</th>\n",
              "      <th>JP_Sales</th>\n",
              "      <th>Other_Sales</th>\n",
              "      <th>Global_Sales</th>\n",
              "    </tr>\n",
              "  </thead>\n",
              "  <tbody>\n",
              "    <tr>\n",
              "      <th>0</th>\n",
              "      <td>1</td>\n",
              "      <td>Wii Sports</td>\n",
              "      <td>Wii</td>\n",
              "      <td>2006.0</td>\n",
              "      <td>Sports</td>\n",
              "      <td>Nintendo</td>\n",
              "      <td>41.49</td>\n",
              "      <td>29.02</td>\n",
              "      <td>3.77</td>\n",
              "      <td>8.46</td>\n",
              "      <td>82.74</td>\n",
              "    </tr>\n",
              "    <tr>\n",
              "      <th>1</th>\n",
              "      <td>2</td>\n",
              "      <td>Super Mario Bros.</td>\n",
              "      <td>NES</td>\n",
              "      <td>1985.0</td>\n",
              "      <td>Platform</td>\n",
              "      <td>Nintendo</td>\n",
              "      <td>29.08</td>\n",
              "      <td>3.58</td>\n",
              "      <td>6.81</td>\n",
              "      <td>0.77</td>\n",
              "      <td>40.24</td>\n",
              "    </tr>\n",
              "    <tr>\n",
              "      <th>2</th>\n",
              "      <td>3</td>\n",
              "      <td>Mario Kart Wii</td>\n",
              "      <td>Wii</td>\n",
              "      <td>2008.0</td>\n",
              "      <td>Racing</td>\n",
              "      <td>Nintendo</td>\n",
              "      <td>15.85</td>\n",
              "      <td>12.88</td>\n",
              "      <td>3.79</td>\n",
              "      <td>3.31</td>\n",
              "      <td>35.82</td>\n",
              "    </tr>\n",
              "    <tr>\n",
              "      <th>3</th>\n",
              "      <td>4</td>\n",
              "      <td>Wii Sports Resort</td>\n",
              "      <td>Wii</td>\n",
              "      <td>2009.0</td>\n",
              "      <td>Sports</td>\n",
              "      <td>Nintendo</td>\n",
              "      <td>15.75</td>\n",
              "      <td>11.01</td>\n",
              "      <td>3.28</td>\n",
              "      <td>2.96</td>\n",
              "      <td>33.00</td>\n",
              "    </tr>\n",
              "    <tr>\n",
              "      <th>4</th>\n",
              "      <td>5</td>\n",
              "      <td>Pokemon Red/Pokemon Blue</td>\n",
              "      <td>GB</td>\n",
              "      <td>1996.0</td>\n",
              "      <td>Role-Playing</td>\n",
              "      <td>Nintendo</td>\n",
              "      <td>11.27</td>\n",
              "      <td>8.89</td>\n",
              "      <td>10.22</td>\n",
              "      <td>1.00</td>\n",
              "      <td>31.37</td>\n",
              "    </tr>\n",
              "  </tbody>\n",
              "</table>\n",
              "</div>\n",
              "      <button class=\"colab-df-convert\" onclick=\"convertToInteractive('df-f09caf74-0267-480e-b21f-493d7b913dcd')\"\n",
              "              title=\"Convert this dataframe to an interactive table.\"\n",
              "              style=\"display:none;\">\n",
              "        \n",
              "  <svg xmlns=\"http://www.w3.org/2000/svg\" height=\"24px\"viewBox=\"0 0 24 24\"\n",
              "       width=\"24px\">\n",
              "    <path d=\"M0 0h24v24H0V0z\" fill=\"none\"/>\n",
              "    <path d=\"M18.56 5.44l.94 2.06.94-2.06 2.06-.94-2.06-.94-.94-2.06-.94 2.06-2.06.94zm-11 1L8.5 8.5l.94-2.06 2.06-.94-2.06-.94L8.5 2.5l-.94 2.06-2.06.94zm10 10l.94 2.06.94-2.06 2.06-.94-2.06-.94-.94-2.06-.94 2.06-2.06.94z\"/><path d=\"M17.41 7.96l-1.37-1.37c-.4-.4-.92-.59-1.43-.59-.52 0-1.04.2-1.43.59L10.3 9.45l-7.72 7.72c-.78.78-.78 2.05 0 2.83L4 21.41c.39.39.9.59 1.41.59.51 0 1.02-.2 1.41-.59l7.78-7.78 2.81-2.81c.8-.78.8-2.07 0-2.86zM5.41 20L4 18.59l7.72-7.72 1.47 1.35L5.41 20z\"/>\n",
              "  </svg>\n",
              "      </button>\n",
              "      \n",
              "  <style>\n",
              "    .colab-df-container {\n",
              "      display:flex;\n",
              "      flex-wrap:wrap;\n",
              "      gap: 12px;\n",
              "    }\n",
              "\n",
              "    .colab-df-convert {\n",
              "      background-color: #E8F0FE;\n",
              "      border: none;\n",
              "      border-radius: 50%;\n",
              "      cursor: pointer;\n",
              "      display: none;\n",
              "      fill: #1967D2;\n",
              "      height: 32px;\n",
              "      padding: 0 0 0 0;\n",
              "      width: 32px;\n",
              "    }\n",
              "\n",
              "    .colab-df-convert:hover {\n",
              "      background-color: #E2EBFA;\n",
              "      box-shadow: 0px 1px 2px rgba(60, 64, 67, 0.3), 0px 1px 3px 1px rgba(60, 64, 67, 0.15);\n",
              "      fill: #174EA6;\n",
              "    }\n",
              "\n",
              "    [theme=dark] .colab-df-convert {\n",
              "      background-color: #3B4455;\n",
              "      fill: #D2E3FC;\n",
              "    }\n",
              "\n",
              "    [theme=dark] .colab-df-convert:hover {\n",
              "      background-color: #434B5C;\n",
              "      box-shadow: 0px 1px 3px 1px rgba(0, 0, 0, 0.15);\n",
              "      filter: drop-shadow(0px 1px 2px rgba(0, 0, 0, 0.3));\n",
              "      fill: #FFFFFF;\n",
              "    }\n",
              "  </style>\n",
              "\n",
              "      <script>\n",
              "        const buttonEl =\n",
              "          document.querySelector('#df-f09caf74-0267-480e-b21f-493d7b913dcd button.colab-df-convert');\n",
              "        buttonEl.style.display =\n",
              "          google.colab.kernel.accessAllowed ? 'block' : 'none';\n",
              "\n",
              "        async function convertToInteractive(key) {\n",
              "          const element = document.querySelector('#df-f09caf74-0267-480e-b21f-493d7b913dcd');\n",
              "          const dataTable =\n",
              "            await google.colab.kernel.invokeFunction('convertToInteractive',\n",
              "                                                     [key], {});\n",
              "          if (!dataTable) return;\n",
              "\n",
              "          const docLinkHtml = 'Like what you see? Visit the ' +\n",
              "            '<a target=\"_blank\" href=https://colab.research.google.com/notebooks/data_table.ipynb>data table notebook</a>'\n",
              "            + ' to learn more about interactive tables.';\n",
              "          element.innerHTML = '';\n",
              "          dataTable['output_type'] = 'display_data';\n",
              "          await google.colab.output.renderOutput(dataTable, element);\n",
              "          const docLink = document.createElement('div');\n",
              "          docLink.innerHTML = docLinkHtml;\n",
              "          element.appendChild(docLink);\n",
              "        }\n",
              "      </script>\n",
              "    </div>\n",
              "  </div>\n",
              "  "
            ]
          },
          "metadata": {},
          "execution_count": 22
        }
      ],
      "source": [
        "games = pd.read_csv('2.csv')\n",
        "games.head()"
      ]
    },
    {
      "cell_type": "code",
      "source": [
        "games['Global_Sales'].describe()"
      ],
      "metadata": {
        "colab": {
          "base_uri": "https://localhost:8080/"
        },
        "id": "dO9hUpoKborO",
        "outputId": "09cbb05f-2aa3-4cf1-dae6-9c7312bf8a97"
      },
      "id": "dO9hUpoKborO",
      "execution_count": 39,
      "outputs": [
        {
          "output_type": "execute_result",
          "data": {
            "text/plain": [
              "count    16598.000000\n",
              "mean         0.537441\n",
              "std          1.555028\n",
              "min          0.010000\n",
              "25%          0.060000\n",
              "50%          0.170000\n",
              "75%          0.470000\n",
              "max         82.740000\n",
              "Name: Global_Sales, dtype: float64"
            ]
          },
          "metadata": {},
          "execution_count": 39
        }
      ]
    },
    {
      "cell_type": "markdown",
      "id": "452dc588",
      "metadata": {
        "deletable": false,
        "editable": false,
        "nbgrader": {
          "cell_type": "markdown",
          "checksum": "398221e9e8c3a1f3c7c2f0af07eab95b",
          "grade": false,
          "grade_id": "cell-83c932189e7038a7",
          "locked": true,
          "schema_version": 3,
          "solution": false,
          "task": false
        },
        "id": "452dc588"
      },
      "source": [
        "\n",
        " ----\n",
        " \n",
        "a.) Find answers to the following questions about the dataframe.\n",
        "- How many genres are there? Store the answer in a variable called _num_genres_. \n",
        "- How many publishers are there? Store the answer in a variable _num_publishers_.\n",
        "- How many platforms are there? Store the answer in a variable _num_platforms_.\n",
        "\n",
        "----\n"
      ]
    },
    {
      "cell_type": "code",
      "execution_count": 27,
      "id": "e1d49973",
      "metadata": {
        "deletable": false,
        "nbgrader": {
          "cell_type": "code",
          "checksum": "a3d5c64cfd1f2efeae1d050adbc9bd83",
          "grade": false,
          "grade_id": "cell-a895136977a65809",
          "locked": false,
          "schema_version": 3,
          "solution": true,
          "task": false
        },
        "id": "e1d49973",
        "colab": {
          "base_uri": "https://localhost:8080/"
        },
        "outputId": "27043b58-e2eb-4d8b-ef59-d685cd6fd84f"
      },
      "outputs": [
        {
          "output_type": "stream",
          "name": "stdout",
          "text": [
            "genres: 12\n",
            " publishers: 579\n",
            " platforms: 31\n"
          ]
        }
      ],
      "source": [
        "# YOUR CODE HERE\n",
        "\n",
        "num_genres = len(games['Genre'].unique())\n",
        "num_publishers = len(games['Publisher'].unique())\n",
        "num_platforms = len(games['Platform'].unique())\n",
        "\n",
        "print(f'genres: {num_genres}\\n publishers: {num_publishers}\\n platforms: {num_platforms}')\n",
        "\n",
        "# raise NotImplementedError()"
      ]
    },
    {
      "cell_type": "code",
      "execution_count": 62,
      "id": "c19288af",
      "metadata": {
        "deletable": false,
        "editable": false,
        "nbgrader": {
          "cell_type": "code",
          "checksum": "6fa9030818d36a419032cdb29c0a120f",
          "grade": true,
          "grade_id": "cell-9bd4d3c9745b9b6e",
          "locked": true,
          "points": 3,
          "schema_version": 3,
          "solution": false,
          "task": false
        },
        "id": "c19288af",
        "colab": {
          "base_uri": "https://localhost:8080/"
        },
        "outputId": "94516da8-5bca-4f90-b14f-7eab10ec7f4a"
      },
      "outputs": [
        {
          "output_type": "execute_result",
          "data": {
            "text/plain": [
              "623"
            ]
          },
          "metadata": {},
          "execution_count": 62
        }
      ],
      "source": [
        "len(games['Global_Sales'].unique())"
      ]
    },
    {
      "cell_type": "markdown",
      "id": "bdc7785f",
      "metadata": {
        "deletable": false,
        "editable": false,
        "nbgrader": {
          "cell_type": "markdown",
          "checksum": "c107c079e55bf256ced593c8cece6350",
          "grade": false,
          "grade_id": "cell-92502e03ec31ec1a",
          "locked": true,
          "schema_version": 3,
          "solution": false,
          "task": false
        },
        "id": "bdc7785f"
      },
      "source": [
        "----\n",
        "\n",
        "b.) Create a box-and-whisker plot of Global Sales by genre.\n",
        "\n",
        "----"
      ]
    },
    {
      "cell_type": "code",
      "execution_count": 66,
      "id": "e21b3947",
      "metadata": {
        "deletable": false,
        "nbgrader": {
          "cell_type": "code",
          "checksum": "fa005e2d90f6ec72ad9490b919bd38cc",
          "grade": true,
          "grade_id": "cell-ad05bdfe1f74fd5a",
          "locked": false,
          "points": 4,
          "schema_version": 3,
          "solution": true,
          "task": false
        },
        "id": "e21b3947",
        "colab": {
          "base_uri": "https://localhost:8080/",
          "height": 851
        },
        "outputId": "8fe5590b-e058-4643-d862-e9b3f9a79876"
      },
      "outputs": [
        {
          "output_type": "stream",
          "name": "stderr",
          "text": [
            "/usr/local/lib/python3.8/dist-packages/matplotlib/cbook/__init__.py:1376: VisibleDeprecationWarning: Creating an ndarray from ragged nested sequences (which is a list-or-tuple of lists-or-tuples-or ndarrays with different lengths or shapes) is deprecated. If you meant to do this, you must specify 'dtype=object' when creating the ndarray.\n",
            "  X = np.atleast_1d(X.T if isinstance(X, np.ndarray) else np.asarray(X))\n"
          ]
        },
        {
          "output_type": "execute_result",
          "data": {
            "text/plain": [
              "<matplotlib.axes._subplots.AxesSubplot at 0x7fdb812b9850>"
            ]
          },
          "metadata": {},
          "execution_count": 66
        },
        {
          "output_type": "display_data",
          "data": {
            "text/plain": [
              "<Figure size 864x864 with 1 Axes>"
            ],
            "image/png": "[encoded data removed]"
          },
          "metadata": {
            "needs_background": "light"
          }
        }
      ],
      "source": [
        "# YOUR CODE HERE\n",
        "\n",
        "\n",
        "games.boxplot(column=['Global_Sales'], by=['Genre'], figsize=(12,12))\n",
        "\n",
        "\n",
        "# raise NotImplementedError()"
      ]
    },
    {
      "cell_type": "markdown",
      "id": "ed539631",
      "metadata": {
        "deletable": false,
        "editable": false,
        "nbgrader": {
          "cell_type": "markdown",
          "checksum": "9372bd187655b364dde2bded134cae07",
          "grade": false,
          "grade_id": "cell-6753222df59f8cc9",
          "locked": true,
          "schema_version": 3,
          "solution": false,
          "task": false
        },
        "id": "ed539631"
      },
      "source": [
        "----\n",
        "\n",
        "c.) Find the upper outer fence thresholds for each genre (assuming hinges at the 25th and 75th percentile). Store them in a dictionary {genre:upper outer fence} called ufence.\n",
        "\n",
        "---"
      ]
    },
    {
      "cell_type": "code",
      "execution_count": null,
      "id": "675ad765",
      "metadata": {
        "deletable": false,
        "nbgrader": {
          "cell_type": "code",
          "checksum": "e122bd72e575b38a74916eaa733b6566",
          "grade": false,
          "grade_id": "cell-efe4710776f50850",
          "locked": false,
          "schema_version": 3,
          "solution": true,
          "task": false
        },
        "id": "675ad765"
      },
      "outputs": [],
      "source": [
        "# YOUR CODE HERE\n",
        "raise NotImplementedError()"
      ]
    },
    {
      "cell_type": "code",
      "execution_count": null,
      "id": "6291c7a4",
      "metadata": {
        "deletable": false,
        "editable": false,
        "nbgrader": {
          "cell_type": "code",
          "checksum": "a9412a82a02e5dc3363bf7391f29abf8",
          "grade": true,
          "grade_id": "cell-b19900eb856a4a17",
          "locked": true,
          "points": 12,
          "schema_version": 3,
          "solution": false,
          "task": false
        },
        "id": "6291c7a4"
      },
      "outputs": [],
      "source": []
    },
    {
      "cell_type": "markdown",
      "id": "6ab2f434",
      "metadata": {
        "deletable": false,
        "editable": false,
        "nbgrader": {
          "cell_type": "markdown",
          "checksum": "e5a63c7b4ef8cfbf1879323ccc5eddb5",
          "grade": false,
          "grade_id": "cell-4df6d7939b1cd6de",
          "locked": true,
          "schema_version": 3,
          "solution": false,
          "task": false
        },
        "id": "6ab2f434"
      },
      "source": [
        "----\n",
        "\n",
        "d.) Plot the unnormalised histogram with 20 bins for all sports games whose Global sales which are beyond the outer fence.\n",
        "\n",
        "\n",
        "----\n"
      ]
    },
    {
      "cell_type": "code",
      "execution_count": null,
      "id": "7eee0275",
      "metadata": {
        "deletable": false,
        "nbgrader": {
          "cell_type": "code",
          "checksum": "f3b3ef5917b7d9bb693933a834e776a6",
          "grade": true,
          "grade_id": "cell-0ec4c9ec902d4aba",
          "locked": false,
          "points": 5,
          "schema_version": 3,
          "solution": true,
          "task": false
        },
        "id": "7eee0275"
      },
      "outputs": [],
      "source": [
        "# YOUR CODE HERE\n",
        "raise NotImplementedError()"
      ]
    },
    {
      "cell_type": "markdown",
      "id": "48b238e3",
      "metadata": {
        "deletable": false,
        "editable": false,
        "nbgrader": {
          "cell_type": "markdown",
          "checksum": "0c9da3fc3adfa5a89b006dd3f44e1b06",
          "grade": false,
          "grade_id": "cell-db7439f2e21a666d",
          "locked": true,
          "schema_version": 3,
          "solution": false,
          "task": false
        },
        "id": "48b238e3"
      },
      "source": [
        "---- \n",
        "e.) If these are successful games - what can you say about the maximum versus the typical successful game? What are the problems with using the average (overall or just the succesful games).\n",
        "\n",
        "---"
      ]
    },
    {
      "cell_type": "markdown",
      "id": "52a8c0fb",
      "metadata": {
        "deletable": false,
        "nbgrader": {
          "cell_type": "markdown",
          "checksum": "56bab1e0c38fcdff1867915c5a0513cd",
          "grade": true,
          "grade_id": "cell-73becb7b6ff394e2",
          "locked": false,
          "points": 4,
          "schema_version": 3,
          "solution": true,
          "task": false
        },
        "id": "52a8c0fb"
      },
      "source": [
        "YOUR ANSWER HERE"
      ]
    },
    {
      "cell_type": "markdown",
      "id": "b0d417e0",
      "metadata": {
        "deletable": false,
        "editable": false,
        "nbgrader": {
          "cell_type": "markdown",
          "checksum": "1bd8ad4b0b2825de7f97642aab72a264",
          "grade": false,
          "grade_id": "cell-e4f6208a960302e8",
          "locked": true,
          "schema_version": 3,
          "solution": false,
          "task": false
        },
        "id": "b0d417e0"
      },
      "source": [
        "----\n",
        "\n",
        "f.) Create a plot of Global Sales with a line for the following platforms per year.\n",
        "- 2600, NES, SNES, GEN, N64, GC, WII, PS, PS2, PS3, PS4, X360, XB, XOne\n",
        "\n",
        "----\n"
      ]
    },
    {
      "cell_type": "code",
      "execution_count": null,
      "id": "aa5921ed",
      "metadata": {
        "deletable": false,
        "nbgrader": {
          "cell_type": "code",
          "checksum": "4ad33b0148c65d6ae468882874b8af43",
          "grade": true,
          "grade_id": "cell-d2695e9a2a0dee9d",
          "locked": false,
          "points": 10,
          "schema_version": 3,
          "solution": true,
          "task": false
        },
        "id": "aa5921ed"
      },
      "outputs": [],
      "source": [
        "# YOUR CODE HERE\n",
        "raise NotImplementedError()"
      ]
    }
  ],
  "metadata": {
    "kernelspec": {
      "display_name": "Python 3 (ipykernel)",
      "language": "python",
      "name": "python3"
    },
    "language_info": {
      "codemirror_mode": {
        "name": "ipython",
        "version": 3
      },
      "file_extension": ".py",
      "mimetype": "text/x-python",
      "name": "python",
      "nbconvert_exporter": "python",
      "pygments_lexer": "ipython3",
      "version": "3.8.12"
    },
    "colab": {
      "provenance": [],
      "include_colab_link": true
    }
  },
  "nbformat": 4,
  "nbformat_minor": 5
}