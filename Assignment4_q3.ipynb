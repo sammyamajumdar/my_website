{
  "cells": [
    {
      "cell_type": "markdown",
      "metadata": {
        "id": "view-in-github",
        "colab_type": "text"
      },
      "source": [
        "<a href=\"https://colab.research.google.com/github/sammyamajumdar/my_website/blob/main/Assignment4_q3.ipynb\" target=\"_parent\"><img src=\"https://colab.research.google.com/assets/colab-badge.svg\" alt=\"Open In Colab\"/></a>"
      ]
    },
    {
      "cell_type": "markdown",
      "id": "687cdb84",
      "metadata": {
        "id": "687cdb84"
      },
      "source": [
        "Before you turn this problem in, make sure everything runs as expected. First, **restart the kernel** (in the menubar, select Kernel$\\rightarrow$Restart) and then **run all cells** (in the menubar, select Cell$\\rightarrow$Run All).\n",
        "\n",
        "Make sure you fill in any place that says `YOUR CODE HERE` or \"YOUR ANSWER HERE\", as well as your name and collaborators below:"
      ]
    },
    {
      "cell_type": "code",
      "execution_count": null,
      "id": "d7fc2c55",
      "metadata": {
        "id": "d7fc2c55"
      },
      "outputs": [],
      "source": [
        "STUDENT_ID = \"\""
      ]
    },
    {
      "cell_type": "markdown",
      "id": "d9d1eb4c",
      "metadata": {
        "id": "d9d1eb4c"
      },
      "source": [
        "---"
      ]
    },
    {
      "cell_type": "markdown",
      "id": "3e893889",
      "metadata": {
        "deletable": false,
        "editable": false,
        "nbgrader": {
          "cell_type": "markdown",
          "checksum": "babe91ff3d6e8a834afd441a59c36d13",
          "grade": false,
          "grade_id": "cell-7186ca423b60543c",
          "locked": true,
          "schema_version": 3,
          "solution": false,
          "task": false
        },
        "id": "3e893889"
      },
      "source": [
        "MTH765P - Coursework 4 \n",
        "This is a template notebook for the last coursework assignment for MTH765P,\n",
        "Closely follow the instructions in this template in order \n",
        "to complete the assessment and to obtain full marks. Please only\n",
        "modify cells where you are instructed to do so. Failure to comply\n",
        "may result in unexpected errors that can lead to mark deductions.\n",
        "\n",
        "Author: Primoz Skraba\n",
        "\n",
        "\n",
        "As usual, we begin by loading the necessary libraries. You should not \n",
        "import any other libraries."
      ]
    },
    {
      "cell_type": "code",
      "execution_count": null,
      "id": "6fcdc7a3",
      "metadata": {
        "deletable": false,
        "editable": false,
        "nbgrader": {
          "cell_type": "code",
          "checksum": "c38fd7e76446c4cc348e4735ed6ca79a",
          "grade": false,
          "grade_id": "cell-e0498cc6111d3a30",
          "locked": true,
          "schema_version": 3,
          "solution": false,
          "task": false
        },
        "id": "6fcdc7a3"
      },
      "outputs": [],
      "source": [
        "import sqlite3 \n",
        "import pandas as pd\n",
        "import numpy as np"
      ]
    },
    {
      "cell_type": "markdown",
      "id": "5b456c4d",
      "metadata": {
        "deletable": false,
        "editable": false,
        "nbgrader": {
          "cell_type": "markdown",
          "checksum": "3e971e62d472ebcebc9c0e9ee80e96ab",
          "grade": false,
          "grade_id": "cell-3789e660386ae6ea",
          "locked": true,
          "schema_version": 3,
          "solution": false,
          "task": false
        },
        "id": "5b456c4d"
      },
      "source": [
        "## Question 1 (30 points): \n",
        "\n",
        "-----------------------------------------\n",
        "\n",
        "\n",
        "a.)  **(10 points)** Create a sqlite database called **nanoim.db** with the following tables.\n",
        "- All numbers should be integers\n",
        "- IDs should be the primary key\n",
        "- All other entries should be of type TEXT\n",
        "\n",
        "Be sure to close the table once you have created it. \n",
        "\n",
        "<h1><center>Movies</center></h1>\n",
        "\n",
        "|MovieID  | Movie |Actor |Director|\n",
        "|  :--:|  :----: |  :----:| :----:|\n",
        "|1 | Idiocracy| 1 |4|\n",
        "|2 | Predator |2 |1|\n",
        "|3 | The Room |4  |2|\n",
        "|4 | Point Break  |3 | 3 |\n",
        "\n",
        "\n",
        "<h1><center>Actors</center></h1>\n",
        "\n",
        "|ActorID  | Name | Rank|\n",
        "|  :--:|  :----: |  :----:|\n",
        "|1 |Terry Crews|3|\n",
        "|2 | Arnold Schwarzenegger |2|\n",
        "|3 |Keanu Reeves | 1 |\n",
        "|4 |Tommy Wiseau |4|\n",
        "\n",
        "\n",
        "<h1><center>Directors </center></h1>\n",
        "\n",
        "|DirectorID  | Name |\n",
        "|  :--:|  :----: | \n",
        "|1 |John McTiernan| \n",
        "|2 |Tommy Wiseau|\n",
        "|3 |Kathryn Bigelow |\n",
        "|4 |Mike Judge|\n",
        "\n",
        "\n",
        "\n"
      ]
    },
    {
      "cell_type": "code",
      "source": [
        "# cursors: allows traversal, retrieval and manipulation of records in in a database\n",
        "# transaction: an unit of work in a database management system"
      ],
      "metadata": {
        "id": "7zAr63LyeI4t"
      },
      "id": "7zAr63LyeI4t",
      "execution_count": null,
      "outputs": []
    },
    {
      "cell_type": "code",
      "execution_count": null,
      "id": "c788644c",
      "metadata": {
        "deletable": false,
        "nbgrader": {
          "cell_type": "code",
          "checksum": "34f7aff5d882e22b5e3c5320a0a2cd1a",
          "grade": false,
          "grade_id": "cell-bc359bcd41563bd4",
          "locked": false,
          "schema_version": 3,
          "solution": true,
          "task": false
        },
        "id": "c788644c"
      },
      "outputs": [],
      "source": [
        "# YOUR CODE HERE\n",
        "\n",
        "con = sqlite3.connect('nanoim.db')\n",
        "cur = con.cursor()\n",
        "\n",
        "cur.execute('''CREATE TABLE Movies\n",
        "                (MovieID integer PRIMARY KEY autoincrement, \n",
        "                Movie text, \n",
        "                Actor integer, \n",
        "                Director integer)''')\n",
        "\n",
        "\n",
        "cur.execute(\"INSERT INTO Movies VALUES (1, 'Idiocracy', 1, 4 )\")\n",
        "cur.execute(\"INSERT INTO Movies VALUES (2, 'Predator', 2, 1 )\")\n",
        "cur.execute(\"INSERT INTO Movies VALUES (3, 'The Room', 4, 2 )\")\n",
        "cur.execute(\"INSERT INTO Movies VALUES (4, 'Point Break', 3, 3 )\")\n",
        "\n",
        "\n",
        "# to print out the table \n",
        "\n",
        "# cur.execute(''' SELECT * FROM Movies ''')\n",
        "# print(cur.fetchall())\n",
        "\n",
        "\n",
        "con.commit()\n",
        "con.close()\n",
        "\n",
        "\n",
        "\n",
        "\n",
        "# raise NotImplementedError()\n"
      ]
    },
    {
      "cell_type": "code",
      "execution_count": null,
      "id": "8d6dd2fc",
      "metadata": {
        "deletable": false,
        "editable": false,
        "nbgrader": {
          "cell_type": "code",
          "checksum": "27828b5106992dd66af292fbbc6091ad",
          "grade": true,
          "grade_id": "cell-f4c687095074f32a",
          "locked": true,
          "points": 12,
          "schema_version": 3,
          "solution": false,
          "task": false
        },
        "id": "8d6dd2fc"
      },
      "outputs": [],
      "source": [
        "con_table2 = sqlite3.connect('nanoim.db')\n",
        "cur = con_table2.cursor()\n",
        "cur.execute('''CREATE TABLE Actors\n",
        "                (ActorID integer PRIMARY KEY, \n",
        "                Name text, \n",
        "                Rank integer)''')\n",
        "\n",
        "cur.execute(\"INSERT INTO Actors VALUES (1, 'Terry Crews', 3)\")\n",
        "cur.execute(\"INSERT INTO Actors VALUES (2, 'Arnold Schwarzenegger', 2)\")\n",
        "cur.execute(\"INSERT INTO Actors VALUES (3, 'Keanu Reeves', 1)\")\n",
        "cur.execute(\"INSERT INTO Actors VALUES (4, 'Tommy Wiseau', 4)\")\n",
        "\n",
        "\n",
        "con_table2.commit()\n",
        "con_table2.close()"
      ]
    },
    {
      "cell_type": "code",
      "source": [
        "con_table3 = sqlite3.connect('nanoim.db')\n",
        "cur = con_table3.cursor()\n",
        "cur.execute('''CREATE TABLE Directors\n",
        "                (DirectorID integer PRIMARY KEY,\n",
        "                 Name text)''')\n",
        "\n",
        "cur.execute(\"INSERT INTO Directors VALUES (1, 'John McTiernan')\")\n",
        "cur.execute(\"INSERT INTO Directors VALUES (2, 'Tommy Wiseau')\")\n",
        "cur.execute(\"INSERT INTO Directors VALUES (3, 'Kathryn Bigelow')\")\n",
        "cur.execute(\"INSERT INTO Directors VALUES (4, 'Mike Judge')\")\n",
        "\n",
        "\n",
        "con_table3.commit()\n",
        "con_table3.close()"
      ],
      "metadata": {
        "id": "p3gFu-Fvpp2U"
      },
      "id": "p3gFu-Fvpp2U",
      "execution_count": null,
      "outputs": []
    },
    {
      "cell_type": "markdown",
      "id": "c569f38a",
      "metadata": {
        "deletable": false,
        "editable": false,
        "nbgrader": {
          "cell_type": "markdown",
          "checksum": "a6c9984b4ded5f401ff7d8384402461f",
          "grade": false,
          "grade_id": "cell-89c1238704719e7d",
          "locked": true,
          "schema_version": 3,
          "solution": false,
          "task": false
        },
        "id": "c569f38a"
      },
      "source": [
        "----------------\n",
        "----------------\n",
        "\n",
        "b) (2 Point) Reconnect with **nanoim.db** in a connection named _conn_\n",
        "\n",
        "----------------"
      ]
    },
    {
      "cell_type": "code",
      "execution_count": null,
      "id": "b17efd7e",
      "metadata": {
        "deletable": false,
        "nbgrader": {
          "cell_type": "code",
          "checksum": "1413a1fa8ebd3e0be3cc7b19c85735f0",
          "grade": false,
          "grade_id": "cell-0e83b7a5e4b6f4b3",
          "locked": false,
          "schema_version": 3,
          "solution": true,
          "task": false
        },
        "id": "b17efd7e"
      },
      "outputs": [],
      "source": [
        "# YOUR CODE HERE\n",
        "\n",
        "conn = sqlite3.connect('nanoim.db')\n",
        "\n",
        "# raise NotImplementedError()"
      ]
    },
    {
      "cell_type": "code",
      "execution_count": null,
      "id": "85974e8b",
      "metadata": {
        "deletable": false,
        "editable": false,
        "nbgrader": {
          "cell_type": "code",
          "checksum": "75ea22737b0fc4941386b926e1de3ccd",
          "grade": true,
          "grade_id": "cell-64c8e3763986c6ff",
          "locked": true,
          "points": 3,
          "schema_version": 3,
          "solution": false,
          "task": false
        },
        "id": "85974e8b"
      },
      "outputs": [],
      "source": []
    },
    {
      "cell_type": "markdown",
      "id": "2f92fb5d",
      "metadata": {
        "deletable": false,
        "editable": false,
        "nbgrader": {
          "cell_type": "markdown",
          "checksum": "7f9895939d351801256cd18481eae0c7",
          "grade": false,
          "grade_id": "cell-a1fdcd3fb52af73b",
          "locked": true,
          "schema_version": 3,
          "solution": false,
          "task": false
        },
        "id": "2f92fb5d"
      },
      "source": [
        "For the rest of this question you will construct SQL queries and run them.\n",
        "- Make sure to store the result in the variable name given\n",
        "- Make queries so that they would work if the tables are expanded or updated. \n",
        "- Use only sqlite3 functions "
      ]
    },
    {
      "cell_type": "markdown",
      "id": "88152613",
      "metadata": {
        "deletable": false,
        "editable": false,
        "nbgrader": {
          "cell_type": "markdown",
          "checksum": "9ca09f2aec4c5aa3c2f9531179f7ccab",
          "grade": false,
          "grade_id": "cell-13158495b4a99e7f",
          "locked": true,
          "schema_version": 3,
          "solution": false,
          "task": false
        },
        "id": "88152613"
      },
      "source": [
        "---------\n",
        "---------\n",
        "\n",
        "c.) **(5 Points)** Create a following query to return names of the actors who are ranked 3rd or higher (**The highest rank is 1**). Store the result in a variable called _actors_\n",
        "\n",
        "---------"
      ]
    },
    {
      "cell_type": "code",
      "execution_count": null,
      "id": "c8e92255",
      "metadata": {
        "deletable": false,
        "nbgrader": {
          "cell_type": "code",
          "checksum": "2e5cadbda69ab8ae47d1dcf035fef538",
          "grade": false,
          "grade_id": "cell-9702431e37dc0ea6",
          "locked": false,
          "schema_version": 3,
          "solution": true,
          "task": false
        },
        "id": "c8e92255",
        "colab": {
          "base_uri": "https://localhost:8080/"
        },
        "outputId": "ee53dc81-21a1-4d22-f674-5e8135868ee1"
      },
      "outputs": [
        {
          "output_type": "stream",
          "name": "stdout",
          "text": [
            "Terry Crews\n",
            "Arnold Schwarzenegger\n",
            "Keanu Reeves\n"
          ]
        }
      ],
      "source": [
        "# YOUR CODE HERE\n",
        "\n",
        "curr = conn.cursor()\n",
        "curr.execute(''' SELECT Name from Actors WHERE rank BETWEEN 1 AND 3 ''')\n",
        "actors = curr.fetchall()\n",
        "for actor in actors: \n",
        "    print(actor[0])\n",
        "\n",
        "# raise NotImplementedError()"
      ]
    },
    {
      "cell_type": "markdown",
      "id": "1d84c08a",
      "metadata": {
        "deletable": false,
        "editable": false,
        "nbgrader": {
          "cell_type": "markdown",
          "checksum": "99fa7a89a43cdc0c30dbd938c944c5e9",
          "grade": false,
          "grade_id": "cell-6597e941e04eb8c3",
          "locked": true,
          "schema_version": 3,
          "solution": false,
          "task": false
        },
        "id": "1d84c08a"
      },
      "source": [
        "---------\n",
        "---------\n",
        "\n",
        "d.) **(6 Points)** Create a following query to return the name of movies starring Keanu Reeves. Store the result in a variable called _keanu_\n",
        "\n",
        "---------"
      ]
    },
    {
      "cell_type": "code",
      "execution_count": null,
      "id": "79c2a3f5",
      "metadata": {
        "deletable": false,
        "nbgrader": {
          "cell_type": "code",
          "checksum": "7687576eea21d89bddfcaeafe9f61f03",
          "grade": false,
          "grade_id": "cell-4aaf6d7e34c05102",
          "locked": false,
          "schema_version": 3,
          "solution": true,
          "task": false
        },
        "id": "79c2a3f5",
        "colab": {
          "base_uri": "https://localhost:8080/"
        },
        "outputId": "725fbbf5-23da-495b-f19a-70b50c991102"
      },
      "outputs": [
        {
          "output_type": "stream",
          "name": "stdout",
          "text": [
            "Point Break\n"
          ]
        }
      ],
      "source": [
        "# YOUR CODE HERE\n",
        "\n",
        "curr.execute('''\n",
        "                \n",
        "                SELECT Movies.Movie \n",
        "                FROM Movies\n",
        "                JOIN Actors\n",
        "                ON Movies.Actor = Actors.ActorID\n",
        "                WHERE Name = 'Keanu Reeves'\n",
        "\n",
        "                ''')\n",
        "keanu = curr.fetchall()\n",
        "print(keanu[0][0])\n",
        "\n",
        "# raise NotImplementedError()"
      ]
    },
    {
      "cell_type": "code",
      "execution_count": null,
      "id": "398613d5",
      "metadata": {
        "deletable": false,
        "editable": false,
        "nbgrader": {
          "cell_type": "code",
          "checksum": "1c58dfc6edeeaea6ad2321d2262fb656",
          "grade": true,
          "grade_id": "cell-8032f92b9dc27c72",
          "locked": true,
          "points": 3,
          "schema_version": 3,
          "solution": false,
          "task": false
        },
        "id": "398613d5"
      },
      "outputs": [],
      "source": []
    },
    {
      "cell_type": "markdown",
      "id": "30daa2e1",
      "metadata": {
        "deletable": false,
        "editable": false,
        "nbgrader": {
          "cell_type": "markdown",
          "checksum": "c0d4c1845574444af280e95c5a37beb3",
          "grade": false,
          "grade_id": "cell-c4c61cf63b35dc1d",
          "locked": true,
          "schema_version": 3,
          "solution": false,
          "task": false
        },
        "id": "30daa2e1"
      },
      "source": [
        "---------\n",
        "---------\n",
        "\n",
        "e.) **(6 Points)** Create a following query to return the directors of movies starring Tommy Wiseau. Store the result in a variable called _tommy_\n",
        "\n",
        "---------"
      ]
    },
    {
      "cell_type": "code",
      "execution_count": null,
      "id": "a99f616e",
      "metadata": {
        "deletable": false,
        "nbgrader": {
          "cell_type": "code",
          "checksum": "afd4b16f39ebb120834f61fbc492fd57",
          "grade": false,
          "grade_id": "cell-6ca78cd6e7cc68e5",
          "locked": false,
          "schema_version": 3,
          "solution": true,
          "task": false
        },
        "id": "a99f616e",
        "colab": {
          "base_uri": "https://localhost:8080/"
        },
        "outputId": "10d59cab-5afb-41f9-cfbc-62b48b8a2893"
      },
      "outputs": [
        {
          "output_type": "stream",
          "name": "stdout",
          "text": [
            "Tommy Wiseau\n"
          ]
        }
      ],
      "source": [
        "# YOUR CODE HERE\n",
        "\n",
        "curr.execute('''\n",
        "              SELECT Directors.Name\n",
        "              FROM Directors\n",
        "              WHERE Directors.DirectorID in\n",
        "                (SELECT Movies.Director \n",
        "                FROM Movies\n",
        "                JOIN Actors\n",
        "                ON Movies.Actor = Actors.ActorID \n",
        "                WHERE Name = 'Tommy Wiseau')\n",
        "\n",
        "                ''')\n",
        "tommy = curr.fetchall()\n",
        "print(tommy[0][0])\n",
        "\n",
        "# raise NotImplementedError()"
      ]
    },
    {
      "cell_type": "markdown",
      "id": "9cc29647",
      "metadata": {
        "deletable": false,
        "editable": false,
        "nbgrader": {
          "cell_type": "markdown",
          "checksum": "805a55c1aef484cc5d8d1ab381c37205",
          "grade": false,
          "grade_id": "cell-5e33e47f87d09f21",
          "locked": true,
          "schema_version": 3,
          "solution": false,
          "task": false
        },
        "id": "9cc29647"
      },
      "source": [
        "----------\n",
        "----------\n",
        "f) **(1 Point)** Close the connection.\n",
        "\n",
        "----------"
      ]
    },
    {
      "cell_type": "code",
      "execution_count": null,
      "id": "9783e642",
      "metadata": {
        "deletable": false,
        "nbgrader": {
          "cell_type": "code",
          "checksum": "a3f4f35072df47f7c0e9c70c91ef8009",
          "grade": false,
          "grade_id": "cell-b69d938db7aa93b2",
          "locked": false,
          "schema_version": 3,
          "solution": true,
          "task": false
        },
        "id": "9783e642"
      },
      "outputs": [],
      "source": [
        "# YOUR CODE HERE\n",
        "\n",
        "conn.close()\n",
        "\n",
        "#raise NotImplementedError()"
      ]
    },
    {
      "cell_type": "code",
      "execution_count": null,
      "id": "7b2a17b7",
      "metadata": {
        "deletable": false,
        "editable": false,
        "nbgrader": {
          "cell_type": "code",
          "checksum": "73c28d160d58a78c7097e406c3995e6a",
          "grade": true,
          "grade_id": "cell-5c19e0eb26c3b078",
          "locked": true,
          "points": 1,
          "schema_version": 3,
          "solution": false,
          "task": false
        },
        "id": "7b2a17b7"
      },
      "outputs": [],
      "source": []
    },
    {
      "cell_type": "markdown",
      "id": "731fde5f",
      "metadata": {
        "id": "731fde5f"
      },
      "source": [
        "## Question 2 (30 Points)\n",
        "------------\n",
        "\n",
        "We will connect to the database given in the file **music.db**. This database has quite a large\n",
        "number of tables. We will deal with the following tables which have the following\n",
        "columns.\n",
        "- album: album id, title, artist id\n",
        "- artist: artist id, name\n",
        "- genre: genre id, name\n",
        "- track: track id, name, album id, media type id, genre id, composer, milliseconds, bytes, unit price"
      ]
    },
    {
      "cell_type": "code",
      "execution_count": null,
      "id": "60bdc5e9",
      "metadata": {
        "deletable": false,
        "editable": false,
        "nbgrader": {
          "cell_type": "code",
          "checksum": "ed5cc5cac1e76f52123e3a9e0d390e43",
          "grade": false,
          "grade_id": "cell-5871a329f307ceae",
          "locked": true,
          "schema_version": 3,
          "solution": false,
          "task": false
        },
        "id": "60bdc5e9"
      },
      "outputs": [],
      "source": [
        "m_conn = sqlite3.connect('music.db')"
      ]
    },
    {
      "cell_type": "markdown",
      "id": "d6cda008",
      "metadata": {
        "deletable": false,
        "editable": false,
        "nbgrader": {
          "cell_type": "markdown",
          "checksum": "c2a6f62220db55daa76cc7580b5d4e08",
          "grade": false,
          "grade_id": "cell-55651df6e8f7b7e4",
          "locked": true,
          "schema_version": 3,
          "solution": false,
          "task": false
        },
        "id": "d6cda008"
      },
      "source": [
        "--------------\n",
        "--------------\n",
        "a.) **(6 points)** Construct a query which lists the  albums  Red Hot Chili Peppers have in the database and put it into variable called _rhcp_\n",
        "\n",
        "--------------"
      ]
    },
    {
      "cell_type": "code",
      "execution_count": null,
      "id": "8dbefca7",
      "metadata": {
        "deletable": false,
        "nbgrader": {
          "cell_type": "code",
          "checksum": "96910b07b7ed8b62fea4d43e027ca28f",
          "grade": false,
          "grade_id": "cell-f5165ba583e168f9",
          "locked": false,
          "schema_version": 3,
          "solution": true,
          "task": false
        },
        "id": "8dbefca7",
        "colab": {
          "base_uri": "https://localhost:8080/"
        },
        "outputId": "a70a646c-ea15-4e84-d898-8224f01a4250"
      },
      "outputs": [
        {
          "output_type": "stream",
          "name": "stdout",
          "text": [
            "[]\n"
          ]
        }
      ],
      "source": [
        "# YOUR CODE HERE\n",
        "\n",
        "cursor = m_conn.cursor()\n",
        "cursor.execute('''\n",
        "\n",
        "              SELECT album.title\n",
        "              FROM album\n",
        "              WHERE album.artist_id in\n",
        "              (SELECT artist.artist_id \n",
        "              FROM artist\n",
        "              WHERE artist.name = 'Red Hot Chilli Peppers')\n",
        "\n",
        "\n",
        "               ''')\n",
        "\n",
        "\n",
        "rhcp = cursor.fetchall()\n",
        "print(rhcp)\n",
        "\n",
        "# raise NotImplementedError()"
      ]
    },
    {
      "cell_type": "code",
      "execution_count": null,
      "id": "a8203c1b",
      "metadata": {
        "deletable": false,
        "editable": false,
        "nbgrader": {
          "cell_type": "code",
          "checksum": "21f76379875a76f5d284093a5529d5c5",
          "grade": true,
          "grade_id": "cell-4b6426817ca3b4e9",
          "locked": true,
          "points": 3,
          "schema_version": 3,
          "solution": false,
          "task": false
        },
        "id": "a8203c1b"
      },
      "outputs": [],
      "source": []
    },
    {
      "cell_type": "markdown",
      "id": "b5273df8",
      "metadata": {
        "deletable": false,
        "editable": false,
        "nbgrader": {
          "cell_type": "markdown",
          "checksum": "1c2504adc827547bef5b6a8bd2e8b765",
          "grade": false,
          "grade_id": "cell-987bc1d01340e999",
          "locked": true,
          "schema_version": 3,
          "solution": false,
          "task": false
        },
        "id": "b5273df8"
      },
      "source": [
        "--------------\n",
        "--------------\n",
        "b.) **(6 points)** Construct a query which lists  all the tracks on the album Achtung Baby and store the result in a variable called _u2_\n",
        "\n",
        "--------------"
      ]
    },
    {
      "cell_type": "code",
      "execution_count": null,
      "id": "e7249368",
      "metadata": {
        "deletable": false,
        "nbgrader": {
          "cell_type": "code",
          "checksum": "f3b8e4ad17c73e10891195da50061dbb",
          "grade": false,
          "grade_id": "cell-f647d1adcb7ea752",
          "locked": false,
          "schema_version": 3,
          "solution": true,
          "task": false
        },
        "id": "e7249368",
        "colab": {
          "base_uri": "https://localhost:8080/"
        },
        "outputId": "31c5aa69-806f-4d59-c69a-8de1758ede04"
      },
      "outputs": [
        {
          "output_type": "stream",
          "name": "stdout",
          "text": [
            "Zoo Station\n",
            "Even Better Than The Real Thing\n",
            "One\n",
            "Until The End Of The World\n",
            "Who's Gonna Ride Your Wild Horses\n",
            "So Cruel\n",
            "The Fly\n",
            "Mysterious Ways\n",
            "Tryin' To Throw Your Arms Around The World\n",
            "Ultraviolet (Light My Way)\n",
            "Acrobat\n",
            "Love Is Blindness\n"
          ]
        }
      ],
      "source": [
        "# YOUR CODE HERE\n",
        "\n",
        "cursor.execute(''' \n",
        "\n",
        "                \n",
        "                SELECT track.name\n",
        "                FROM track\n",
        "                WHERE track.album_id IN\n",
        "                (SELECT album.album_id\n",
        "                FROM album\n",
        "                WHERE album.title = 'Achtung Baby')\n",
        "\n",
        "\n",
        "              ''')\n",
        "\n",
        "u2 = cursor.fetchall()\n",
        "for track in u2:\n",
        "    print(track[0])\n",
        "\n",
        "# raise NotImplementedError()\n"
      ]
    },
    {
      "cell_type": "code",
      "execution_count": null,
      "id": "df3dea8a",
      "metadata": {
        "deletable": false,
        "editable": false,
        "nbgrader": {
          "cell_type": "code",
          "checksum": "681f08679c9cc0763feb888a463beb3e",
          "grade": true,
          "grade_id": "cell-c9413acfca6e2c28",
          "locked": true,
          "points": 12,
          "schema_version": 3,
          "solution": false,
          "task": false
        },
        "id": "df3dea8a"
      },
      "outputs": [],
      "source": []
    },
    {
      "cell_type": "markdown",
      "id": "9f843ba2",
      "metadata": {
        "deletable": false,
        "editable": false,
        "nbgrader": {
          "cell_type": "markdown",
          "checksum": "a0a6e0adf24668face54a9b6839a5fb3",
          "grade": false,
          "grade_id": "cell-d42f0ceed080fa98",
          "locked": true,
          "schema_version": 3,
          "solution": false,
          "task": false
        },
        "id": "9f843ba2"
      },
      "source": [
        "--------------\n",
        "--------------\n",
        "\n",
        "c.) **(8 points)** Construct a query which returns how much it would cost to buy all Metallica songs to the nearest pound and store it in a variable called _rockon_\n",
        "- You should assume the track costs are in pounds\n",
        "\n",
        "---------------"
      ]
    },
    {
      "cell_type": "code",
      "execution_count": null,
      "id": "7629a591",
      "metadata": {
        "deletable": false,
        "nbgrader": {
          "cell_type": "code",
          "checksum": "a653fdff20be7abe19d2dacbfcba9093",
          "grade": false,
          "grade_id": "cell-87e53aac9841a7cd",
          "locked": false,
          "schema_version": 3,
          "solution": true,
          "task": false
        },
        "id": "7629a591",
        "colab": {
          "base_uri": "https://localhost:8080/"
        },
        "outputId": "0b7710f9-3b01-4cf6-b443-a6a13bf8f162"
      },
      "outputs": [
        {
          "output_type": "stream",
          "name": "stdout",
          "text": [
            "111.0\n"
          ]
        }
      ],
      "source": [
        "# YOUR CODE HERE\n",
        "\n",
        "cursor.execute('''\n",
        "\n",
        "                SELECT ROUND(SUM(track.unit_price)) \n",
        "                FROM track\n",
        "                WHERE track.album_id  IN\n",
        "                (SELECT album.album_id\n",
        "                FROM album\n",
        "                WHERE album.artist_id IN\n",
        "                (SELECT artist.artist_id\n",
        "                FROM artist\n",
        "                WHERE artist.name = 'Metallica'))\n",
        "\n",
        "\n",
        "               ''')\n",
        "\n",
        "rockon = cursor.fetchall()\n",
        "print(rockon[0][0])\n",
        "# raise NotImplementedError()"
      ]
    },
    {
      "cell_type": "markdown",
      "id": "190166db",
      "metadata": {
        "deletable": false,
        "editable": false,
        "nbgrader": {
          "cell_type": "markdown",
          "checksum": "346d097d026dfe10ab97f925d570bfe5",
          "grade": false,
          "grade_id": "cell-957ef22d55b4aad1",
          "locked": true,
          "schema_version": 3,
          "solution": false,
          "task": false
        },
        "id": "190166db"
      },
      "source": [
        "--------------\n",
        "--------------\n",
        "\n",
        "d.) **(10 points)** Construct a query which returns the name and the length of the longest Rock song and transforms it in seconds (to the nearest second) and stores the name in a variable called _longsong_ and the length in a variable called _time_\n",
        "\n",
        "---------------"
      ]
    },
    {
      "cell_type": "code",
      "execution_count": null,
      "id": "e111591f",
      "metadata": {
        "deletable": false,
        "nbgrader": {
          "cell_type": "code",
          "checksum": "185f1b0cb7a896908e0476e41d3166ea",
          "grade": false,
          "grade_id": "cell-22085a2262c1dea4",
          "locked": false,
          "schema_version": 3,
          "solution": true,
          "task": false
        },
        "id": "e111591f",
        "colab": {
          "base_uri": "https://localhost:8080/"
        },
        "outputId": "106af5ed-9c24-44b2-d91c-8350b59c24ef"
      },
      "outputs": [
        {
          "output_type": "stream",
          "name": "stdout",
          "text": [
            "Dazed And Confused 1612\n"
          ]
        }
      ],
      "source": [
        "query = ''' SELECT track.name, track.milliseconds/1000\n",
        "            FROM track\n",
        "            WHERE track.milliseconds IN (\n",
        "                SELECT MAX(track.milliseconds) AS 'longest_track'\n",
        "                FROM track\n",
        "                WHERE track.genre_id IN (\n",
        "                    SELECT genre.genre_id\n",
        "                    FROM genre\n",
        "                    WHERE genre.name = 'Rock' \n",
        "                )\n",
        "            )  ''' \n",
        "\n",
        "cursor.execute(query)\n",
        "x = cursor.fetchall()\n",
        "longsong = x[0][0]\n",
        "time = x[0][1]\n",
        "print(longsong, time)"
      ]
    },
    {
      "cell_type": "code",
      "execution_count": null,
      "id": "2b745049",
      "metadata": {
        "deletable": false,
        "editable": false,
        "nbgrader": {
          "cell_type": "code",
          "checksum": "bc0e029473a3df9bd47835142af70524",
          "grade": false,
          "grade_id": "cell-f02287a7cc716531",
          "locked": true,
          "schema_version": 3,
          "solution": false,
          "task": false
        },
        "id": "2b745049"
      },
      "outputs": [],
      "source": [
        "m_conn.close()"
      ]
    },
    {
      "cell_type": "markdown",
      "id": "6102d5a5",
      "metadata": {
        "deletable": false,
        "editable": false,
        "nbgrader": {
          "cell_type": "markdown",
          "checksum": "c702342ff8bb0fb75eb9948612b73dfe",
          "grade": false,
          "grade_id": "cell-10fedeb3f006fffd",
          "locked": true,
          "schema_version": 3,
          "solution": false,
          "task": false
        },
        "id": "6102d5a5"
      },
      "source": [
        "## Question 3 (30 Points)\n",
        "------------\n",
        "\n",
        "\n",
        "We will connect to the database given in the file **eateries.sqlite**. This database has health inspection violations for San Francisco stored in 3 tables\n",
        "- 'businesses'\n",
        "- 'inspections'\n",
        "- 'violations'\n",
        "\n",
        "The cell below will print out the columns of the tables as pandas dataframes so you can examine them and then construct the queries. Unless otherwise stated you must only use SQL to get full marks. "
      ]
    },
    {
      "cell_type": "code",
      "execution_count": null,
      "id": "7066d5f9",
      "metadata": {
        "deletable": false,
        "editable": false,
        "nbgrader": {
          "cell_type": "code",
          "checksum": "69f64d69ccaa6c28eeda014d2f6f142e",
          "grade": false,
          "grade_id": "cell-1f1352e3d8d94392",
          "locked": true,
          "schema_version": 3,
          "solution": false,
          "task": false
        },
        "id": "7066d5f9",
        "colab": {
          "base_uri": "https://localhost:8080/",
          "height": 950
        },
        "outputId": "5400cd94-9843-40af-9dd0-109542ac313b"
      },
      "outputs": [
        {
          "output_type": "stream",
          "name": "stdout",
          "text": [
            "businesses\n"
          ]
        },
        {
          "output_type": "display_data",
          "data": {
            "text/plain": [
              "    cid                  name         type  notnull dflt_value  pk\n",
              "0     0           business_id      INTEGER        1       None   0\n",
              "1     1                  name  VARCHAR(64)        0       None   0\n",
              "2     2               address  VARCHAR(50)        0       None   0\n",
              "3     3                  city  VARCHAR(23)        0       None   0\n",
              "4     4           postal_code   VARCHAR(9)        0       None   0\n",
              "5     5              latitude        FLOAT        0       None   0\n",
              "6     6             longitude        FLOAT        0       None   0\n",
              "7     7          phone_number       BIGINT        0       None   0\n",
              "8     8               TaxCode   VARCHAR(4)        0       None   0\n",
              "9     9  business_certificate      INTEGER        0       None   0\n",
              "10   10      application_date         DATE        0       None   0\n",
              "11   11            owner_name  VARCHAR(99)        0       None   0\n",
              "12   12         owner_address  VARCHAR(74)        0       None   0\n",
              "13   13            owner_city  VARCHAR(22)        0       None   0\n",
              "14   14           owner_state  VARCHAR(14)        0       None   0\n",
              "15   15             owner_zip  VARCHAR(15)        0       None   0"
            ],
            "text/html": [
              "\n",
              "  <div id=\"df-8802bc11-6678-4421-a8c4-6bff7c942fd8\">\n",
              "    <div class=\"colab-df-container\">\n",
              "      <div>\n",
              "<style scoped>\n",
              "    .dataframe tbody tr th:only-of-type {\n",
              "        vertical-align: middle;\n",
              "    }\n",
              "\n",
              "    .dataframe tbody tr th {\n",
              "        vertical-align: top;\n",
              "    }\n",
              "\n",
              "    .dataframe thead th {\n",
              "        text-align: right;\n",
              "    }\n",
              "</style>\n",
              "<table border=\"1\" class=\"dataframe\">\n",
              "  <thead>\n",
              "    <tr style=\"text-align: right;\">\n",
              "      <th></th>\n",
              "      <th>cid</th>\n",
              "      <th>name</th>\n",
              "      <th>type</th>\n",
              "      <th>notnull</th>\n",
              "      <th>dflt_value</th>\n",
              "      <th>pk</th>\n",
              "    </tr>\n",
              "  </thead>\n",
              "  <tbody>\n",
              "    <tr>\n",
              "      <th>0</th>\n",
              "      <td>0</td>\n",
              "      <td>business_id</td>\n",
              "      <td>INTEGER</td>\n",
              "      <td>1</td>\n",
              "      <td>None</td>\n",
              "      <td>0</td>\n",
              "    </tr>\n",
              "    <tr>\n",
              "      <th>1</th>\n",
              "      <td>1</td>\n",
              "      <td>name</td>\n",
              "      <td>VARCHAR(64)</td>\n",
              "      <td>0</td>\n",
              "      <td>None</td>\n",
              "      <td>0</td>\n",
              "    </tr>\n",
              "    <tr>\n",
              "      <th>2</th>\n",
              "      <td>2</td>\n",
              "      <td>address</td>\n",
              "      <td>VARCHAR(50)</td>\n",
              "      <td>0</td>\n",
              "      <td>None</td>\n",
              "      <td>0</td>\n",
              "    </tr>\n",
              "    <tr>\n",
              "      <th>3</th>\n",
              "      <td>3</td>\n",
              "      <td>city</td>\n",
              "      <td>VARCHAR(23)</td>\n",
              "      <td>0</td>\n",
              "      <td>None</td>\n",
              "      <td>0</td>\n",
              "    </tr>\n",
              "    <tr>\n",
              "      <th>4</th>\n",
              "      <td>4</td>\n",
              "      <td>postal_code</td>\n",
              "      <td>VARCHAR(9)</td>\n",
              "      <td>0</td>\n",
              "      <td>None</td>\n",
              "      <td>0</td>\n",
              "    </tr>\n",
              "    <tr>\n",
              "      <th>5</th>\n",
              "      <td>5</td>\n",
              "      <td>latitude</td>\n",
              "      <td>FLOAT</td>\n",
              "      <td>0</td>\n",
              "      <td>None</td>\n",
              "      <td>0</td>\n",
              "    </tr>\n",
              "    <tr>\n",
              "      <th>6</th>\n",
              "      <td>6</td>\n",
              "      <td>longitude</td>\n",
              "      <td>FLOAT</td>\n",
              "      <td>0</td>\n",
              "      <td>None</td>\n",
              "      <td>0</td>\n",
              "    </tr>\n",
              "    <tr>\n",
              "      <th>7</th>\n",
              "      <td>7</td>\n",
              "      <td>phone_number</td>\n",
              "      <td>BIGINT</td>\n",
              "      <td>0</td>\n",
              "      <td>None</td>\n",
              "      <td>0</td>\n",
              "    </tr>\n",
              "    <tr>\n",
              "      <th>8</th>\n",
              "      <td>8</td>\n",
              "      <td>TaxCode</td>\n",
              "      <td>VARCHAR(4)</td>\n",
              "      <td>0</td>\n",
              "      <td>None</td>\n",
              "      <td>0</td>\n",
              "    </tr>\n",
              "    <tr>\n",
              "      <th>9</th>\n",
              "      <td>9</td>\n",
              "      <td>business_certificate</td>\n",
              "      <td>INTEGER</td>\n",
              "      <td>0</td>\n",
              "      <td>None</td>\n",
              "      <td>0</td>\n",
              "    </tr>\n",
              "    <tr>\n",
              "      <th>10</th>\n",
              "      <td>10</td>\n",
              "      <td>application_date</td>\n",
              "      <td>DATE</td>\n",
              "      <td>0</td>\n",
              "      <td>None</td>\n",
              "      <td>0</td>\n",
              "    </tr>\n",
              "    <tr>\n",
              "      <th>11</th>\n",
              "      <td>11</td>\n",
              "      <td>owner_name</td>\n",
              "      <td>VARCHAR(99)</td>\n",
              "      <td>0</td>\n",
              "      <td>None</td>\n",
              "      <td>0</td>\n",
              "    </tr>\n",
              "    <tr>\n",
              "      <th>12</th>\n",
              "      <td>12</td>\n",
              "      <td>owner_address</td>\n",
              "      <td>VARCHAR(74)</td>\n",
              "      <td>0</td>\n",
              "      <td>None</td>\n",
              "      <td>0</td>\n",
              "    </tr>\n",
              "    <tr>\n",
              "      <th>13</th>\n",
              "      <td>13</td>\n",
              "      <td>owner_city</td>\n",
              "      <td>VARCHAR(22)</td>\n",
              "      <td>0</td>\n",
              "      <td>None</td>\n",
              "      <td>0</td>\n",
              "    </tr>\n",
              "    <tr>\n",
              "      <th>14</th>\n",
              "      <td>14</td>\n",
              "      <td>owner_state</td>\n",
              "      <td>VARCHAR(14)</td>\n",
              "      <td>0</td>\n",
              "      <td>None</td>\n",
              "      <td>0</td>\n",
              "    </tr>\n",
              "    <tr>\n",
              "      <th>15</th>\n",
              "      <td>15</td>\n",
              "      <td>owner_zip</td>\n",
              "      <td>VARCHAR(15)</td>\n",
              "      <td>0</td>\n",
              "      <td>None</td>\n",
              "      <td>0</td>\n",
              "    </tr>\n",
              "  </tbody>\n",
              "</table>\n",
              "</div>\n",
              "      <button class=\"colab-df-convert\" onclick=\"convertToInteractive('df-8802bc11-6678-4421-a8c4-6bff7c942fd8')\"\n",
              "              title=\"Convert this dataframe to an interactive table.\"\n",
              "              style=\"display:none;\">\n",
              "        \n",
              "  <svg xmlns=\"http://www.w3.org/2000/svg\" height=\"24px\"viewBox=\"0 0 24 24\"\n",
              "       width=\"24px\">\n",
              "    <path d=\"M0 0h24v24H0V0z\" fill=\"none\"/>\n",
              "    <path d=\"M18.56 5.44l.94 2.06.94-2.06 2.06-.94-2.06-.94-.94-2.06-.94 2.06-2.06.94zm-11 1L8.5 8.5l.94-2.06 2.06-.94-2.06-.94L8.5 2.5l-.94 2.06-2.06.94zm10 10l.94 2.06.94-2.06 2.06-.94-2.06-.94-.94-2.06-.94 2.06-2.06.94z\"/><path d=\"M17.41 7.96l-1.37-1.37c-.4-.4-.92-.59-1.43-.59-.52 0-1.04.2-1.43.59L10.3 9.45l-7.72 7.72c-.78.78-.78 2.05 0 2.83L4 21.41c.39.39.9.59 1.41.59.51 0 1.02-.2 1.41-.59l7.78-7.78 2.81-2.81c.8-.78.8-2.07 0-2.86zM5.41 20L4 18.59l7.72-7.72 1.47 1.35L5.41 20z\"/>\n",
              "  </svg>\n",
              "      </button>\n",
              "      \n",
              "  <style>\n",
              "    .colab-df-container {\n",
              "      display:flex;\n",
              "      flex-wrap:wrap;\n",
              "      gap: 12px;\n",
              "    }\n",
              "\n",
              "    .colab-df-convert {\n",
              "      background-color: #E8F0FE;\n",
              "      border: none;\n",
              "      border-radius: 50%;\n",
              "      cursor: pointer;\n",
              "      display: none;\n",
              "      fill: #1967D2;\n",
              "      height: 32px;\n",
              "      padding: 0 0 0 0;\n",
              "      width: 32px;\n",
              "    }\n",
              "\n",
              "    .colab-df-convert:hover {\n",
              "      background-color: #E2EBFA;\n",
              "      box-shadow: 0px 1px 2px rgba(60, 64, 67, 0.3), 0px 1px 3px 1px rgba(60, 64, 67, 0.15);\n",
              "      fill: #174EA6;\n",
              "    }\n",
              "\n",
              "    [theme=dark] .colab-df-convert {\n",
              "      background-color: #3B4455;\n",
              "      fill: #D2E3FC;\n",
              "    }\n",
              "\n",
              "    [theme=dark] .colab-df-convert:hover {\n",
              "      background-color: #434B5C;\n",
              "      box-shadow: 0px 1px 3px 1px rgba(0, 0, 0, 0.15);\n",
              "      filter: drop-shadow(0px 1px 2px rgba(0, 0, 0, 0.3));\n",
              "      fill: #FFFFFF;\n",
              "    }\n",
              "  </style>\n",
              "\n",
              "      <script>\n",
              "        const buttonEl =\n",
              "          document.querySelector('#df-8802bc11-6678-4421-a8c4-6bff7c942fd8 button.colab-df-convert');\n",
              "        buttonEl.style.display =\n",
              "          google.colab.kernel.accessAllowed ? 'block' : 'none';\n",
              "\n",
              "        async function convertToInteractive(key) {\n",
              "          const element = document.querySelector('#df-8802bc11-6678-4421-a8c4-6bff7c942fd8');\n",
              "          const dataTable =\n",
              "            await google.colab.kernel.invokeFunction('convertToInteractive',\n",
              "                                                     [key], {});\n",
              "          if (!dataTable) return;\n",
              "\n",
              "          const docLinkHtml = 'Like what you see? Visit the ' +\n",
              "            '<a target=\"_blank\" href=https://colab.research.google.com/notebooks/data_table.ipynb>data table notebook</a>'\n",
              "            + ' to learn more about interactive tables.';\n",
              "          element.innerHTML = '';\n",
              "          dataTable['output_type'] = 'display_data';\n",
              "          await google.colab.output.renderOutput(dataTable, element);\n",
              "          const docLink = document.createElement('div');\n",
              "          docLink.innerHTML = docLinkHtml;\n",
              "          element.appendChild(docLink);\n",
              "        }\n",
              "      </script>\n",
              "    </div>\n",
              "  </div>\n",
              "  "
            ]
          },
          "metadata": {}
        },
        {
          "output_type": "stream",
          "name": "stdout",
          "text": [
            "inspections\n"
          ]
        },
        {
          "output_type": "display_data",
          "data": {
            "text/plain": [
              "   cid         name         type  notnull dflt_value  pk\n",
              "0    0  business_id         TEXT        1       None   0\n",
              "1    1        Score      INTEGER        0       None   0\n",
              "2    2         date         TEXT        1       None   0\n",
              "3    3         type  VARCHAR(33)        1       None   0"
            ],
            "text/html": [
              "\n",
              "  <div id=\"df-b223546b-e69e-446b-b9fb-a08980070eee\">\n",
              "    <div class=\"colab-df-container\">\n",
              "      <div>\n",
              "<style scoped>\n",
              "    .dataframe tbody tr th:only-of-type {\n",
              "        vertical-align: middle;\n",
              "    }\n",
              "\n",
              "    .dataframe tbody tr th {\n",
              "        vertical-align: top;\n",
              "    }\n",
              "\n",
              "    .dataframe thead th {\n",
              "        text-align: right;\n",
              "    }\n",
              "</style>\n",
              "<table border=\"1\" class=\"dataframe\">\n",
              "  <thead>\n",
              "    <tr style=\"text-align: right;\">\n",
              "      <th></th>\n",
              "      <th>cid</th>\n",
              "      <th>name</th>\n",
              "      <th>type</th>\n",
              "      <th>notnull</th>\n",
              "      <th>dflt_value</th>\n",
              "      <th>pk</th>\n",
              "    </tr>\n",
              "  </thead>\n",
              "  <tbody>\n",
              "    <tr>\n",
              "      <th>0</th>\n",
              "      <td>0</td>\n",
              "      <td>business_id</td>\n",
              "      <td>TEXT</td>\n",
              "      <td>1</td>\n",
              "      <td>None</td>\n",
              "      <td>0</td>\n",
              "    </tr>\n",
              "    <tr>\n",
              "      <th>1</th>\n",
              "      <td>1</td>\n",
              "      <td>Score</td>\n",
              "      <td>INTEGER</td>\n",
              "      <td>0</td>\n",
              "      <td>None</td>\n",
              "      <td>0</td>\n",
              "    </tr>\n",
              "    <tr>\n",
              "      <th>2</th>\n",
              "      <td>2</td>\n",
              "      <td>date</td>\n",
              "      <td>TEXT</td>\n",
              "      <td>1</td>\n",
              "      <td>None</td>\n",
              "      <td>0</td>\n",
              "    </tr>\n",
              "    <tr>\n",
              "      <th>3</th>\n",
              "      <td>3</td>\n",
              "      <td>type</td>\n",
              "      <td>VARCHAR(33)</td>\n",
              "      <td>1</td>\n",
              "      <td>None</td>\n",
              "      <td>0</td>\n",
              "    </tr>\n",
              "  </tbody>\n",
              "</table>\n",
              "</div>\n",
              "      <button class=\"colab-df-convert\" onclick=\"convertToInteractive('df-b223546b-e69e-446b-b9fb-a08980070eee')\"\n",
              "              title=\"Convert this dataframe to an interactive table.\"\n",
              "              style=\"display:none;\">\n",
              "        \n",
              "  <svg xmlns=\"http://www.w3.org/2000/svg\" height=\"24px\"viewBox=\"0 0 24 24\"\n",
              "       width=\"24px\">\n",
              "    <path d=\"M0 0h24v24H0V0z\" fill=\"none\"/>\n",
              "    <path d=\"M18.56 5.44l.94 2.06.94-2.06 2.06-.94-2.06-.94-.94-2.06-.94 2.06-2.06.94zm-11 1L8.5 8.5l.94-2.06 2.06-.94-2.06-.94L8.5 2.5l-.94 2.06-2.06.94zm10 10l.94 2.06.94-2.06 2.06-.94-2.06-.94-.94-2.06-.94 2.06-2.06.94z\"/><path d=\"M17.41 7.96l-1.37-1.37c-.4-.4-.92-.59-1.43-.59-.52 0-1.04.2-1.43.59L10.3 9.45l-7.72 7.72c-.78.78-.78 2.05 0 2.83L4 21.41c.39.39.9.59 1.41.59.51 0 1.02-.2 1.41-.59l7.78-7.78 2.81-2.81c.8-.78.8-2.07 0-2.86zM5.41 20L4 18.59l7.72-7.72 1.47 1.35L5.41 20z\"/>\n",
              "  </svg>\n",
              "      </button>\n",
              "      \n",
              "  <style>\n",
              "    .colab-df-container {\n",
              "      display:flex;\n",
              "      flex-wrap:wrap;\n",
              "      gap: 12px;\n",
              "    }\n",
              "\n",
              "    .colab-df-convert {\n",
              "      background-color: #E8F0FE;\n",
              "      border: none;\n",
              "      border-radius: 50%;\n",
              "      cursor: pointer;\n",
              "      display: none;\n",
              "      fill: #1967D2;\n",
              "      height: 32px;\n",
              "      padding: 0 0 0 0;\n",
              "      width: 32px;\n",
              "    }\n",
              "\n",
              "    .colab-df-convert:hover {\n",
              "      background-color: #E2EBFA;\n",
              "      box-shadow: 0px 1px 2px rgba(60, 64, 67, 0.3), 0px 1px 3px 1px rgba(60, 64, 67, 0.15);\n",
              "      fill: #174EA6;\n",
              "    }\n",
              "\n",
              "    [theme=dark] .colab-df-convert {\n",
              "      background-color: #3B4455;\n",
              "      fill: #D2E3FC;\n",
              "    }\n",
              "\n",
              "    [theme=dark] .colab-df-convert:hover {\n",
              "      background-color: #434B5C;\n",
              "      box-shadow: 0px 1px 3px 1px rgba(0, 0, 0, 0.15);\n",
              "      filter: drop-shadow(0px 1px 2px rgba(0, 0, 0, 0.3));\n",
              "      fill: #FFFFFF;\n",
              "    }\n",
              "  </style>\n",
              "\n",
              "      <script>\n",
              "        const buttonEl =\n",
              "          document.querySelector('#df-b223546b-e69e-446b-b9fb-a08980070eee button.colab-df-convert');\n",
              "        buttonEl.style.display =\n",
              "          google.colab.kernel.accessAllowed ? 'block' : 'none';\n",
              "\n",
              "        async function convertToInteractive(key) {\n",
              "          const element = document.querySelector('#df-b223546b-e69e-446b-b9fb-a08980070eee');\n",
              "          const dataTable =\n",
              "            await google.colab.kernel.invokeFunction('convertToInteractive',\n",
              "                                                     [key], {});\n",
              "          if (!dataTable) return;\n",
              "\n",
              "          const docLinkHtml = 'Like what you see? Visit the ' +\n",
              "            '<a target=\"_blank\" href=https://colab.research.google.com/notebooks/data_table.ipynb>data table notebook</a>'\n",
              "            + ' to learn more about interactive tables.';\n",
              "          element.innerHTML = '';\n",
              "          dataTable['output_type'] = 'display_data';\n",
              "          await google.colab.output.renderOutput(dataTable, element);\n",
              "          const docLink = document.createElement('div');\n",
              "          docLink.innerHTML = docLinkHtml;\n",
              "          element.appendChild(docLink);\n",
              "        }\n",
              "      </script>\n",
              "    </div>\n",
              "  </div>\n",
              "  "
            ]
          },
          "metadata": {}
        },
        {
          "output_type": "stream",
          "name": "stdout",
          "text": [
            "violations\n"
          ]
        },
        {
          "output_type": "display_data",
          "data": {
            "text/plain": [
              "   cid             name  type  notnull dflt_value  pk\n",
              "0    0      business_id  TEXT        1       None   0\n",
              "1    1             date  TEXT        1       None   0\n",
              "2    2  ViolationTypeID  TEXT        1       None   0\n",
              "3    3    risk_category  TEXT        1       None   0\n",
              "4    4      description  TEXT        1       None   0"
            ],
            "text/html": [
              "\n",
              "  <div id=\"df-679cdffd-bcaa-44fc-ae6c-6d61f4d0ca16\">\n",
              "    <div class=\"colab-df-container\">\n",
              "      <div>\n",
              "<style scoped>\n",
              "    .dataframe tbody tr th:only-of-type {\n",
              "        vertical-align: middle;\n",
              "    }\n",
              "\n",
              "    .dataframe tbody tr th {\n",
              "        vertical-align: top;\n",
              "    }\n",
              "\n",
              "    .dataframe thead th {\n",
              "        text-align: right;\n",
              "    }\n",
              "</style>\n",
              "<table border=\"1\" class=\"dataframe\">\n",
              "  <thead>\n",
              "    <tr style=\"text-align: right;\">\n",
              "      <th></th>\n",
              "      <th>cid</th>\n",
              "      <th>name</th>\n",
              "      <th>type</th>\n",
              "      <th>notnull</th>\n",
              "      <th>dflt_value</th>\n",
              "      <th>pk</th>\n",
              "    </tr>\n",
              "  </thead>\n",
              "  <tbody>\n",
              "    <tr>\n",
              "      <th>0</th>\n",
              "      <td>0</td>\n",
              "      <td>business_id</td>\n",
              "      <td>TEXT</td>\n",
              "      <td>1</td>\n",
              "      <td>None</td>\n",
              "      <td>0</td>\n",
              "    </tr>\n",
              "    <tr>\n",
              "      <th>1</th>\n",
              "      <td>1</td>\n",
              "      <td>date</td>\n",
              "      <td>TEXT</td>\n",
              "      <td>1</td>\n",
              "      <td>None</td>\n",
              "      <td>0</td>\n",
              "    </tr>\n",
              "    <tr>\n",
              "      <th>2</th>\n",
              "      <td>2</td>\n",
              "      <td>ViolationTypeID</td>\n",
              "      <td>TEXT</td>\n",
              "      <td>1</td>\n",
              "      <td>None</td>\n",
              "      <td>0</td>\n",
              "    </tr>\n",
              "    <tr>\n",
              "      <th>3</th>\n",
              "      <td>3</td>\n",
              "      <td>risk_category</td>\n",
              "      <td>TEXT</td>\n",
              "      <td>1</td>\n",
              "      <td>None</td>\n",
              "      <td>0</td>\n",
              "    </tr>\n",
              "    <tr>\n",
              "      <th>4</th>\n",
              "      <td>4</td>\n",
              "      <td>description</td>\n",
              "      <td>TEXT</td>\n",
              "      <td>1</td>\n",
              "      <td>None</td>\n",
              "      <td>0</td>\n",
              "    </tr>\n",
              "  </tbody>\n",
              "</table>\n",
              "</div>\n",
              "      <button class=\"colab-df-convert\" onclick=\"convertToInteractive('df-679cdffd-bcaa-44fc-ae6c-6d61f4d0ca16')\"\n",
              "              title=\"Convert this dataframe to an interactive table.\"\n",
              "              style=\"display:none;\">\n",
              "        \n",
              "  <svg xmlns=\"http://www.w3.org/2000/svg\" height=\"24px\"viewBox=\"0 0 24 24\"\n",
              "       width=\"24px\">\n",
              "    <path d=\"M0 0h24v24H0V0z\" fill=\"none\"/>\n",
              "    <path d=\"M18.56 5.44l.94 2.06.94-2.06 2.06-.94-2.06-.94-.94-2.06-.94 2.06-2.06.94zm-11 1L8.5 8.5l.94-2.06 2.06-.94-2.06-.94L8.5 2.5l-.94 2.06-2.06.94zm10 10l.94 2.06.94-2.06 2.06-.94-2.06-.94-.94-2.06-.94 2.06-2.06.94z\"/><path d=\"M17.41 7.96l-1.37-1.37c-.4-.4-.92-.59-1.43-.59-.52 0-1.04.2-1.43.59L10.3 9.45l-7.72 7.72c-.78.78-.78 2.05 0 2.83L4 21.41c.39.39.9.59 1.41.59.51 0 1.02-.2 1.41-.59l7.78-7.78 2.81-2.81c.8-.78.8-2.07 0-2.86zM5.41 20L4 18.59l7.72-7.72 1.47 1.35L5.41 20z\"/>\n",
              "  </svg>\n",
              "      </button>\n",
              "      \n",
              "  <style>\n",
              "    .colab-df-container {\n",
              "      display:flex;\n",
              "      flex-wrap:wrap;\n",
              "      gap: 12px;\n",
              "    }\n",
              "\n",
              "    .colab-df-convert {\n",
              "      background-color: #E8F0FE;\n",
              "      border: none;\n",
              "      border-radius: 50%;\n",
              "      cursor: pointer;\n",
              "      display: none;\n",
              "      fill: #1967D2;\n",
              "      height: 32px;\n",
              "      padding: 0 0 0 0;\n",
              "      width: 32px;\n",
              "    }\n",
              "\n",
              "    .colab-df-convert:hover {\n",
              "      background-color: #E2EBFA;\n",
              "      box-shadow: 0px 1px 2px rgba(60, 64, 67, 0.3), 0px 1px 3px 1px rgba(60, 64, 67, 0.15);\n",
              "      fill: #174EA6;\n",
              "    }\n",
              "\n",
              "    [theme=dark] .colab-df-convert {\n",
              "      background-color: #3B4455;\n",
              "      fill: #D2E3FC;\n",
              "    }\n",
              "\n",
              "    [theme=dark] .colab-df-convert:hover {\n",
              "      background-color: #434B5C;\n",
              "      box-shadow: 0px 1px 3px 1px rgba(0, 0, 0, 0.15);\n",
              "      filter: drop-shadow(0px 1px 2px rgba(0, 0, 0, 0.3));\n",
              "      fill: #FFFFFF;\n",
              "    }\n",
              "  </style>\n",
              "\n",
              "      <script>\n",
              "        const buttonEl =\n",
              "          document.querySelector('#df-679cdffd-bcaa-44fc-ae6c-6d61f4d0ca16 button.colab-df-convert');\n",
              "        buttonEl.style.display =\n",
              "          google.colab.kernel.accessAllowed ? 'block' : 'none';\n",
              "\n",
              "        async function convertToInteractive(key) {\n",
              "          const element = document.querySelector('#df-679cdffd-bcaa-44fc-ae6c-6d61f4d0ca16');\n",
              "          const dataTable =\n",
              "            await google.colab.kernel.invokeFunction('convertToInteractive',\n",
              "                                                     [key], {});\n",
              "          if (!dataTable) return;\n",
              "\n",
              "          const docLinkHtml = 'Like what you see? Visit the ' +\n",
              "            '<a target=\"_blank\" href=https://colab.research.google.com/notebooks/data_table.ipynb>data table notebook</a>'\n",
              "            + ' to learn more about interactive tables.';\n",
              "          element.innerHTML = '';\n",
              "          dataTable['output_type'] = 'display_data';\n",
              "          await google.colab.output.renderOutput(dataTable, element);\n",
              "          const docLink = document.createElement('div');\n",
              "          docLink.innerHTML = docLinkHtml;\n",
              "          element.appendChild(docLink);\n",
              "        }\n",
              "      </script>\n",
              "    </div>\n",
              "  </div>\n",
              "  "
            ]
          },
          "metadata": {}
        }
      ],
      "source": [
        "# This will open the connection\n",
        "# and print out the tables\n",
        "\n",
        "# the function takes as input the Cursor_Object and \n",
        "# returns the table in form of pd.DataFrame()\n",
        "def sql_to_frame(cu):\n",
        "    data = cu.fetchall()\n",
        "    data = list(list(x) for x in data)\n",
        "    dataColumns = [column[0] for column in cu.description]\n",
        "    df = pd.DataFrame(data, columns=dataColumns)\n",
        "    return df \n",
        "\n",
        "\n",
        "e_conn = sqlite3.connect('eateries.sqlite')\n",
        "c = e_conn.cursor()\n",
        "table_list =['businesses','inspections','violations']\n",
        "for t in table_list:\n",
        "    print(t)\n",
        "    c.execute(f\"PRAGMA table_info({t});\")\n",
        "    display(sql_to_frame(c))"
      ]
    },
    {
      "cell_type": "markdown",
      "id": "392b17ee",
      "metadata": {
        "deletable": false,
        "editable": false,
        "nbgrader": {
          "cell_type": "markdown",
          "checksum": "563a59273c7017145032738162ca497d",
          "grade": false,
          "grade_id": "cell-da73246db71440a2",
          "locked": true,
          "schema_version": 3,
          "solution": false,
          "task": false
        },
        "id": "392b17ee"
      },
      "source": [
        "-----------\n",
        "-----------\n",
        "\n",
        "a.) **(6 points)** How many restaurants do not have a precise geographic location given. Store the number (and only the number) in a variable called _locations_.\n",
        "\n",
        "------------\n"
      ]
    },
    {
      "cell_type": "code",
      "execution_count": null,
      "id": "e6f61909",
      "metadata": {
        "deletable": false,
        "nbgrader": {
          "cell_type": "code",
          "checksum": "36a1ef098a2ac9f5088764c44047d7f7",
          "grade": false,
          "grade_id": "cell-37a09113d67aaefd",
          "locked": false,
          "schema_version": 3,
          "solution": true,
          "task": false
        },
        "id": "e6f61909",
        "colab": {
          "base_uri": "https://localhost:8080/"
        },
        "outputId": "2652a80a-496c-450b-9eea-cc39462007af"
      },
      "outputs": [
        {
          "output_type": "stream",
          "name": "stdout",
          "text": [
            "3153\n"
          ]
        }
      ],
      "source": [
        "# YOUR CODE HERE\n",
        "c.execute(''' \n",
        "            SELECT COUNT(businesses.business_id)\n",
        "            FROM businesses\n",
        "            WHERE businesses.longitude IS NULL OR businesses.latitude IS NULL\n",
        "            ''')\n",
        "\n",
        "locations = c.fetchall()\n",
        "print(locations[0][0])\n",
        "# raise NotImplementedError()"
      ]
    },
    {
      "cell_type": "code",
      "source": [
        "c.execute(''' SELECT date FROM inspections ''')\n",
        "c.fetchall()\n"
      ],
      "metadata": {
        "id": "NqGorptO83S_"
      },
      "id": "NqGorptO83S_",
      "execution_count": null,
      "outputs": []
    },
    {
      "cell_type": "markdown",
      "id": "95a8c1b0",
      "metadata": {
        "deletable": false,
        "editable": false,
        "nbgrader": {
          "cell_type": "markdown",
          "checksum": "131e8f4fad3db9d4a476765a7d815db6",
          "grade": false,
          "grade_id": "cell-0aabbb629331e4fa",
          "locked": true,
          "schema_version": 3,
          "solution": false,
          "task": false
        },
        "id": "95a8c1b0"
      },
      "source": [
        "\n",
        "-----------\n",
        "-----------\n",
        "\n",
        "b.)  **(8 points )** How many spellings of San Francisco are there? (You can assume that all variations count including modifiers such as north, south, east, west) also refer to San Francisco. **You can obtain the result through visual inspection**. Store the number in a variable called _SF_\n",
        "\n",
        "------------\n"
      ]
    },
    {
      "cell_type": "code",
      "execution_count": null,
      "id": "e495e75e",
      "metadata": {
        "deletable": false,
        "nbgrader": {
          "cell_type": "code",
          "checksum": "4e2e9422e3f0009381813974cb0e1e96",
          "grade": false,
          "grade_id": "cell-a6b91fb9ff5d9858",
          "locked": false,
          "schema_version": 3,
          "solution": true,
          "task": false
        },
        "id": "e495e75e"
      },
      "outputs": [],
      "source": [
        "# YOUR CODE HERE\n",
        "\n",
        "\n",
        "c.execute('''SELECT businesses.city, businesses.owner_city\n",
        "            FROM businesses\n",
        "            GROUP BY city\n",
        "             ''')\n",
        "c.fetchall()\n",
        "# SF, S.F., SAN FRANCISCO, S.S.F.\n",
        "# raise NotImplementedError()"
      ]
    },
    {
      "cell_type": "code",
      "execution_count": null,
      "id": "d5ff832d",
      "metadata": {
        "deletable": false,
        "editable": false,
        "nbgrader": {
          "cell_type": "code",
          "checksum": "b43f639da68e45f99e0d8334bcac0708",
          "grade": true,
          "grade_id": "cell-59986dd4b63bb4a4",
          "locked": true,
          "points": 8,
          "schema_version": 3,
          "solution": false,
          "task": false
        },
        "id": "d5ff832d"
      },
      "outputs": [],
      "source": []
    },
    {
      "cell_type": "markdown",
      "id": "ca9f481d",
      "metadata": {
        "deletable": false,
        "editable": false,
        "nbgrader": {
          "cell_type": "markdown",
          "checksum": "79c41206534915c9d866b78cdcc67310",
          "grade": false,
          "grade_id": "cell-6c640840d2fb34c5",
          "locked": true,
          "schema_version": 3,
          "solution": false,
          "task": false
        },
        "id": "ca9f481d"
      },
      "source": [
        "\n",
        "-----------\n",
        "-----------\n",
        "\n",
        "c.) **(16 points)**  Create a histogram plot of the Inspection Scores for January 2014. \n",
        "- Here you should use the function _sql_to_frame()_ which takes a query and returns a pandas dataframe.\n",
        "- Remove any null values\n",
        "------------\n"
      ]
    },
    {
      "cell_type": "code",
      "execution_count": 103,
      "id": "0807b673",
      "metadata": {
        "deletable": false,
        "nbgrader": {
          "cell_type": "code",
          "checksum": "52ee25ce0a7562e46b808272b0f26b0c",
          "grade": true,
          "grade_id": "cell-cc1eed5e1150c151",
          "locked": false,
          "points": 16,
          "schema_version": 3,
          "solution": true,
          "task": false
        },
        "id": "0807b673",
        "colab": {
          "base_uri": "https://localhost:8080/",
          "height": 730
        },
        "outputId": "5cbf95e7-aced-4878-93a8-735db045d2b2"
      },
      "outputs": [
        {
          "output_type": "display_data",
          "data": {
            "text/plain": [
              "<Figure size 864x864 with 1 Axes>"
            ],
            "image/png": "[encoded data removed]"
          },
          "metadata": {
            "needs_background": "light"
          }
        }
      ],
      "source": [
        "# YOUR CODE HERE\n",
        "\n",
        "c.execute(''' SELECT inspections.Score, inspections.date\n",
        "              FROM inspections\n",
        "              WHERE (inspections.date BETWEEN '20140101' AND '20140131')\n",
        "              ''')\n",
        "\n",
        "scores = sql_to_frame(c)\n",
        "scores = scores.dropna()\n",
        "# scores\n",
        "hist = scores.hist(ec='k', figsize=(12,12))\n",
        "for ax in hist.flatten():\n",
        "    ax.set_xlabel('Score')\n",
        "    ax.set_ylabel('Count')\n",
        "    ax.set_title('Inspection Scores for Jan 2014')\n",
        "# raise NotImplementedError()"
      ]
    }
  ],
  "metadata": {
    "kernelspec": {
      "display_name": "Python 3 (ipykernel)",
      "language": "python",
      "name": "python3"
    },
    "language_info": {
      "codemirror_mode": {
        "name": "ipython",
        "version": 3
      },
      "file_extension": ".py",
      "mimetype": "text/x-python",
      "name": "python",
      "nbconvert_exporter": "python",
      "pygments_lexer": "ipython3",
      "version": "3.8.12"
    },
    "colab": {
      "provenance": [],
      "include_colab_link": true
    }
  },
  "nbformat": 4,
  "nbformat_minor": 5
}