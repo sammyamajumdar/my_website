{
  "nbformat": 4,
  "nbformat_minor": 0,
  "metadata": {
    "colab": {
      "provenance": [],
      "authorship_tag": "ABX9TyOGR/C6q1AsTkkSFziULX9e",
      "include_colab_link": true
    },
    "kernelspec": {
      "name": "python3",
      "display_name": "Python 3"
    },
    "language_info": {
      "name": "python"
    }
  },
  "cells": [
    {
      "cell_type": "markdown",
      "metadata": {
        "id": "view-in-github",
        "colab_type": "text"
      },
      "source": [
        "<a href=\"https://colab.research.google.com/github/sammyamajumdar/my_website/blob/main/PythonProject.ipynb\" target=\"_parent\"><img src=\"https://colab.research.google.com/assets/colab-badge.svg\" alt=\"Open In Colab\"/></a>"
      ]
    },
    {
      "cell_type": "code",
      "source": [
        "'''\n",
        "Task 1: \n",
        "\n",
        "morse file -> text file -> every row -> character and its corresponding morse code. \n",
        "\n",
        "// Read the file\n",
        "// Create the dictionary in the same format -> morseDict\n",
        "\n",
        "\n",
        "Task 2: \n",
        "\n",
        "//  Create a morse2text function -> input: TEXT output: morse code\n",
        "//  Assume 4 lines of text in the string \n",
        "// code = ''\n",
        "//  for line in string: \n",
        "        for word in line: \n",
        "//          chars= list(word) -> individual characters of the words // text == [t, e, x, t]\n",
        "//          for char in chars: \n",
        "//              if char in morseDict and not == ' ': \n",
        "//                  code += morseDict[char]\n",
        "//              if char == ' ': \n",
        "//                  code += '    '  \n",
        "                elif char not in morseDict: \n",
        "                    code += '   '\n",
        "//   return code + '    '\n",
        "\n",
        "Task 3: \n",
        "\n",
        "// Read folder -> read files -> read all the text lines from those files\n",
        "// encode everything in morse\n",
        "// save to morsefiles \n",
        "// files names should be same as original except morse added to end -> file.txt -> file_Morse.txt\n",
        "\n",
        "x = open(filename, r) \n",
        "sentences = x.readlines() // all the lines from the text file\n",
        "\n",
        "for sentence in sentences: \n",
        "    text2morse(sentence) \n",
        "\n",
        "// logic to write to files and save with custom file names. \n",
        "\n",
        "Task 4: \n",
        "\n",
        "// morse2text function\n",
        "// def morse2text(morse_code): \n",
        "//      morseDict.getitem()\n",
        "//      for item in morse_code: \n",
        "//          text_string += morse_code[key]\n",
        "//      return text_string\n",
        "\n",
        "Task 5: \n",
        "\n",
        "// Convert simple_story_Morse.txt to text\n",
        "\n",
        "Task 6: \n",
        "\n",
        "// Prove text2morse and morse2text doesnt modify information \n",
        "// input_text -> (text2morse) morse (morse2text) -> output_text\n",
        "// show that input_text == output_text\n",
        "\n",
        "'''"
      ],
      "metadata": {
        "id": "sO_bC-doLLmf",
        "colab": {
          "base_uri": "https://localhost:8080/",
          "height": 105
        },
        "outputId": "d1cb0fc7-2b75-49bc-f969-8c1d9fbb7b19"
      },
      "execution_count": null,
      "outputs": [
        {
          "output_type": "execute_result",
          "data": {
            "text/plain": [
              "\"\\nTask 1: \\n\\nmorse file -> text file -> every row -> character and its corresponding morse code. \\n\\n// Read the file\\n// Create the dictionary in the same format -> morseDict\\n\\n\\nTask 2: \\n\\n//  Create a morse2text function -> input: TEXT output: morse code\\n//  Assume 4 lines of text in the string \\n// code = ''\\n//  for line in string: \\n        for word in line: \\n//          chars= list(word) -> individual characters of the words // text == [t, e, x, t]\\n//          for char in chars: \\n//              if char in morseDict and not == ' ': \\n//                  code += morseDict[char]\\n//              if char == ' ': \\n//                  code += '    '  \\n                elif char not in morseDict: \\n                    code += '   '\\n//   return code + '    '\\n\\nTask 3: \\n\\n// Read folder -> read files -> read all the text lines from those files\\n// encode everything in morse\\n// save to morsefiles \\n// files names should be same as original except morse added to end -> file.txt -> file_Morse.txt\\n\\nx = open(filename, r) \\nsentences = x.readlines() // all the lines from the text file\\n\\nfor sentence in sentences: \\n    text2morse(sentence) \\n\\n// logic to write to files and save with custom file names. \\n\\nTask 4: \\n\\n// morse2text function\\n// def morse2text(morse_code): \\n//      morseDict.getitem()\\n//      for item in morse_code: \\n//          text_string += morse_code[key]\\n//      return text_string\\n\\nTask 5: \\n\\n// Convert simple_story_Morse.txt to text\\n\\nTask 6: \\n\\n// Prove text2morse and morse2text doesnt modify information \\n// input_text -> (text2morse) morse (morse2text) -> output_text\\n// show that input_text == output_text\\n\\n\""
            ],
            "application/vnd.google.colaboratory.intrinsic+json": {
              "type": "string"
            }
          },
          "metadata": {},
          "execution_count": 1
        }
      ]
    },
    {
      "cell_type": "code",
      "source": [
        "import os\n",
        "import numpy as np\n",
        "from scipy.stats import kendalltau"
      ],
      "metadata": {
        "id": "X2u5lfZubopj"
      },
      "execution_count": null,
      "outputs": []
    },
    {
      "cell_type": "code",
      "source": [
        "# Q1 a\n",
        "\n",
        "PATH = '/content/MorseCode.txt'\n",
        "# morse code function -> read file and create Morse dict -> char : code\n",
        "\n",
        "def read_morse_file(path): \n",
        "    filepath = path\n",
        "    with open(filepath, 'r') as f: \n",
        "        code = f.readlines()\n",
        "        f.close()\n",
        "    return code\n",
        "\n",
        "def Morse(path): \n",
        "    morseDict = {}\n",
        "    code = read_morse_file(path)\n",
        "    for item in code: \n",
        "        item = item.strip()\n",
        "        if item not in morseDict:\n",
        "            morseDict[item[0]] = item[2:]\n",
        "    \n",
        "    return morseDict\n",
        "Morse = Morse(PATH)\n",
        "Morse"
      ],
      "metadata": {
        "id": "KkmPOsF8YOTQ",
        "colab": {
          "base_uri": "https://localhost:8080/"
        },
        "outputId": "264f7214-f034-4ced-a6b3-87e9ba8be17f"
      },
      "execution_count": null,
      "outputs": [
        {
          "output_type": "execute_result",
          "data": {
            "text/plain": [
              "{'A': '.-',\n",
              " 'B': '-...',\n",
              " 'C': '-.-.',\n",
              " 'D': '-..',\n",
              " 'E': '.',\n",
              " 'F': '..-.',\n",
              " 'G': '--.',\n",
              " 'H': '....',\n",
              " 'I': '..',\n",
              " 'J': '.---',\n",
              " 'K': '-.-',\n",
              " 'L': '.-..',\n",
              " 'M': '--',\n",
              " 'N': '-.',\n",
              " 'O': '---',\n",
              " 'P': '.--.',\n",
              " 'Q': '--.-',\n",
              " 'R': '.-.',\n",
              " 'S': '...',\n",
              " 'T': '-',\n",
              " 'U': '..-',\n",
              " 'V': '...-',\n",
              " 'W': '.--',\n",
              " 'X': '-..-',\n",
              " 'Y': '-.--',\n",
              " 'Z': '--..',\n",
              " '0': '-----',\n",
              " '1': '.----',\n",
              " '2': '..---',\n",
              " '3': '...--',\n",
              " '4': '....-',\n",
              " '5': '.....',\n",
              " '6': '-....',\n",
              " '7': '--...',\n",
              " '8': '---..',\n",
              " '9': '----.',\n",
              " '.': '.-.-.-',\n",
              " ',': '--..--',\n",
              " '?': '..--..',\n",
              " '-': '-....-',\n",
              " '/': '-..-.',\n",
              " ';': '-.-.-.',\n",
              " ':': '---...',\n",
              " '\"': '.-..-.',\n",
              " \"'\": '.----.'}"
            ]
          },
          "metadata": {},
          "execution_count": 2
        }
      ]
    },
    {
      "cell_type": "code",
      "source": [
        "# Q1 b\n",
        "\n",
        "# create text2Morse func\n",
        "\n",
        "def text2Morse(s): \n",
        "        \n",
        "    morse_code = ''\n",
        "    for item in list(s.upper()): \n",
        "        if item not in Morse: \n",
        "            morse_code += '   '\n",
        "        elif item == ' ': \n",
        "            morse_code += '   '\n",
        "        else: \n",
        "            morse_code += Morse[item] + ' '\n",
        "\n",
        "    return  morse_code + '   '\n",
        "\n",
        "test_string = 'Take care, my friend'\n",
        "output_string = text2Morse(test_string)\n",
        "true_string = \"- .- -.- .    -.-. .- .-. . --..--    -- -.--    ..-. .-. .. . -. -..    \"\n",
        "print(output_string == true_string)"
      ],
      "metadata": {
        "colab": {
          "base_uri": "https://localhost:8080/"
        },
        "id": "9hdDsREwEdGF",
        "outputId": "c484d56e-9e9d-47cb-b926-6c558b6a810a"
      },
      "execution_count": null,
      "outputs": [
        {
          "output_type": "stream",
          "name": "stdout",
          "text": [
            "True\n"
          ]
        }
      ]
    },
    {
      "cell_type": "code",
      "source": [
        "# Q1 c\n",
        "!rmdir '/content/textfiles/.ipynb_checkpoints' \n",
        "path = '/content/textfiles/'\n",
        "output = os.mkdir('morsefiles')\n",
        "output_path = '/content/morsefiles'\n",
        "for item in os.listdir(path): \n",
        "    with open(path+item, 'r') as f: \n",
        "        sentences = f.readlines()\n",
        "        f.close()\n",
        "    for sentence in sentences: \n",
        "        morse_code = text2Morse(sentence)\n",
        "        with open(os.path.join(output_path, item[:-4]+'_Morse.txt'), 'x') as f:\n",
        "            f.write(morse_code)\n",
        "    f.close()"
      ],
      "metadata": {
        "id": "280lpjsDWR0R",
        "colab": {
          "base_uri": "https://localhost:8080/"
        },
        "outputId": "1b2f9d2f-0404-46aa-d9b6-6dd38e6e8924"
      },
      "execution_count": null,
      "outputs": [
        {
          "output_type": "stream",
          "name": "stdout",
          "text": [
            "rmdir: failed to remove '/content/textfiles/.ipynb_checkpoints': No such file or directory\n"
          ]
        }
      ]
    },
    {
      "cell_type": "code",
      "source": [
        "os.listdir(path)"
      ],
      "metadata": {
        "colab": {
          "base_uri": "https://localhost:8080/"
        },
        "id": "kjObv-7FCtSo",
        "outputId": "32189103-7e68-491e-95c4-3c8f89af42f2"
      },
      "execution_count": null,
      "outputs": [
        {
          "output_type": "execute_result",
          "data": {
            "text/plain": [
              "['The_Call_of_The_Wild.txt', 'The-Three-Little-Pigs.txt']"
            ]
          },
          "metadata": {},
          "execution_count": 12
        }
      ]
    },
    {
      "cell_type": "code",
      "source": [
        "# Q1 d \n",
        "\n",
        "# create morse2text func\n",
        "\n",
        "def morse2text(s):\n",
        "    s = s.strip()  # eliminate trailing white spaces\n",
        "    s = s.split('    ') # create a list of words in a sentence\n",
        "    word = ''\n",
        "    sentence = []\n",
        "    textMorseDict = dict((v,k) for k,v in Morse.items()) # dictionary where morse : char\n",
        "    for item in s: \n",
        "        item = item.split(' ') # split by characters\n",
        "        for j in item: \n",
        "            word += textMorseDict[j] # add characters corresponding to morse \n",
        "        sentence.append(word) \n",
        "        word = ''\n",
        "    return \" \".join(sentence).lower() \n",
        "s = \"- .- -.- .    -.-. .- .-. . --..--    -- -.--    ..-. .-. .. . -. -.. \"\n",
        "morse2text(s)\n"
      ],
      "metadata": {
        "colab": {
          "base_uri": "https://localhost:8080/",
          "height": 35
        },
        "id": "xMrS1P4bHDcU",
        "outputId": "e16e929e-9b10-4cb4-fb1a-153332e777f7"
      },
      "execution_count": null,
      "outputs": [
        {
          "output_type": "execute_result",
          "data": {
            "text/plain": [
              "'take care, my friend'"
            ],
            "application/vnd.google.colaboratory.intrinsic+json": {
              "type": "string"
            }
          },
          "metadata": {},
          "execution_count": 13
        }
      ]
    },
    {
      "cell_type": "code",
      "source": [
        "# Q1 e\n",
        "\n",
        "# check morse2text func\n",
        "path = '/content/simple_story_Morse.txt'\n",
        "with open(path, 'r') as f: \n",
        "    morse_code = f.readlines()\n",
        "    f.close()\n",
        "\n",
        "print(morse2text(morse_code[0]))\n"
      ],
      "metadata": {
        "colab": {
          "base_uri": "https://localhost:8080/"
        },
        "id": "igkEAxfxWdDI",
        "outputId": "7f2d0085-ef89-4e93-8448-74baba1f9a61"
      },
      "execution_count": null,
      "outputs": [
        {
          "output_type": "stream",
          "name": "stdout",
          "text": [
            "there was once a sweet little maid who lived with her father and mother in a pretty little cottage at the edge of the village. at the further end of the wood was another pretty cottage and in it lived her grandmother. everybody loved this little girl, her grandmother perhaps loved her most of all and gave her a great many pretty things. once she gave her a red cloak with a hood which she always wore, so people called her little red riding hood.\n"
          ]
        }
      ]
    },
    {
      "cell_type": "code",
      "source": [
        "# Q1 f\n",
        "\n",
        "# test if both functions are correctly working\n",
        "testfilespath = '/content/textfiles/'\n",
        "def testMorseFunc(testFilesPath):\n",
        "     texts = []\n",
        "     for item in os.listdir(testFilesPath):\n",
        "         with open(testFilesPath+item, 'r') as f: \n",
        "             sentence  = f.readlines()\n",
        "             f.close()\n",
        "         texts.append(sentence)\n",
        "     # first text file comparision\n",
        "     morse_output = text2Morse(texts[0][0])\n",
        "     text_output = morse2text(morse_output)\n",
        "     print('First text file check: ')\n",
        "     print(text_output == texts[0][0].lower().strip())\n",
        "\n",
        "     # second text file comparision\n",
        "     morse_output = text2Morse(texts[1][0])\n",
        "     text_output = morse2text(morse_output)\n",
        "     print('Second text file check: ')\n",
        "    #  print(text_output == texts[1][0].upper().strip())\n",
        "    # print(text_output)\n",
        "     print(text_output == texts[1][0].lower().strip())\n",
        "     \n",
        "     \n",
        "testMorseFunc(testfilespath)\n"
      ],
      "metadata": {
        "colab": {
          "base_uri": "https://localhost:8080/"
        },
        "id": "3Djrh5yiYu3h",
        "outputId": "84c9a232-e982-4b01-f434-65320b18d8b3"
      },
      "execution_count": null,
      "outputs": [
        {
          "output_type": "stream",
          "name": "stdout",
          "text": [
            "First text file check: \n",
            "True\n",
            "Second text file check: \n",
            "True\n"
          ]
        }
      ]
    },
    {
      "cell_type": "code",
      "source": [
        "# Q2 a\n",
        "\n",
        "'''\n",
        "read a string -> filename -> read file -> drop spaces -> drop chars not in MorseDict -> make new dict -> chars: frequency / len(chars)\n",
        "\n",
        "'''\n",
        "\n",
        "\n",
        "def CharStats(fname):\n",
        "    with open(fname, 'r') as f:\n",
        "        sentences = f.readlines()\n",
        "        f.close\n",
        "    char_dict = {}\n",
        "    char_count = 0\n",
        "    for sentence in sentences: \n",
        "        sentence = sentence.split(' ')\n",
        "        for char in sentence:\n",
        "            char = list(char)\n",
        "            for item in char:\n",
        "                item = item.lower()\n",
        "                char_count += 1\n",
        "                if item.upper() not in Morse:\n",
        "                    continue\n",
        "                if (item not in char_dict) and (item.upper() in Morse):\n",
        "                    char_dict[item] = 1\n",
        "                else:\n",
        "                    char_dict[item] += 1\n",
        "\n",
        "    for chars in char_dict:\n",
        "        char_dict[chars] /= char_count\n",
        "    return char_dict"
      ],
      "metadata": {
        "id": "7S21j4Xjz72Z"
      },
      "execution_count": null,
      "outputs": []
    },
    {
      "cell_type": "code",
      "source": [
        "# Q2 b\n",
        "fname = '/content/EnglishWords.txt'\n",
        "charFreq = CharStats(fname)\n"
      ],
      "metadata": {
        "id": "ZKimiF-jRYVV"
      },
      "execution_count": null,
      "outputs": []
    },
    {
      "cell_type": "code",
      "source": [
        "# Q2 c\n",
        "import numpy as np\n",
        "def rankStats(some_dict):\n",
        "\n",
        "   \n",
        "\n",
        "    # sorts the dictionary by value\n",
        "    some_dict =  dict(sorted(some_dict.items(), key=lambda item: item[1]))\n",
        "    vals = np.array(list(some_dict.values()))\n",
        "    keys = np.array(list(some_dict.keys()))\n",
        "\n",
        "\n",
        "    rankDict = {}\n",
        "    ranks = []\n",
        "    for item in range(1,len(vals)):\n",
        "        ranks.append(np.where(np.isin(vals, vals[item])))\n",
        "    for item in range(len(keys)):\n",
        "            rankDict[keys[item]] = np.mean(np.add((np.where(np.isin(vals, vals[item]))), 1))\n",
        "\n",
        "    return rankDict\n",
        "\n",
        "\n",
        "D = {\n",
        "    'w': 10,\n",
        "    'x': 27,\n",
        "    'y': 4.5,\n",
        "    'z': 31,\n",
        "    't': 1,\n",
        "    'v': 10  \n",
        "}\n",
        "ranks = rankStats(D)\n",
        "ranks"
      ],
      "metadata": {
        "colab": {
          "base_uri": "https://localhost:8080/"
        },
        "id": "AX4_PxNZtG5E",
        "outputId": "2f47578f-e02b-419f-dc3e-5503dd8f994e"
      },
      "execution_count": null,
      "outputs": [
        {
          "output_type": "execute_result",
          "data": {
            "text/plain": [
              "{'t': 1.0, 'y': 2.0, 'w': 3.5, 'v': 3.5, 'x': 5.0, 'z': 6.0}"
            ]
          },
          "metadata": {},
          "execution_count": 5
        }
      ]
    },
    {
      "cell_type": "code",
      "source": [
        "# Q2 d\n",
        "\n",
        "def MorseLength(s, M): \n",
        "    morse_code = Morse[s.upper()]\n",
        "    morse_code = list(morse_code)\n",
        "    morse_code = ' '.join(morse_code)\n",
        "    count = 0\n",
        "\n",
        "    for item in morse_code:\n",
        "        if item == ' ' or item == '.':\n",
        "            count += 1\n",
        "        if item == '-':\n",
        "            count += 3\n",
        "\n",
        "    return count\n",
        "MorseLength('c', Morse)"
      ],
      "metadata": {
        "colab": {
          "base_uri": "https://localhost:8080/"
        },
        "id": "stwUBQcUu5_x",
        "outputId": "32f480f8-4b6e-44ed-835a-a0cab1319333"
      },
      "execution_count": null,
      "outputs": [
        {
          "output_type": "execute_result",
          "data": {
            "text/plain": [
              "11"
            ]
          },
          "metadata": {},
          "execution_count": 6
        }
      ]
    },
    {
      "cell_type": "code",
      "source": [
        "# Q2 e\n",
        "\n",
        "def CharLength():\n",
        "    CharLengths = {}\n",
        "    for item in Morse: \n",
        "        CharLengths[item] = MorseLength(item, Morse)\n",
        "\n",
        "    return CharLengths\n",
        "\n",
        "CharLengths = CharLength()\n",
        "ranks = rankStats(CharLengths) # rank by frequency"
      ],
      "metadata": {
        "id": "Dj-yVMGFpow4"
      },
      "execution_count": null,
      "outputs": []
    },
    {
      "cell_type": "code",
      "source": [
        "# Q2 f\n",
        "\n",
        "# compute kendall tau -> rank by frequency -> rank by length\n",
        "\n",
        "ranksLength = rankStats(CharLengths)\n",
        "charFreq = rankStats(charFreq)\n",
        "kendalltau(list(ranksLength.values()), list(charFreq.values()))"
      ],
      "metadata": {
        "colab": {
          "base_uri": "https://localhost:8080/",
          "height": 322
        },
        "id": "bJenJZLduKu5",
        "outputId": "79f4a8c0-2317-45fd-8855-9faf0251d840"
      },
      "execution_count": null,
      "outputs": [
        {
          "output_type": "error",
          "ename": "ValueError",
          "evalue": "ignored",
          "traceback": [
            "\u001b[0;31m---------------------------------------------------------------------------\u001b[0m",
            "\u001b[0;31mValueError\u001b[0m                                Traceback (most recent call last)",
            "\u001b[0;32m<ipython-input-8-69550f65f095>\u001b[0m in \u001b[0;36m<module>\u001b[0;34m\u001b[0m\n\u001b[1;32m      5\u001b[0m \u001b[0mranksLength\u001b[0m \u001b[0;34m=\u001b[0m \u001b[0mrankStats\u001b[0m\u001b[0;34m(\u001b[0m\u001b[0mCharLengths\u001b[0m\u001b[0;34m)\u001b[0m\u001b[0;34m\u001b[0m\u001b[0;34m\u001b[0m\u001b[0m\n\u001b[1;32m      6\u001b[0m \u001b[0mcharFreq\u001b[0m \u001b[0;34m=\u001b[0m \u001b[0mrankStats\u001b[0m\u001b[0;34m(\u001b[0m\u001b[0mcharFreq\u001b[0m\u001b[0;34m)\u001b[0m\u001b[0;34m\u001b[0m\u001b[0;34m\u001b[0m\u001b[0m\n\u001b[0;32m----> 7\u001b[0;31m \u001b[0mkendalltau\u001b[0m\u001b[0;34m(\u001b[0m\u001b[0mlist\u001b[0m\u001b[0;34m(\u001b[0m\u001b[0mranksLength\u001b[0m\u001b[0;34m.\u001b[0m\u001b[0mvalues\u001b[0m\u001b[0;34m(\u001b[0m\u001b[0;34m)\u001b[0m\u001b[0;34m)\u001b[0m\u001b[0;34m,\u001b[0m \u001b[0mlist\u001b[0m\u001b[0;34m(\u001b[0m\u001b[0mcharFreq\u001b[0m\u001b[0;34m.\u001b[0m\u001b[0mvalues\u001b[0m\u001b[0;34m(\u001b[0m\u001b[0;34m)\u001b[0m\u001b[0;34m)\u001b[0m\u001b[0;34m)\u001b[0m\u001b[0;34m\u001b[0m\u001b[0;34m\u001b[0m\u001b[0m\n\u001b[0m",
            "\u001b[0;32m/usr/local/lib/python3.8/dist-packages/scipy/stats/stats.py\u001b[0m in \u001b[0;36mkendalltau\u001b[0;34m(x, y, initial_lexsort, nan_policy, method, variant)\u001b[0m\n\u001b[1;32m   4719\u001b[0m \u001b[0;34m\u001b[0m\u001b[0m\n\u001b[1;32m   4720\u001b[0m     \u001b[0;32mif\u001b[0m \u001b[0mx\u001b[0m\u001b[0;34m.\u001b[0m\u001b[0msize\u001b[0m \u001b[0;34m!=\u001b[0m \u001b[0my\u001b[0m\u001b[0;34m.\u001b[0m\u001b[0msize\u001b[0m\u001b[0;34m:\u001b[0m\u001b[0;34m\u001b[0m\u001b[0;34m\u001b[0m\u001b[0m\n\u001b[0;32m-> 4721\u001b[0;31m         raise ValueError(\"All inputs to `kendalltau` must be of the same \"\n\u001b[0m\u001b[1;32m   4722\u001b[0m                          f\"size, found x-size {x.size} and y-size {y.size}\")\n\u001b[1;32m   4723\u001b[0m     \u001b[0;32melif\u001b[0m \u001b[0;32mnot\u001b[0m \u001b[0mx\u001b[0m\u001b[0;34m.\u001b[0m\u001b[0msize\u001b[0m \u001b[0;32mor\u001b[0m \u001b[0;32mnot\u001b[0m \u001b[0my\u001b[0m\u001b[0;34m.\u001b[0m\u001b[0msize\u001b[0m\u001b[0;34m:\u001b[0m\u001b[0;34m\u001b[0m\u001b[0;34m\u001b[0m\u001b[0m\n",
            "\u001b[0;31mValueError\u001b[0m: All inputs to `kendalltau` must be of the same size, found x-size 45 and y-size 43"
          ]
        }
      ]
    },
    {
      "cell_type": "code",
      "source": [
        "ranks"
      ],
      "metadata": {
        "colab": {
          "base_uri": "https://localhost:8080/"
        },
        "id": "gXcxgG1yI8SM",
        "outputId": "1806b0e4-957a-472a-8e5b-5926bd61160c"
      },
      "execution_count": null,
      "outputs": [
        {
          "output_type": "execute_result",
          "data": {
            "text/plain": [
              "{'E': 1.0,\n",
              " 'I': 2.5,\n",
              " 'T': 2.5,\n",
              " 'A': 5.0,\n",
              " 'N': 5.0,\n",
              " 'S': 5.0,\n",
              " 'D': 9.0,\n",
              " 'H': 9.0,\n",
              " 'M': 9.0,\n",
              " 'R': 9.0,\n",
              " 'U': 9.0,\n",
              " 'B': 15.5,\n",
              " 'F': 15.5,\n",
              " 'G': 15.5,\n",
              " 'K': 15.5,\n",
              " 'L': 15.5,\n",
              " 'V': 15.5,\n",
              " 'W': 15.5,\n",
              " '5': 15.5,\n",
              " 'C': 23.0,\n",
              " 'O': 23.0,\n",
              " 'P': 23.0,\n",
              " 'X': 23.0,\n",
              " 'Z': 23.0,\n",
              " '4': 23.0,\n",
              " '6': 23.0,\n",
              " 'J': 29.5,\n",
              " 'Q': 29.5,\n",
              " 'Y': 29.5,\n",
              " '3': 29.5,\n",
              " '7': 29.5,\n",
              " '/': 29.5,\n",
              " '2': 35.0,\n",
              " '8': 35.0,\n",
              " '?': 35.0,\n",
              " '-': 35.0,\n",
              " '\"': 35.0,\n",
              " '1': 40.0,\n",
              " '9': 40.0,\n",
              " '.': 40.0,\n",
              " ';': 40.0,\n",
              " ':': 40.0,\n",
              " '0': 44.0,\n",
              " ',': 44.0,\n",
              " \"'\": 44.0}"
            ]
          },
          "metadata": {},
          "execution_count": 9
        }
      ]
    },
    {
      "cell_type": "code",
      "source": [
        "charFreq"
      ],
      "metadata": {
        "colab": {
          "base_uri": "https://localhost:8080/"
        },
        "id": "CvuzHpe8xO6e",
        "outputId": "6312ca07-9c26-4aca-bb17-9e8e7a416139"
      },
      "execution_count": null,
      "outputs": [
        {
          "output_type": "execute_result",
          "data": {
            "text/plain": [
              "{\"'\": 1.0,\n",
              " '8': 3.0,\n",
              " '9': 3.0,\n",
              " '\"': 3.0,\n",
              " '7': 5.0,\n",
              " '6': 6.5,\n",
              " '0': 6.5,\n",
              " '5': 8.0,\n",
              " '4': 9.0,\n",
              " '3': 10.0,\n",
              " ':': 11.0,\n",
              " '2': 12.0,\n",
              " '1': 13.5,\n",
              " 'z': 13.5,\n",
              " 'q': 15.5,\n",
              " 'k': 15.5,\n",
              " '-': 17.0,\n",
              " 'j': 18.0,\n",
              " ';': 19.0,\n",
              " 'x': 20.0,\n",
              " '.': 21.0,\n",
              " 'w': 22.0,\n",
              " 'g': 23.0,\n",
              " 'v': 24.0,\n",
              " 'y': 25.0,\n",
              " ',': 26.0,\n",
              " 'b': 27.0,\n",
              " 'm': 28.0,\n",
              " 'p': 29.0,\n",
              " 'u': 30.0,\n",
              " 'f': 31.0,\n",
              " 'c': 32.0,\n",
              " 'd': 33.0,\n",
              " 'l': 34.0,\n",
              " 'h': 35.0,\n",
              " 'r': 36.0,\n",
              " 'i': 37.0,\n",
              " 'n': 38.0,\n",
              " 'a': 39.0,\n",
              " 's': 40.0,\n",
              " 'o': 41.0,\n",
              " 't': 42.0,\n",
              " 'e': 43.0}"
            ]
          },
          "metadata": {},
          "execution_count": 10
        }
      ]
    }
  ]
}