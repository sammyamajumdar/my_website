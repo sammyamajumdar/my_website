{
  "nbformat": 4,
  "nbformat_minor": 0,
  "metadata": {
    "colab": {
      "provenance": [],
      "authorship_tag": "ABX9TyNBsCgv9ydxlN/wJt8MUIbh",
      "include_colab_link": true
    },
    "kernelspec": {
      "name": "python3",
      "display_name": "Python 3"
    },
    "language_info": {
      "name": "python"
    }
  },
  "cells": [
    {
      "cell_type": "markdown",
      "metadata": {
        "id": "view-in-github",
        "colab_type": "text"
      },
      "source": [
        "<a href=\"https://colab.research.google.com/github/sammyamajumdar/my_website/blob/main/PythonProject_Final.ipynb\" target=\"_parent\"><img src=\"https://colab.research.google.com/assets/colab-badge.svg\" alt=\"Open In Colab\"/></a>"
      ]
    },
    {
      "cell_type": "code",
      "source": [
        "# import the necessary libraries\n",
        "import os\n",
        "import numpy as np\n",
        "from scipy.stats import kendalltau\n",
        "import re\n",
        "import matplotlib.pyplot as plt"
      ],
      "metadata": {
        "id": "X2u5lfZubopj"
      },
      "execution_count": 3,
      "outputs": []
    },
    {
      "cell_type": "code",
      "source": [
        "# Q1 a\n",
        "\n",
        "PATH = '/content/MorseCode.txt'\n",
        "\n",
        "# A function that takes a file path and returns the all the contents of the MorseCode text file\n",
        "def read_morse_file(path): \n",
        "    filepath = path\n",
        "    with open(filepath, 'r') as f: \n",
        "        code = f.readlines()\n",
        "        f.close()\n",
        "    return code\n",
        "\n",
        "'''\n",
        "Grabs all the lines from the Morse file. iterates through them while deleting any white spaces\n",
        "in the beginning or the end. Adds the corresponding morse code if its not already added \n",
        "the first letters are the keys (characters) and from index 2 onwards are the morse codes for said \n",
        "characters. The consistent formatting in the text file is reflected in the code in line 26. \n",
        "'''\n",
        "\n",
        "def Morse(path): \n",
        "    morseDict = {}\n",
        "    code = read_morse_file(path)\n",
        "    for item in code: \n",
        "        item = item.strip()\n",
        "        if item not in morseDict:\n",
        "            morseDict[item[0]] = item[2:]\n",
        "    \n",
        "    return morseDict\n",
        "Morse = Morse(PATH)\n",
        "Morse"
      ],
      "metadata": {
        "id": "KkmPOsF8YOTQ",
        "colab": {
          "base_uri": "https://localhost:8080/"
        },
        "outputId": "48610afd-37d4-403e-dbbf-2d521d7f108f"
      },
      "execution_count": 5,
      "outputs": [
        {
          "output_type": "execute_result",
          "data": {
            "text/plain": [
              "{'A': '.-',\n",
              " 'B': '-...',\n",
              " 'C': '-.-.',\n",
              " 'D': '-..',\n",
              " 'E': '.',\n",
              " 'F': '..-.',\n",
              " 'G': '--.',\n",
              " 'H': '....',\n",
              " 'I': '..',\n",
              " 'J': '.---',\n",
              " 'K': '-.-',\n",
              " 'L': '.-..',\n",
              " 'M': '--',\n",
              " 'N': '-.',\n",
              " 'O': '---',\n",
              " 'P': '.--.',\n",
              " 'Q': '--.-',\n",
              " 'R': '.-.',\n",
              " 'S': '...',\n",
              " 'T': '-',\n",
              " 'U': '..-',\n",
              " 'V': '...-',\n",
              " 'W': '.--',\n",
              " 'X': '-..-',\n",
              " 'Y': '-.--',\n",
              " 'Z': '--..',\n",
              " '0': '-----',\n",
              " '1': '.----',\n",
              " '2': '..---',\n",
              " '3': '...--',\n",
              " '4': '....-',\n",
              " '5': '.....',\n",
              " '6': '-....',\n",
              " '7': '--...',\n",
              " '8': '---..',\n",
              " '9': '----.',\n",
              " '.': '.-.-.-',\n",
              " ',': '--..--',\n",
              " '?': '..--..',\n",
              " '-': '-....-',\n",
              " '/': '-..-.',\n",
              " ';': '-.-.-.',\n",
              " ':': '---...',\n",
              " '\"': '.-..-.',\n",
              " \"'\": '.----.'}"
            ]
          },
          "metadata": {},
          "execution_count": 5
        }
      ]
    },
    {
      "cell_type": "code",
      "source": [
        "# Q1 b\n",
        "\n",
        "\n",
        "'''\n",
        "Algorithm:\n",
        "1. iterate through the list of characters in the text string\n",
        "2. if text character not in Morse dictionary or a space indicating separation between words - add three spaces\n",
        "3. if its a character is already in the Morse dict - concatenate the corresponding morse code with a single space in the end\n",
        "4. return the output with 3 spaces added to mark the end of string\n",
        "'''\n",
        "\n",
        "\n",
        "def text2Morse(s): \n",
        "        \n",
        "    morse_code = ''\n",
        "    for item in list(s.upper()): \n",
        "        if item not in Morse or item == ' ': \n",
        "            morse_code += '   '\n",
        "        else: \n",
        "            morse_code += Morse[item] + ' '\n",
        "\n",
        "    return  morse_code + '   '\n",
        "\n",
        "test_string = 'Take care, my friend'\n",
        "output_string = text2Morse(test_string)\n",
        "true_string = \"- .- -.- .    -.-. .- .-. . --..--    -- -.--    ..-. .-. .. . -. -..    \"\n",
        "print(output_string == true_string)"
      ],
      "metadata": {
        "colab": {
          "base_uri": "https://localhost:8080/"
        },
        "id": "9hdDsREwEdGF",
        "outputId": "a6b72003-d022-486c-fb28-ab0331af7a92"
      },
      "execution_count": 36,
      "outputs": [
        {
          "output_type": "stream",
          "name": "stdout",
          "text": [
            "True\n"
          ]
        }
      ]
    },
    {
      "cell_type": "code",
      "source": [
        "# Q1 c\n",
        "\n",
        "# set the path of the morsefiles\n",
        "path = '/content/textfiles/'\n",
        "\n",
        "# create a morsefiles folder\n",
        "output = os.mkdir('morsefiles')\n",
        "output_path = '/content/morsefiles'\n",
        "for item in os.listdir(path): \n",
        "    with open(path+item, 'r') as f: \n",
        "        sentences = f.readlines()\n",
        "        f.close()\n",
        "    for sentence in sentences: \n",
        "        morse_code = text2Morse(sentence)\n",
        "        # create custom output file names for input and write in them the morse outputs\n",
        "        with open(os.path.join(output_path, item[:-4]+'_Morse.txt'), 'x') as f:\n",
        "            f.write(morse_code)\n",
        "    f.close()"
      ],
      "metadata": {
        "id": "280lpjsDWR0R"
      },
      "execution_count": 34,
      "outputs": []
    },
    {
      "cell_type": "code",
      "source": [
        "# Q1 d \n",
        "\n",
        "'''\n",
        "Algorithm:\n",
        "1. strip preceding and trailing white spaces from the input string\n",
        "2. list out the words in the sentence (using three white spaces as a separator)\n",
        "3. create an empty string \n",
        "4. create an empty list for the final output sentence\n",
        "5. create a modified version of Morse dictionary where the k,v pairs are interchanged for easier lookup\n",
        "6. iterate through each word of the input string and split by character\n",
        "7. iterate through the characters and concatenate the texts (found through the textMorseDict lookup) to word\n",
        "8. Append each word to the sentence list and keep iterating until all words are added\n",
        "9. join the words into a text string with one white space as a separator \n",
        "'''\n",
        "\n",
        "def Morse2text(s):\n",
        "    s = s.strip()  # eliminate trailing white spaces\n",
        "    s = s.split('    ') # create a list of words in a sentence\n",
        "    word = ''\n",
        "    sentence = []\n",
        "    textMorseDict = dict((v,k) for k,v in Morse.items()) # dictionary where morse : char\n",
        "    for item in s: \n",
        "        item = item.split(' ') # split by characters\n",
        "        for j in item: \n",
        "            word += textMorseDict[j] # add characters corresponding to morse \n",
        "        sentence.append(word) \n",
        "        word = ''\n",
        "    return \" \".join(sentence).lower() \n",
        "s = \"- .- -.- .    -.-. .- .-. . --..--    -- -.--    ..-. .-. .. . -. -.. \"\n",
        "Morse2text(s)\n"
      ],
      "metadata": {
        "colab": {
          "base_uri": "https://localhost:8080/",
          "height": 35
        },
        "id": "xMrS1P4bHDcU",
        "outputId": "c05fd963-fc1e-4827-d5cf-b02e04292737"
      },
      "execution_count": 33,
      "outputs": [
        {
          "output_type": "execute_result",
          "data": {
            "text/plain": [
              "'take care, my friend'"
            ],
            "application/vnd.google.colaboratory.intrinsic+json": {
              "type": "string"
            }
          },
          "metadata": {},
          "execution_count": 33
        }
      ]
    },
    {
      "cell_type": "code",
      "source": [
        "# Q1 e\n",
        "\n",
        "path = '/content/simple_story_Morse.txt'\n",
        "with open(path, 'r') as f: \n",
        "    morse_code = f.readlines()\n",
        "    f.close()\n",
        "\n",
        "print(Morse2text(morse_code[0]))\n"
      ],
      "metadata": {
        "colab": {
          "base_uri": "https://localhost:8080/"
        },
        "id": "igkEAxfxWdDI",
        "outputId": "7f2d0085-ef89-4e93-8448-74baba1f9a61"
      },
      "execution_count": null,
      "outputs": [
        {
          "output_type": "stream",
          "name": "stdout",
          "text": [
            "there was once a sweet little maid who lived with her father and mother in a pretty little cottage at the edge of the village. at the further end of the wood was another pretty cottage and in it lived her grandmother. everybody loved this little girl, her grandmother perhaps loved her most of all and gave her a great many pretty things. once she gave her a red cloak with a hood which she always wore, so people called her little red riding hood.\n"
          ]
        }
      ]
    },
    {
      "cell_type": "code",
      "source": [
        "# Q1 f\n",
        "\n",
        "'''\n",
        "Algorithm:\n",
        "1. Grab all lines from the two files contained inside textfiles\n",
        "2. add them in a texts list\n",
        "3. grab the morse output from text2Morse, send it as an input to morse2text (convert it to lowercase since it is case-insensitive)\n",
        "4. use python equality operator (==) to check if the functions work, returns boolean True if they are, False if original text and \n",
        "output text are not similar.\n",
        "'''\n",
        "\n",
        "\n",
        "testfilespath = '/content/textfiles/'\n",
        "def testMorseFunc(testFilesPath):\n",
        "     texts = []\n",
        "     for item in os.listdir(testFilesPath):\n",
        "         with open(testFilesPath+item, 'r') as f: \n",
        "             sentence  = f.readlines()\n",
        "             f.close()\n",
        "         texts.append(sentence)\n",
        "\n",
        "\n",
        "     for idx in range(len(texts)):\n",
        "\n",
        "        text_output = Morse2text(text2Morse(texts[idx][0]))\n",
        "        print(f'File {idx+1} check:')\n",
        "        print(text_output == texts[idx][0].lower().strip())\n",
        "     \n",
        "testMorseFunc(testfilespath)\n"
      ],
      "metadata": {
        "colab": {
          "base_uri": "https://localhost:8080/"
        },
        "id": "3Djrh5yiYu3h",
        "outputId": "6eaa5f05-cdc3-4938-b0ea-8b38db5434f3"
      },
      "execution_count": 31,
      "outputs": [
        {
          "output_type": "stream",
          "name": "stdout",
          "text": [
            "File 1 check:\n",
            "True\n",
            "File 2 check:\n",
            "True\n"
          ]
        }
      ]
    },
    {
      "cell_type": "code",
      "source": [
        "# Q2 a\n",
        "\n",
        "'''\n",
        "Algorithm: \n",
        "1. Read the lines of the text in the file\n",
        "2. iterate through the sentences with a for loop\n",
        "3. split each sentence into words\n",
        "4. iterate through the words while listing them by each char, and iterate further through each character with another nested for loop O(n^3)\n",
        "5. convert all chars into lower case for consistency add to the char counter to be used later\n",
        "6. if character not in the Morse dictionary - keep iterating\n",
        "7. if item not in char_dict already AND is a key inside the Morse dictionary, set char as a key with value of 1\n",
        "8. if item is already found in char add 1 to its value on every occurance\n",
        "9. iterate through the char_dict dividing each value with total character count of the text\n",
        "'''\n",
        "\n",
        "\n",
        "def CharStats(fname):\n",
        "    with open(fname, 'r') as f:\n",
        "        sentences = f.readlines()\n",
        "        f.close\n",
        "    char_dict = {}\n",
        "    char_count = 0\n",
        "    for sentence in sentences: \n",
        "        sentence = sentence.split(' ')\n",
        "        for char in sentence:\n",
        "            char = list(char)\n",
        "            for item in char:\n",
        "                item = item.lower()\n",
        "                char_count += 1\n",
        "                if item.upper() not in Morse:\n",
        "                    continue\n",
        "                if (item not in char_dict) and (item.upper() in Morse):\n",
        "                    char_dict[item] = 1\n",
        "                else:\n",
        "                    char_dict[item] += 1\n",
        "\n",
        "    for chars in char_dict:\n",
        "        char_dict[chars] /= char_count\n",
        "    return char_dict"
      ],
      "metadata": {
        "id": "7S21j4Xjz72Z"
      },
      "execution_count": 6,
      "outputs": []
    },
    {
      "cell_type": "code",
      "source": [
        "# Q2 b\n",
        "fname = '/content/EnglishWords.txt'\n",
        "charFreq = CharStats(fname)\n",
        "charFreq"
      ],
      "metadata": {
        "id": "ZKimiF-jRYVV"
      },
      "execution_count": null,
      "outputs": []
    },
    {
      "cell_type": "code",
      "source": [
        "# Q2 c\n",
        "\n",
        "'''\n",
        "Algorithm:\n",
        "1. sort the dictionary by values since a ascending order of values are required for rank\n",
        "2. grab the keys and values in a numpy array\n",
        "3. create a new dictionary \n",
        "4. iterate through the keys of the initial input dictionary and add the ranks of all the values\n",
        "5. the ranks are calculated by using np.isin and np.where - returns an array of indexes for every element,\n",
        "for more than one occurance of a value, the rank is averages with np.mean,np.add is used to add to indexes\n",
        "since python has zero based indexing and ranks start from 1. Made a true Python one liner from hell.\n",
        "6. test dictionary D matches values given in problem sheet. \n",
        "'''\n",
        "\n",
        "\n",
        "\n",
        "def rankStats(some_dict):\n",
        "\n",
        "    # sorts the dictionary by value\n",
        "    some_dict =  dict(sorted(some_dict.items(), key=lambda item: item[1]))\n",
        "    vals = np.array(list(some_dict.values()))\n",
        "    keys = np.array(list(some_dict.keys()))\n",
        "\n",
        "\n",
        "    rankDict = {}\n",
        "    \n",
        "    for item in range(len(keys)):\n",
        "            rankDict[keys[item]] = np.mean(np.add((np.where(np.isin(vals, vals[item]))), 1))\n",
        "    \n",
        "    return rankDict\n",
        "\n",
        "\n",
        "D = {\n",
        "    'w': 10,\n",
        "    'x': 27,\n",
        "    'y': 4.5,\n",
        "    'z': 31,\n",
        "    't': 1,\n",
        "    'v': 10  \n",
        "}\n",
        "ranks = rankStats(D)\n",
        "ranks"
      ],
      "metadata": {
        "colab": {
          "base_uri": "https://localhost:8080/"
        },
        "id": "AX4_PxNZtG5E",
        "outputId": "c9b46cba-5d3f-4c35-d8d6-46df6af3e2bc"
      },
      "execution_count": 21,
      "outputs": [
        {
          "output_type": "execute_result",
          "data": {
            "text/plain": [
              "{'t': 1.0, 'y': 2.0, 'w': 3.5, 'v': 3.5, 'x': 5.0, 'z': 6.0}"
            ]
          },
          "metadata": {},
          "execution_count": 21
        }
      ]
    },
    {
      "cell_type": "code",
      "source": [
        "# Q2 d\n",
        "\n",
        "'''\n",
        "Algorithm:\n",
        "1. Convert the string character to its corresponding morse value\n",
        "2. list out the individual dits and dahs\n",
        "3. rejoin into a string with a space in between (to account for space between each dit and dah)\n",
        "4. iterate through every item in the morse_code\n",
        "5. add 1 to the length counter if space of dit is found\n",
        "6. add 3 for every dah  \n",
        "'''\n",
        "\n",
        "def MorseLength(s, M): \n",
        "    morse_code = Morse[s.upper()]\n",
        "    morse_code = list(morse_code)\n",
        "    morse_code = ' '.join(morse_code)\n",
        "    count = 0\n",
        "\n",
        "    for item in morse_code:\n",
        "        if item == ' ' or item == '.':\n",
        "            count += 1\n",
        "        if item == '-':\n",
        "            count += 3\n",
        "\n",
        "    return count\n",
        "MorseLength('c', Morse)"
      ],
      "metadata": {
        "colab": {
          "base_uri": "https://localhost:8080/"
        },
        "id": "stwUBQcUu5_x",
        "outputId": "cf4b10b0-c961-4646-8afb-bac92091668d"
      },
      "execution_count": 16,
      "outputs": [
        {
          "output_type": "execute_result",
          "data": {
            "text/plain": [
              "11"
            ]
          },
          "metadata": {},
          "execution_count": 16
        }
      ]
    },
    {
      "cell_type": "code",
      "source": [
        "# Q2 e\n",
        "\n",
        "'''\n",
        "Algorithm:\n",
        "1. Create a CharLengths dictionary\n",
        "2. Iterate through the Morse dictioanry and set the keys to CharLengths keys\n",
        "and values to the out of the MorseLength outputs of said key\n",
        "'''\n",
        "\n",
        "\n",
        "\n",
        "def CharLength():\n",
        "    CharLengths = {}\n",
        "    for item in Morse: \n",
        "        CharLengths[item.lower()] = MorseLength(item, Morse)\n",
        "\n",
        "    return CharLengths\n",
        "\n",
        "CharLengths = CharLength()\n",
        "CharLengths"
      ],
      "metadata": {
        "id": "Dj-yVMGFpow4",
        "colab": {
          "base_uri": "https://localhost:8080/"
        },
        "outputId": "cc4b9dd4-2eb8-4997-859c-489aacd67c83"
      },
      "execution_count": 15,
      "outputs": [
        {
          "output_type": "execute_result",
          "data": {
            "text/plain": [
              "{'a': 5,\n",
              " 'b': 9,\n",
              " 'c': 11,\n",
              " 'd': 7,\n",
              " 'e': 1,\n",
              " 'f': 9,\n",
              " 'g': 9,\n",
              " 'h': 7,\n",
              " 'i': 3,\n",
              " 'j': 13,\n",
              " 'k': 9,\n",
              " 'l': 9,\n",
              " 'm': 7,\n",
              " 'n': 5,\n",
              " 'o': 11,\n",
              " 'p': 11,\n",
              " 'q': 13,\n",
              " 'r': 7,\n",
              " 's': 5,\n",
              " 't': 3,\n",
              " 'u': 7,\n",
              " 'v': 9,\n",
              " 'w': 9,\n",
              " 'x': 11,\n",
              " 'y': 13,\n",
              " 'z': 11,\n",
              " '0': 19,\n",
              " '1': 17,\n",
              " '2': 15,\n",
              " '3': 13,\n",
              " '4': 11,\n",
              " '5': 9,\n",
              " '6': 11,\n",
              " '7': 13,\n",
              " '8': 15,\n",
              " '9': 17,\n",
              " '.': 17,\n",
              " ',': 19,\n",
              " '?': 15,\n",
              " '-': 15,\n",
              " '/': 13,\n",
              " ';': 17,\n",
              " ':': 17,\n",
              " '\"': 15,\n",
              " \"'\": 19}"
            ]
          },
          "metadata": {},
          "execution_count": 15
        }
      ]
    },
    {
      "cell_type": "code",
      "source": [
        "# Q2 f\n",
        "\n",
        "'''\n",
        "Algorithm: \n",
        "\n",
        "1. get length of characters using charlength function and calculate its rank with rankStats\n",
        "2. get frequency of characters from the englishwords.txt and calculate its rank with rankStats\n",
        "3. get kendalltau rank rank_by_frequency against rank_by_length\n",
        "4. drop characters not found in englishwords.txt from chars_by_length\n",
        "5. input both dictionary values into kendalltau and investigate results\n",
        "\n",
        "'''\n",
        "\n",
        "ranks_by_freq = rankStats(charFreq)\n",
        "ranks_by_length = rankStats(CharLengths)\n",
        "\n",
        "###### this is to check which characters did not appear in the text ######\n",
        "# for item in ranks_by_length:\n",
        "#     if item not in ranks_by_freq:\n",
        "#         print(item)\n",
        "\n",
        "del ranks_by_length['/']\n",
        "del ranks_by_length['?']\n",
        "print(kendalltau(list(ranks_by_freq.values()), list(ranks_by_length.values())))\n",
        "\n",
        "'''\n",
        "Discussion of results:\n",
        "\n",
        "The Kendalltau rank for both values is 0.947, which indicates a very high degree of correlation among the values.\n",
        "Alfred Vail wanted the most frequently occuring characters to have the lesser number of 'dits' and 'dahs'. Mathematically,\n",
        "this is a inverse relationship between frequency and length. Kendall Tau simply proved this. In the following cells,\n",
        "it is observed that in the ranks_by_freq dictionary the character '\\'' (single quote) has a rank 1 signifying that it occured the least \n",
        "in the text. When compared to the rank_by_length dictionary, the single quote character has a rank of 44, meaning that it has the largest\n",
        "sequence of morse code elements. \n",
        "\n",
        "If we are to look a the character 'e' from ranks_by_freq, it occured the most in the text with a rank of 44, and has the least number\n",
        "of characters, as shown by a rank of 1 in the ranks_by_length dictionary. A definite inverse relationship is proved by this exercise,\n",
        "which was the main aim of Vail's work.\n",
        "\n",
        "'''"
      ],
      "metadata": {
        "colab": {
          "base_uri": "https://localhost:8080/",
          "height": 105
        },
        "id": "bJenJZLduKu5",
        "outputId": "047675bf-56c6-4f10-8c29-2856488904c4"
      },
      "execution_count": 13,
      "outputs": [
        {
          "output_type": "stream",
          "name": "stdout",
          "text": [
            "KendalltauResult(correlation=0.9473374631730281, pvalue=1.3196172482038681e-17)\n"
          ]
        },
        {
          "output_type": "execute_result",
          "data": {
            "text/plain": [
              "\"\\nDiscussion of results:\\n\\nThe Kendalltau rank for both values is 0.947, which indicates a very high degree of correlation among the values.\\nAlfred Vail wanted the most frequently occuring characters to have the lesser number of 'dits' and 'dahs'. Mathematically,\\nthis is a inverse relationship between frequency and length. Kendall Tau simply proved this. In the following cells,\\nit is observed that in the ranks_by_freq dictionary the character ''' (single quote) has a rank 1 signifying that it occured the least \\nin the text. When compared to the rank_by_length dictionary, the single quote character has a rank of 44, meaning that it has the largest\\nsequence of morse code elements. \\n\\nIf we are to look a the character 'e' from ranks_by_freq, it occured the most in the text with a rank of 44, and has the least number\\nof characters, as shown by a rank of 1 in the ranks_by_length dictionary. A definite inverse relationship is proved by this exercise,\\nwhich was the main aim of Vail's work.\\n\\n\""
            ],
            "application/vnd.google.colaboratory.intrinsic+json": {
              "type": "string"
            }
          },
          "metadata": {},
          "execution_count": 13
        }
      ]
    },
    {
      "cell_type": "markdown",
      "source": [
        "For observation: "
      ],
      "metadata": {
        "id": "N_RCMRWrA-As"
      }
    },
    {
      "cell_type": "code",
      "source": [
        "# Q2 f\n",
        "ranks_by_freq"
      ],
      "metadata": {
        "colab": {
          "base_uri": "https://localhost:8080/"
        },
        "id": "mtiUx3ETW05m",
        "outputId": "2d45da45-fa1d-4aed-93cc-17dd64e10b15"
      },
      "execution_count": 12,
      "outputs": [
        {
          "output_type": "execute_result",
          "data": {
            "text/plain": [
              "{\"'\": 1.0,\n",
              " '8': 3.0,\n",
              " '9': 3.0,\n",
              " '\"': 3.0,\n",
              " '7': 5.0,\n",
              " '6': 6.5,\n",
              " '0': 6.5,\n",
              " '5': 8.0,\n",
              " '4': 9.0,\n",
              " '3': 10.0,\n",
              " ':': 11.0,\n",
              " '2': 12.0,\n",
              " '1': 13.5,\n",
              " 'z': 13.5,\n",
              " 'q': 15.5,\n",
              " 'k': 15.5,\n",
              " '-': 17.0,\n",
              " 'j': 18.0,\n",
              " ';': 19.0,\n",
              " 'x': 20.0,\n",
              " '.': 21.0,\n",
              " 'w': 22.0,\n",
              " 'g': 23.0,\n",
              " 'v': 24.0,\n",
              " 'y': 25.0,\n",
              " ',': 26.0,\n",
              " 'b': 27.0,\n",
              " 'm': 28.0,\n",
              " 'p': 29.0,\n",
              " 'u': 30.0,\n",
              " 'f': 31.0,\n",
              " 'c': 32.0,\n",
              " 'd': 33.0,\n",
              " 'l': 34.0,\n",
              " 'h': 35.0,\n",
              " 'r': 36.0,\n",
              " 'i': 37.0,\n",
              " 'n': 38.0,\n",
              " 'a': 39.0,\n",
              " 's': 40.0,\n",
              " 'o': 41.0,\n",
              " 't': 42.0,\n",
              " 'e': 43.0}"
            ]
          },
          "metadata": {},
          "execution_count": 12
        }
      ]
    },
    {
      "cell_type": "code",
      "source": [
        "# Q2 f\n",
        "ranks_by_length"
      ],
      "metadata": {
        "colab": {
          "base_uri": "https://localhost:8080/"
        },
        "id": "nQdsjYItwsYv",
        "outputId": "da55cdc3-f4d6-42df-fa5a-e1d88bfd6166"
      },
      "execution_count": 13,
      "outputs": [
        {
          "output_type": "execute_result",
          "data": {
            "text/plain": [
              "{'e': 1.0,\n",
              " 'i': 2.5,\n",
              " 't': 2.5,\n",
              " 'a': 5.0,\n",
              " 'n': 5.0,\n",
              " 's': 5.0,\n",
              " 'd': 9.0,\n",
              " 'h': 9.0,\n",
              " 'm': 9.0,\n",
              " 'r': 9.0,\n",
              " 'u': 9.0,\n",
              " 'b': 15.5,\n",
              " 'f': 15.5,\n",
              " 'g': 15.5,\n",
              " 'k': 15.5,\n",
              " 'l': 15.5,\n",
              " 'v': 15.5,\n",
              " 'w': 15.5,\n",
              " '5': 15.5,\n",
              " 'c': 23.0,\n",
              " 'o': 23.0,\n",
              " 'p': 23.0,\n",
              " 'x': 23.0,\n",
              " 'z': 23.0,\n",
              " '4': 23.0,\n",
              " '6': 23.0,\n",
              " 'j': 29.5,\n",
              " 'q': 29.5,\n",
              " 'y': 29.5,\n",
              " '3': 29.5,\n",
              " '7': 29.5,\n",
              " '2': 35.0,\n",
              " '8': 35.0,\n",
              " '-': 35.0,\n",
              " '\"': 35.0,\n",
              " '1': 40.0,\n",
              " '9': 40.0,\n",
              " '.': 40.0,\n",
              " ';': 40.0,\n",
              " ':': 40.0,\n",
              " '0': 44.0,\n",
              " ',': 44.0,\n",
              " \"'\": 44.0}"
            ]
          },
          "metadata": {},
          "execution_count": 13
        }
      ]
    },
    {
      "cell_type": "code",
      "source": [
        "# Q3 a \n",
        "\n",
        "'''\n",
        "Algorithm:\n",
        "1. check if string length is 1, and is present is a key in the Morse dict\n",
        "2. If yes, return the string length from Morse Length\n",
        "3. Otherwise, start two counters to keep track of string length and space count\n",
        "4. strip trailing spaces, list out the string and iterate \n",
        "5. if a space is found, signifying space between two words - add 7 to string length and add 1 to space count\n",
        "6. else add the out of the MorseLength function with 3 added to it (to account for 3 dits after every character)\n",
        "7. since the 3 is adde to every character regardless of end of word or end of string, we deduct it from the \n",
        "final string length value -> 1 for the end of string, and for every space between words. \n",
        "'''\n",
        "\n",
        "\n",
        "def MorseStringLength(s, M):\n",
        "    if (len(s.strip()) == 1) and (s in Morse):\n",
        "        return MorseLength(s, Morse)\n",
        "    else:\n",
        "        string_length = 0\n",
        "        space_count = 0 \n",
        "        for item in list(s.strip()):\n",
        "            if item == ' ':\n",
        "                string_length += 7\n",
        "                space_count += 1\n",
        "            else:\n",
        "                string_length += MorseLength(item, Morse) + 3\n",
        "                \n",
        "        return string_length - (3*(space_count+1))\n",
        "\n",
        "MorseStringLength('my tea ', Morse)\n",
        "\n"
      ],
      "metadata": {
        "colab": {
          "base_uri": "https://localhost:8080/"
        },
        "id": "DoNHlXd4wwdc",
        "outputId": "4a36d276-6331-4ca4-d1c4-08ce4f151169"
      },
      "execution_count": 14,
      "outputs": [
        {
          "output_type": "execute_result",
          "data": {
            "text/plain": [
              "45"
            ]
          },
          "metadata": {},
          "execution_count": 14
        }
      ]
    },
    {
      "cell_type": "code",
      "source": [
        "# Q3 b\n",
        "\n",
        "\n",
        "'''\n",
        "Algorithm: \n",
        "\n",
        "Duration of a dit in 1.2/word_speed, multiplied by the total length of the string in terms of dits gives the total \n",
        "time to transmit a string in morse.\n",
        "\n",
        "'''\n",
        "\n",
        "def MorseTime(s, S):\n",
        "    \n",
        "    return (1.2 / S) * MorseStringLength(s.strip().lower(), Morse)\n",
        "\n",
        "MorseTime('Welcome to Ireland', 20)"
      ],
      "metadata": {
        "id": "R8RqJXLjh5bJ",
        "outputId": "5dc43da1-bd86-4e5a-9c65-1e86349a04ba",
        "colab": {
          "base_uri": "https://localhost:8080/"
        }
      },
      "execution_count": 15,
      "outputs": [
        {
          "output_type": "execute_result",
          "data": {
            "text/plain": [
              "9.18"
            ]
          },
          "metadata": {},
          "execution_count": 15
        }
      ]
    },
    {
      "cell_type": "code",
      "source": [
        "# Q3 c\n",
        "\n",
        "'''\n",
        "\n",
        "Algorithm:\n",
        "1. Find all words with only sequence of alphabets wit regex and return a list\n",
        "2. Iterate through the list of words\n",
        "3. Add time duration for sending each word by calling the MorseTime function\n",
        "\n",
        "'''\n",
        "def WordTime(s, S):\n",
        "    pattern = r'\\b[^\\W\\d_]+\\b'\n",
        "    text = re.findall(pattern,s)\n",
        "    time_duration = []\n",
        "    for item in text:\n",
        "        time_duration.append(MorseTime(item,S))\n",
        "    return time_duration\n",
        "\n",
        "WordTime('Welcome to Ireland', 15)"
      ],
      "metadata": {
        "id": "dTfb14K9IqIC",
        "outputId": "f88907ee-82f2-4512-f990-af310e13879a",
        "colab": {
          "base_uri": "https://localhost:8080/"
        }
      },
      "execution_count": 16,
      "outputs": [
        {
          "output_type": "execute_result",
          "data": {
            "text/plain": [
              "[5.36, 1.36, 4.4]"
            ]
          },
          "metadata": {},
          "execution_count": 16
        }
      ]
    },
    {
      "cell_type": "code",
      "source": [
        "# Q3 d\n",
        "\n",
        "'''\n",
        "\n",
        "Algorithm:\n",
        "1. read the file and grab all sentences\n",
        "2. filter for alphanumeric words in a list of all words with regex\n",
        "3. iterate through the words and grab duration by calling WordTime function from previous question\n",
        "4. grab durations for all the words and send to numpy.histogram method\n",
        "5. return bin_edges and counts as a tuple\n",
        "\n",
        "'''\n",
        "\n",
        "\n",
        "\n",
        "def MorseFileStats(fname, S, N):\n",
        "    with open(fname, 'r') as f:\n",
        "        sentences = f.readlines()\n",
        "        f.close()\n",
        "\n",
        "    pattern = '[a-zA-Z]+[a-zA-Z]+|| [A-Za-z]+[0-9]+'\n",
        "    words = re.findall(pattern, sentences[0])\n",
        "    time_count = []\n",
        "    for item in words: \n",
        "        if item == '':\n",
        "            continue\n",
        "        else: \n",
        "            time_count.append(WordTime(item, S))\n",
        "    time_counts = []\n",
        "    for item in time_count:\n",
        "        time_counts.append(item[0])\n",
        "    B, H = np.histogram(time_counts, bins = N)\n",
        "    return (H, B) # H ~ bin edges, B ~ counts"
      ],
      "metadata": {
        "id": "2z7M7V8tPn_H"
      },
      "execution_count": 48,
      "outputs": []
    },
    {
      "cell_type": "code",
      "source": [
        "# Q3 e\n",
        "\n",
        "'''\n",
        "\n",
        "Algorithm:\n",
        "1. grab the two files inside textfiles\n",
        "2. create the file paths and add to file_names folder\n",
        "3. create 1*3 subplots \n",
        "4. grab all the bin edges and counts from MorseFileStats function\n",
        "5. Plot \n",
        "\n",
        "** Second file charts are in the next code cell. \n",
        "\n",
        "'''\n",
        "\n",
        "\n",
        "testfilespath = '/content/textfiles/'\n",
        "file_names = []\n",
        "for item in os.listdir(testfilespath):\n",
        "    file_names.append(os.path.join(testfilespath,item))\n",
        "\n",
        "\n",
        "fig, ax = plt.subplots(1,3, tight_layout=True, figsize=(12,6))\n",
        "bin_edges, counts = MorseFileStats(file_names[0], S=15,N=15)\n",
        "bin_edges_1, counts_1 = MorseFileStats(file_names[0], S=20,N=15)\n",
        "bin_edges_2, counts_2 = MorseFileStats(file_names[0], S=25,N=15)\n",
        "\n",
        "\n",
        "bin_edges_3, counts_3 = MorseFileStats(file_names[1], S=15,N=15)\n",
        "bin_edges_4, counts_4 = MorseFileStats(file_names[1], S=20,N=15)\n",
        "bin_edges_5, counts_5 = MorseFileStats(file_names[1], S=25,N=15)\n",
        "\n",
        "ax[0].bar(x=bin_edges[:-1], height=counts, width=np.diff(bin_edges), align='edge', fc='green', ec='black')\n",
        "ax[0].set_xlabel('S=15')\n",
        "ax[1].bar(x=bin_edges_1[:-1], height=counts_1, width=np.diff(bin_edges_1), align='edge', fc='red', ec='black')\n",
        "ax[1].set_xlabel('S=20')\n",
        "ax[2].bar(x=bin_edges_2[:-1], height=counts_2, width=np.diff(bin_edges_2), align='edge', fc='darkblue', ec='black')\n",
        "ax[2].set_xlabel('S=25')\n",
        "\n",
        "plt.show()\n"
      ],
      "metadata": {
        "id": "cE6AbLqTMmJk",
        "outputId": "67544e82-b396-4f84-bc52-525fece19ae6",
        "colab": {
          "base_uri": "https://localhost:8080/",
          "height": 441
        }
      },
      "execution_count": 63,
      "outputs": [
        {
          "output_type": "display_data",
          "data": {
            "text/plain": [
              "<Figure size 864x432 with 3 Axes>"
            ],
            "image/png": "[encoded data removed]"
          },
          "metadata": {
            "needs_background": "light"
          }
        }
      ]
    },
    {
      "cell_type": "code",
      "source": [
        "# Q3 e\n",
        "\n",
        "'''\n",
        "Algorithm: same as before\n",
        "'''\n",
        "\n",
        "fig, ax = plt.subplots(1,3, tight_layout=True, figsize=(12,6))\n",
        "\n",
        "bin_edges, counts = MorseFileStats(file_names[1], S=15,N=15)\n",
        "bin_edges_1, counts_1 = MorseFileStats(file_names[1], S=20,N=15)\n",
        "bin_edges_2, counts_2 = MorseFileStats(file_names[1], S=25,N=15)\n",
        "\n",
        "ax[0].bar(x=bin_edges[:-1], height=counts, width=np.diff(bin_edges), align='edge', fc='green', ec='black')\n",
        "ax[0].set_xlabel('S=15')\n",
        "ax[1].bar(x=bin_edges_1[:-1], height=counts_1, width=np.diff(bin_edges_1), align='edge', fc='red', ec='black')\n",
        "ax[1].set_xlabel('S=20')\n",
        "ax[2].bar(x=bin_edges_2[:-1], height=counts_2, width=np.diff(bin_edges_2), align='edge', fc='darkblue', ec='black')\n",
        "ax[2].set_xlabel('S=25')\n",
        "\n",
        "plt.show()"
      ],
      "metadata": {
        "id": "UH8ZYurFQ-S3",
        "outputId": "5eaa9867-bc50-47a0-d349-9431b15e41e4",
        "colab": {
          "base_uri": "https://localhost:8080/",
          "height": 441
        }
      },
      "execution_count": 68,
      "outputs": [
        {
          "output_type": "display_data",
          "data": {
            "text/plain": [
              "<Figure size 864x432 with 3 Axes>"
            ],
            "image/png": "[encoded data removed]"
          },
          "metadata": {
            "needs_background": "light"
          }
        }
      ]
    }
  ]
}