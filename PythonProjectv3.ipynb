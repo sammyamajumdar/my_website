{
  "nbformat": 4,
  "nbformat_minor": 0,
  "metadata": {
    "colab": {
      "provenance": [],
      "authorship_tag": "ABX9TyN+Kfqfl00T77/LhHROZeH9",
      "include_colab_link": true
    },
    "kernelspec": {
      "name": "python3",
      "display_name": "Python 3"
    },
    "language_info": {
      "name": "python"
    }
  },
  "cells": [
    {
      "cell_type": "markdown",
      "metadata": {
        "id": "view-in-github",
        "colab_type": "text"
      },
      "source": [
        "<a href=\"https://colab.research.google.com/github/sammyamajumdar/my_website/blob/main/PythonProjectv3.ipynb\" target=\"_parent\"><img src=\"https://colab.research.google.com/assets/colab-badge.svg\" alt=\"Open In Colab\"/></a>"
      ]
    },
    {
      "cell_type": "code",
      "source": [
        "'''\n",
        "Task 1: \n",
        "\n",
        "morse file -> text file -> every row -> character and its corresponding morse code. \n",
        "\n",
        "// Read the file\n",
        "// Create the dictionary in the same format -> morseDict\n",
        "\n",
        "\n",
        "Task 2: \n",
        "\n",
        "//  Create a morse2text function -> input: TEXT output: morse code\n",
        "//  Assume 4 lines of text in the string \n",
        "// code = ''\n",
        "//  for line in string: \n",
        "        for word in line: \n",
        "//          chars= list(word) -> individual characters of the words // text == [t, e, x, t]\n",
        "//          for char in chars: \n",
        "//              if char in morseDict and not == ' ': \n",
        "//                  code += morseDict[char]\n",
        "//              if char == ' ': \n",
        "//                  code += '    '  \n",
        "                elif char not in morseDict: \n",
        "                    code += '   '\n",
        "//   return code + '    '\n",
        "\n",
        "Task 3: \n",
        "\n",
        "// Read folder -> read files -> read all the text lines from those files\n",
        "// encode everything in morse\n",
        "// save to morsefiles \n",
        "// files names should be same as original except morse added to end -> file.txt -> file_Morse.txt\n",
        "\n",
        "x = open(filename, r) \n",
        "sentences = x.readlines() // all the lines from the text file\n",
        "\n",
        "for sentence in sentences: \n",
        "    text2morse(sentence) \n",
        "\n",
        "// logic to write to files and save with custom file names. \n",
        "\n",
        "Task 4: \n",
        "\n",
        "// morse2text function\n",
        "// def morse2text(morse_code): \n",
        "//      morseDict.getitem()\n",
        "//      for item in morse_code: \n",
        "//          text_string += morse_code[key]\n",
        "//      return text_string\n",
        "\n",
        "Task 5: \n",
        "\n",
        "// Convert simple_story_Morse.txt to text\n",
        "\n",
        "Task 6: \n",
        "\n",
        "// Prove text2morse and morse2text doesnt modify information \n",
        "// input_text -> (text2morse) morse (morse2text) -> output_text\n",
        "// show that input_text == output_text\n",
        "\n",
        "'''"
      ],
      "metadata": {
        "id": "sO_bC-doLLmf",
        "colab": {
          "base_uri": "https://localhost:8080/",
          "height": 105
        },
        "outputId": "75e4f4a3-6adc-48de-e26a-ca9980eb19f8"
      },
      "execution_count": 1,
      "outputs": [
        {
          "output_type": "execute_result",
          "data": {
            "text/plain": [
              "\"\\nTask 1: \\n\\nmorse file -> text file -> every row -> character and its corresponding morse code. \\n\\n// Read the file\\n// Create the dictionary in the same format -> morseDict\\n\\n\\nTask 2: \\n\\n//  Create a morse2text function -> input: TEXT output: morse code\\n//  Assume 4 lines of text in the string \\n// code = ''\\n//  for line in string: \\n        for word in line: \\n//          chars= list(word) -> individual characters of the words // text == [t, e, x, t]\\n//          for char in chars: \\n//              if char in morseDict and not == ' ': \\n//                  code += morseDict[char]\\n//              if char == ' ': \\n//                  code += '    '  \\n                elif char not in morseDict: \\n                    code += '   '\\n//   return code + '    '\\n\\nTask 3: \\n\\n// Read folder -> read files -> read all the text lines from those files\\n// encode everything in morse\\n// save to morsefiles \\n// files names should be same as original except morse added to end -> file.txt -> file_Morse.txt\\n\\nx = open(filename, r) \\nsentences = x.readlines() // all the lines from the text file\\n\\nfor sentence in sentences: \\n    text2morse(sentence) \\n\\n// logic to write to files and save with custom file names. \\n\\nTask 4: \\n\\n// morse2text function\\n// def morse2text(morse_code): \\n//      morseDict.getitem()\\n//      for item in morse_code: \\n//          text_string += morse_code[key]\\n//      return text_string\\n\\nTask 5: \\n\\n// Convert simple_story_Morse.txt to text\\n\\nTask 6: \\n\\n// Prove text2morse and morse2text doesnt modify information \\n// input_text -> (text2morse) morse (morse2text) -> output_text\\n// show that input_text == output_text\\n\\n\""
            ],
            "application/vnd.google.colaboratory.intrinsic+json": {
              "type": "string"
            }
          },
          "metadata": {},
          "execution_count": 1
        }
      ]
    },
    {
      "cell_type": "code",
      "source": [
        "import os"
      ],
      "metadata": {
        "id": "X2u5lfZubopj"
      },
      "execution_count": 2,
      "outputs": []
    },
    {
      "cell_type": "code",
      "source": [
        "# Q1 a\n",
        "\n",
        "PATH = '/content/MorseCode.txt'\n",
        "# morse code function -> read file and create Morse dict -> char : code\n",
        "\n",
        "def read_morse_file(path): \n",
        "    filepath = path\n",
        "    with open(filepath, 'r') as f: \n",
        "        code = f.readlines()\n",
        "        f.close()\n",
        "    return code\n",
        "\n",
        "def Morse(path): \n",
        "    morseDict = {}\n",
        "    code = read_morse_file(path)\n",
        "    for item in code: \n",
        "        item = item.strip()\n",
        "        if item not in morseDict:\n",
        "            morseDict[item[0]] = item[2:]\n",
        "    \n",
        "    return morseDict\n",
        "Morse = Morse(PATH)\n",
        "Morse"
      ],
      "metadata": {
        "id": "KkmPOsF8YOTQ",
        "colab": {
          "base_uri": "https://localhost:8080/"
        },
        "outputId": "d111f92e-ea2e-4532-8d24-1a9b1d0be5c1"
      },
      "execution_count": 15,
      "outputs": [
        {
          "output_type": "execute_result",
          "data": {
            "text/plain": [
              "{'A': '.-',\n",
              " 'B': '-...',\n",
              " 'C': '-.-.',\n",
              " 'D': '-..',\n",
              " 'E': '.',\n",
              " 'F': '..-.',\n",
              " 'G': '--.',\n",
              " 'H': '....',\n",
              " 'I': '..',\n",
              " 'J': '.---',\n",
              " 'K': '-.-',\n",
              " 'L': '.-..',\n",
              " 'M': '--',\n",
              " 'N': '-.',\n",
              " 'O': '---',\n",
              " 'P': '.--.',\n",
              " 'Q': '--.-',\n",
              " 'R': '.-.',\n",
              " 'S': '...',\n",
              " 'T': '-',\n",
              " 'U': '..-',\n",
              " 'V': '...-',\n",
              " 'W': '.--',\n",
              " 'X': '-..-',\n",
              " 'Y': '-.--',\n",
              " 'Z': '--..',\n",
              " '0': '-----',\n",
              " '1': '.----',\n",
              " '2': '..---',\n",
              " '3': '...--',\n",
              " '4': '....-',\n",
              " '5': '.....',\n",
              " '6': '-....',\n",
              " '7': '--...',\n",
              " '8': '---..',\n",
              " '9': '----.',\n",
              " '.': '.-.-.-',\n",
              " ',': '--..--',\n",
              " '?': '..--..',\n",
              " '-': '-....-',\n",
              " '/': '-..-.',\n",
              " ';': '-.-.-.',\n",
              " ':': '---...',\n",
              " '\"': '.-..-.',\n",
              " \"'\": '.----.'}"
            ]
          },
          "metadata": {},
          "execution_count": 15
        }
      ]
    },
    {
      "cell_type": "code",
      "source": [
        "# Q1 b\n",
        "\n",
        "# create text2Morse func\n",
        "\n",
        "def text2Morse(s): \n",
        "        \n",
        "    morse_code = ''\n",
        "    for item in list(s.upper()): \n",
        "        if item not in Morse: \n",
        "            morse_code += '   '\n",
        "        elif item == ' ': \n",
        "            morse_code += '   '\n",
        "        else: \n",
        "            morse_code += Morse[item] + ' '\n",
        "\n",
        "    return  morse_code + '   '\n",
        "\n",
        "test_string = 'Take care, my friend'\n",
        "output_string = text2Morse(test_string)\n",
        "true_string = \"- .- -.- .    -.-. .- .-. . --..--    -- -.--    ..-. .-. .. . -. -..    \"\n",
        "print(output_string == true_string)"
      ],
      "metadata": {
        "colab": {
          "base_uri": "https://localhost:8080/"
        },
        "id": "9hdDsREwEdGF",
        "outputId": "26748b59-dddc-4497-c7ae-5abd73c876f7"
      },
      "execution_count": 4,
      "outputs": [
        {
          "output_type": "stream",
          "name": "stdout",
          "text": [
            "True\n"
          ]
        }
      ]
    },
    {
      "cell_type": "code",
      "source": [
        "# Q1 c\n",
        "path = '/content/textfiles/'\n",
        "output = os.mkdir('morsefiles')\n",
        "output_path = '/content/morsefiles'\n",
        "for item in os.listdir(path): \n",
        "    with open(path+item, 'r') as f: \n",
        "        sentences = f.readlines()\n",
        "        f.close()\n",
        "    for sentence in sentences: \n",
        "        morse_code = text2Morse(sentence)\n",
        "        with open(os.path.join(output_path, item[:-4]+'_Morse.txt'), 'x') as f:\n",
        "            f.write(morse_code)\n",
        "    f.close()"
      ],
      "metadata": {
        "id": "280lpjsDWR0R"
      },
      "execution_count": 5,
      "outputs": []
    },
    {
      "cell_type": "code",
      "source": [
        "# Q1 d \n",
        "\n",
        "# create morse2text func\n",
        "\n",
        "def morse2text(s):\n",
        "    s = s.strip()  # eliminate trailing white spaces\n",
        "    s = s.split('    ') # create a list of words in a sentence\n",
        "    word = ''\n",
        "    sentence = []\n",
        "    textMorseDict = dict((v,k) for k,v in Morse.items()) # dictionary where morse : char\n",
        "    for item in s: \n",
        "        item = item.split(' ') # split by characters\n",
        "        for j in item: \n",
        "            word += textMorseDict[j] # add characters corresponding to morse \n",
        "        sentence.append(word) \n",
        "        word = ''\n",
        "    return \" \".join(sentence).lower() \n",
        "s = \"- .- -.- .    -.-. .- .-. . --..--    -- -.--    ..-. .-. .. . -. -.. \"\n",
        "morse2text(s)\n"
      ],
      "metadata": {
        "colab": {
          "base_uri": "https://localhost:8080/",
          "height": 35
        },
        "id": "xMrS1P4bHDcU",
        "outputId": "5d5e87c2-5afe-4218-e976-354341427736"
      },
      "execution_count": 6,
      "outputs": [
        {
          "output_type": "execute_result",
          "data": {
            "text/plain": [
              "'take care, my friend'"
            ],
            "application/vnd.google.colaboratory.intrinsic+json": {
              "type": "string"
            }
          },
          "metadata": {},
          "execution_count": 6
        }
      ]
    },
    {
      "cell_type": "code",
      "source": [
        "# Q1 e\n",
        "\n",
        "# check morse2text func\n",
        "path = '/content/simple_story_Morse.txt'\n",
        "with open(path, 'r') as f: \n",
        "    morse_code = f.readlines()\n",
        "    f.close()\n",
        "\n",
        "print(morse2text(morse_code[0]))\n"
      ],
      "metadata": {
        "colab": {
          "base_uri": "https://localhost:8080/"
        },
        "id": "igkEAxfxWdDI",
        "outputId": "298721a1-afff-41e8-b586-6f02b5b5a8c8"
      },
      "execution_count": 16,
      "outputs": [
        {
          "output_type": "stream",
          "name": "stdout",
          "text": [
            "there was once a sweet little maid who lived with her father and mother in a pretty little cottage at the edge of the village. at the further end of the wood was another pretty cottage and in it lived her grandmother. everybody loved this little girl, her grandmother perhaps loved her most of all and gave her a great many pretty things. once she gave her a red cloak with a hood which she always wore, so people called her little red riding hood.\n"
          ]
        }
      ]
    },
    {
      "cell_type": "code",
      "source": [
        "# Q1 f\n",
        "\n",
        "# test if both functions are correctly working\n",
        "testfilespath = '/content/textfiles/'\n",
        "def testMorseFunc(testFilesPath):\n",
        "     texts = []\n",
        "     for item in os.listdir(testFilesPath):\n",
        "         with open(testFilesPath+item, 'r') as f: \n",
        "             sentence  = f.readlines()\n",
        "             f.close()\n",
        "         texts.append(sentence)\n",
        "     # first text file comparision\n",
        "     morse_output = text2Morse(texts[0][0])\n",
        "     text_output = morse2text(morse_output)\n",
        "     print('First text file check: ')\n",
        "     print(text_output == texts[0][0].lower().strip())\n",
        "\n",
        "     # second text file comparision\n",
        "     morse_output = text2Morse(texts[1][0])\n",
        "     text_output = morse2text(morse_output)\n",
        "     print('Second text file check: ')\n",
        "    #  print(text_output == texts[1][0].upper().strip())\n",
        "    # print(text_output)\n",
        "     print(text_output == texts[1][0].lower().strip())\n",
        "     \n",
        "     \n",
        "testMorseFunc(testfilespath)\n"
      ],
      "metadata": {
        "colab": {
          "base_uri": "https://localhost:8080/"
        },
        "id": "3Djrh5yiYu3h",
        "outputId": "07025880-12c4-4c58-82cd-7ab96f1dca84"
      },
      "execution_count": 23,
      "outputs": [
        {
          "output_type": "stream",
          "name": "stdout",
          "text": [
            "First text file check: \n",
            "True\n",
            "Second text file check: \n",
            "True\n"
          ]
        }
      ]
    },
    {
      "cell_type": "code",
      "source": [],
      "metadata": {
        "id": "7S21j4Xjz72Z"
      },
      "execution_count": null,
      "outputs": []
    }
  ]
}